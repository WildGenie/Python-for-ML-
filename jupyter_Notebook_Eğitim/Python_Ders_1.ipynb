{
  "nbformat": 4,
  "nbformat_minor": 0,
  "metadata": {
    "colab": {
      "name": "Python Ders 1.ipynb",
      "provenance": []
    },
    "kernelspec": {
      "name": "python3",
      "display_name": "Python 3"
    },
    "language_info": {
      "name": "python"
    }
  },
  "cells": [
    {
      "cell_type": "markdown",
      "metadata": {
        "id": "Valb42YA7sju"
      },
      "source": [
        "TEMEL PYTHON DERSİNE HOŞGELDİNİZ @orkunteke \n",
        "\n",
        "Python İndirmek İçin: https://www.python.org/downloads/\n",
        "\n",
        "Anaconda: https://www.anaconda.com/products/individual\n",
        "\n",
        "Integer: Normal Sayısal İfadeleri temsil eder. \n",
        "Float: Ondalıklı Sayıları Genel Olarak İfade Eder \n",
        "String: Genellikle Sayısal olmayan ifadeleri betimler. \n",
        "\n",
        "Türkçe Karakterler Kullanılamaz (ı, ö, ç, ğ, ş, ü vb.) \n",
        "Örnek: sayi, unal,\n",
        "\n"
      ]
    },
    {
      "cell_type": "code",
      "metadata": {
        "colab": {
          "base_uri": "https://localhost:8080/"
        },
        "id": "R2vN36XUD_jA",
        "outputId": "28d40e13-72a8-4662-e37a-418a32321263"
      },
      "source": [
        "a= 2 \n",
        "\n",
        "print(type(2))"
      ],
      "execution_count": null,
      "outputs": [
        {
          "output_type": "stream",
          "text": [
            "<class 'int'>\n"
          ],
          "name": "stdout"
        }
      ]
    },
    {
      "cell_type": "code",
      "metadata": {
        "colab": {
          "base_uri": "https://localhost:8080/"
        },
        "id": "4uh7rW_QEpNq",
        "outputId": "f51d7740-5a4f-4cb3-a159-c6cb62f6f607"
      },
      "source": [
        "b = 5.0\n",
        "type(b)\n",
        "print (type(b))"
      ],
      "execution_count": null,
      "outputs": [
        {
          "output_type": "stream",
          "text": [
            "<class 'float'>\n"
          ],
          "name": "stdout"
        }
      ]
    },
    {
      "cell_type": "code",
      "metadata": {
        "colab": {
          "base_uri": "https://localhost:8080/"
        },
        "id": "Ay-aaP3NFA6Q",
        "outputId": "2dfd1c9e-5d1d-4141-9995-92b7f047fb0e"
      },
      "source": [
        "#5 ve 7.8' i toplayan mini ölçekli program \n",
        "print(5+7.8)\n",
        "print (type(5+7.8))\n",
        "\n",
        "print ('ğ,ş')\n",
        "\n"
      ],
      "execution_count": null,
      "outputs": [
        {
          "output_type": "stream",
          "text": [
            "12.8\n",
            "<class 'float'>\n",
            "ğ,ş\n"
          ],
          "name": "stdout"
        }
      ]
    },
    {
      "cell_type": "code",
      "metadata": {
        "colab": {
          "base_uri": "https://localhost:8080/"
        },
        "id": "5z1ghxqWFrhP",
        "outputId": "c6520884-e5a4-49a6-e035-a10c50e36446"
      },
      "source": [
        "c=3 \n",
        "print (float(c))\n",
        "\n"
      ],
      "execution_count": null,
      "outputs": [
        {
          "output_type": "stream",
          "text": [
            "3.0\n"
          ],
          "name": "stdout"
        }
      ]
    },
    {
      "cell_type": "code",
      "metadata": {
        "colab": {
          "base_uri": "https://localhost:8080/"
        },
        "id": "5ufQEpb8GDAk",
        "outputId": "692aa395-055a-4a09-97ac-cec7581f83e4"
      },
      "source": [
        "d=10\n",
        "e=\"15\" #String İfadesi olduğunu ifade eder. String genel olarak \"Sözel ifadeleri veya sayısal olmayan diğer değişkenleri tanımlar.\"\n",
        "print (d+int(e))\n",
        "\n",
        "type (e)"
      ],
      "execution_count": null,
      "outputs": [
        {
          "output_type": "stream",
          "text": [
            "25\n"
          ],
          "name": "stdout"
        },
        {
          "output_type": "execute_result",
          "data": {
            "text/plain": [
              "str"
            ]
          },
          "metadata": {
            "tags": []
          },
          "execution_count": 28
        }
      ]
    },
    {
      "cell_type": "code",
      "metadata": {
        "colab": {
          "base_uri": "https://localhost:8080/"
        },
        "id": "vKDmmPwlHGd4",
        "outputId": "890f1644-9e9f-4dc4-d095-a512539db0d2"
      },
      "source": [
        "sayi1=10\n",
        "sayi2=2\n",
        "\n",
        "#sayi1*sayi2\n",
        "\n",
        "print (\"sayi1 ve sayi2'nin carpimi\" , sayi1*sayi2,\"dir.\")\n",
        "#sayi1 ve sayi2'nin carpimi 20 dir."
      ],
      "execution_count": null,
      "outputs": [
        {
          "output_type": "stream",
          "text": [
            "sayi1 ve sayi2'nin carpimi 20 dir.\n"
          ],
          "name": "stdout"
        }
      ]
    },
    {
      "cell_type": "code",
      "metadata": {
        "colab": {
          "base_uri": "https://localhost:8080/"
        },
        "id": "pcgwUsbXIDzu",
        "outputId": "4a1020d0-2b67-4a7c-9004-6e0b2272c561"
      },
      "source": [
        "#BASİT MATEMATİKSEL İŞLEMLER \n",
        "#MATEMATİKSEL İŞLEMLER (TOPLAMA (+), ÇIKARMA (-), ÇARPMA (*), BÖLME (/))\n",
        "\n",
        "print (3+4)"
      ],
      "execution_count": null,
      "outputs": [
        {
          "output_type": "stream",
          "text": [
            "7\n"
          ],
          "name": "stdout"
        }
      ]
    },
    {
      "cell_type": "code",
      "metadata": {
        "colab": {
          "base_uri": "https://localhost:8080/"
        },
        "id": "fq0wWgKvKEPY",
        "outputId": "e7bdf077-be6e-4a80-d63f-60ca8bab1eb8"
      },
      "source": [
        "print (9-6)\n",
        "\n",
        "print (9.2-6)"
      ],
      "execution_count": null,
      "outputs": [
        {
          "output_type": "stream",
          "text": [
            "3\n",
            "3.1999999999999993\n"
          ],
          "name": "stdout"
        }
      ]
    },
    {
      "cell_type": "code",
      "metadata": {
        "colab": {
          "base_uri": "https://localhost:8080/"
        },
        "id": "KbPQJBIEKHRX",
        "outputId": "7949e860-a23e-4d10-91da-2cf4479d25f8"
      },
      "source": [
        "print (9*3)\n",
        "\n",
        "print (int(9/3))\n",
        "\n",
        "#print (8/3)\n",
        "print (8//3) #İki tane bölü işareti yanyana konursa tam sayı değerini ekrana yazdırır. "
      ],
      "execution_count": null,
      "outputs": [
        {
          "output_type": "stream",
          "text": [
            "27\n",
            "3\n",
            "2\n"
          ],
          "name": "stdout"
        }
      ]
    },
    {
      "cell_type": "code",
      "metadata": {
        "colab": {
          "base_uri": "https://localhost:8080/"
        },
        "id": "Szno9pOJK4Ta",
        "outputId": "15dadc30-7748-4193-c34d-2839ca3110e6"
      },
      "source": [
        "print(type(10/5))  # <class 'float'>"
      ],
      "execution_count": null,
      "outputs": [
        {
          "output_type": "stream",
          "text": [
            "<class 'float'>\n"
          ],
          "name": "stdout"
        }
      ]
    },
    {
      "cell_type": "code",
      "metadata": {
        "colab": {
          "base_uri": "https://localhost:8080/"
        },
        "id": "c5kHcc4OK-0X",
        "outputId": "8e0621c2-433e-443c-8589-acf714887790"
      },
      "source": [
        "f =2 \n",
        "\n",
        "g= 3 \n",
        "\n",
        "h= 10\n",
        "\n",
        "i= 15\n",
        "\n",
        "#(f*g)-(i/h)\n",
        "\n",
        "#f/g*h\n",
        "\n",
        "#print (f+1)\n",
        "#print ('EsraÇetin')"
      ],
      "execution_count": null,
      "outputs": [
        {
          "output_type": "stream",
          "text": [
            "EsraÇetin\n"
          ],
          "name": "stdout"
        }
      ]
    },
    {
      "cell_type": "code",
      "metadata": {
        "colab": {
          "base_uri": "https://localhost:8080/"
        },
        "id": "Pz5dmKHYMNYi",
        "outputId": "8df7a586-23c1-46d9-8d21-da7f33eb4152"
      },
      "source": [
        "isim = (input('İsminiz:'))\n",
        "soyisim = (input ('Soyisim:'))\n",
        "yas = int(input('Yaşınız:'))"
      ],
      "execution_count": null,
      "outputs": [
        {
          "output_type": "stream",
          "text": [
            "İsminiz:Orkun ,\n",
            "Soyisim:TEKE\n",
            "Yaşınız:18\n"
          ],
          "name": "stdout"
        }
      ]
    }
  ]
}