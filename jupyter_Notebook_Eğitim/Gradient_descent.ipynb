{
  "nbformat": 4,
  "nbformat_minor": 0,
  "metadata": {
    "colab": {
      "name": "Gradient_descent.ipynb",
      "provenance": [],
      "collapsed_sections": [],
      "toc_visible": true
    },
    "kernelspec": {
      "name": "python3",
      "display_name": "Python 3"
    }
  },
  "cells": [
    {
      "cell_type": "markdown",
      "metadata": {
        "id": "sbR8Kca3bPmJ"
      },
      "source": [
        "#DERS 15- GRADIENT DESCENT ALGORITHM\n",
        "\n",
        "Bu algoritma, makine öğrenmesi alanında popüler bir yöntemdir, çünkü makine öğrenmesinin amaçlarından biri, eğitim verisi göz önüne alındığında, en yüksek doğruluğu bulmak veya hata oranını en aza indirmektir. Gradyan inişi “maliyet fonksiyonunu“en aza indirgeyerek asgari hatayı bulmak için kullanılır.\n",
        "\n",
        "Öğrenme Katsayısı (α) Seçme:\n",
        "- Küçük α – yavaş yakınsama\n",
        "- Büyük α –ileri geri yakınsama\n",
        "- İyi bir α seçmek için, birkaç α değerini denemek lazım\n",
        "Bu değerler için, dereceli azaltma metodunu çalıştırıp performansını incelemek lazım"
      ]
    },
    {
      "cell_type": "code",
      "metadata": {
        "id": "YmcJkYLMbLN1"
      },
      "source": [
        "# Required Libraries\n",
        "\n",
        "import pandas as pd\n",
        "import numpy as np\n",
        "import matplotlib.pyplot as plt\n",
        "\n",
        "\n",
        "# Increase Visualizer\n",
        "plt.rcParams['figure.figsize'] = [15,7]"
      ],
      "execution_count": null,
      "outputs": []
    },
    {
      "cell_type": "code",
      "metadata": {
        "id": "OsKzVKTzbioK",
        "colab": {
          "base_uri": "https://localhost:8080/",
          "height": 204
        },
        "outputId": "1bd89eae-82e1-40e6-ec1e-72e76fc51533"
      },
      "source": [
        "# Veri setini nereye kaydettiyseniz o adresin dosya yolunu read_csv metoduna geçiyoruz.\n",
        "dataset = pd.read_csv(\"Housing_Data.csv\", encoding = \"utf-8\")\n",
        "dataset.head()"
      ],
      "execution_count": null,
      "outputs": [
        {
          "output_type": "execute_result",
          "data": {
            "text/html": [
              "<div>\n",
              "<style scoped>\n",
              "    .dataframe tbody tr th:only-of-type {\n",
              "        vertical-align: middle;\n",
              "    }\n",
              "\n",
              "    .dataframe tbody tr th {\n",
              "        vertical-align: top;\n",
              "    }\n",
              "\n",
              "    .dataframe thead th {\n",
              "        text-align: right;\n",
              "    }\n",
              "</style>\n",
              "<table border=\"1\" class=\"dataframe\">\n",
              "  <thead>\n",
              "    <tr style=\"text-align: right;\">\n",
              "      <th></th>\n",
              "      <th>Size(Sq. Ft)</th>\n",
              "      <th>Price</th>\n",
              "    </tr>\n",
              "  </thead>\n",
              "  <tbody>\n",
              "    <tr>\n",
              "      <th>0</th>\n",
              "      <td>477</td>\n",
              "      <td>50367</td>\n",
              "    </tr>\n",
              "    <tr>\n",
              "      <th>1</th>\n",
              "      <td>496</td>\n",
              "      <td>61683</td>\n",
              "    </tr>\n",
              "    <tr>\n",
              "      <th>2</th>\n",
              "      <td>524</td>\n",
              "      <td>63517</td>\n",
              "    </tr>\n",
              "    <tr>\n",
              "      <th>3</th>\n",
              "      <td>571</td>\n",
              "      <td>63755</td>\n",
              "    </tr>\n",
              "    <tr>\n",
              "      <th>4</th>\n",
              "      <td>770</td>\n",
              "      <td>66702</td>\n",
              "    </tr>\n",
              "  </tbody>\n",
              "</table>\n",
              "</div>"
            ],
            "text/plain": [
              "   Size(Sq. Ft)  Price\n",
              "0           477  50367\n",
              "1           496  61683\n",
              "2           524  63517\n",
              "3           571  63755\n",
              "4           770  66702"
            ]
          },
          "metadata": {
            "tags": []
          },
          "execution_count": 2
        }
      ]
    },
    {
      "cell_type": "code",
      "metadata": {
        "id": "2mQlQIplbp6Y",
        "colab": {
          "base_uri": "https://localhost:8080/",
          "height": 867
        },
        "outputId": "94912f89-6e3e-4679-d13f-fdd8fb763eb9"
      },
      "source": [
        "indepX = dataset.iloc[:,[0]].values #dataframe'in 0 index'li kolonunu bir array olarak başka bir değişkene atayabiliriz.\n",
        "depY = dataset.iloc[:,[1]].values #dataframe'in 1 index'li kolonunu bir array olarak başka bir değişkene atayabiliriz.\n",
        "indepX"
      ],
      "execution_count": null,
      "outputs": [
        {
          "output_type": "execute_result",
          "data": {
            "text/plain": [
              "array([[ 477],\n",
              "       [ 496],\n",
              "       [ 524],\n",
              "       [ 571],\n",
              "       [ 770],\n",
              "       [ 785],\n",
              "       [ 795],\n",
              "       [ 796],\n",
              "       [ 826],\n",
              "       [ 834],\n",
              "       [ 908],\n",
              "       [ 909],\n",
              "       [ 968],\n",
              "       [ 972],\n",
              "       [1049],\n",
              "       [1399],\n",
              "       [1560],\n",
              "       [1589],\n",
              "       [1773],\n",
              "       [1773],\n",
              "       [1830],\n",
              "       [1941],\n",
              "       [2116],\n",
              "       [2131],\n",
              "       [2190],\n",
              "       [2227],\n",
              "       [2273],\n",
              "       [2353],\n",
              "       [2373],\n",
              "       [2463],\n",
              "       [2520],\n",
              "       [2563],\n",
              "       [2688],\n",
              "       [2739],\n",
              "       [2765],\n",
              "       [2835],\n",
              "       [2916],\n",
              "       [2946],\n",
              "       [3102],\n",
              "       [3117],\n",
              "       [3370],\n",
              "       [3442],\n",
              "       [3443],\n",
              "       [3444],\n",
              "       [3470],\n",
              "       [3578],\n",
              "       [3595],\n",
              "       [3644],\n",
              "       [3931],\n",
              "       [3970]])"
            ]
          },
          "metadata": {
            "tags": []
          },
          "execution_count": 3
        }
      ]
    },
    {
      "cell_type": "code",
      "metadata": {
        "id": "lTBRRSWZbrpx"
      },
      "source": [
        "# Hatırlayacağınız üzere lineer regresyonda verinin standardize edilmesi gerekiyordu.\n",
        "from sklearn.preprocessing import StandardScaler\n",
        "scale =  StandardScaler() # Hem x bağımsız değişkeni hem de y bağımlı değişkenini stardize ediyoruz.\n",
        "indepX = scale.fit_transform(indepX)\n",
        "depY = scale.fit_transform(depY)\n",
        "\n",
        "# Veriyi train ve test olarak iki parçaya bölüyoruz.\n",
        "from sklearn.model_selection import train_test_split\n",
        "indepX_train, indepX_test, depY_train, depY_test = train_test_split(indepX, depY, \n",
        "                                                                    test_size = 0.3, \n",
        "                                                                    random_state = 42)"
      ],
      "execution_count": null,
      "outputs": []
    },
    {
      "cell_type": "code",
      "metadata": {
        "id": "PfDwoR5kbu2I"
      },
      "source": [
        "# Regreson fonksiyonumuz y = theta (intercept) + theta1 * x gibi bir denklem olacak.\n",
        "\n",
        "def hyp(theta, x):\n",
        "    return theta[0] + theta[1] * x"
      ],
      "execution_count": null,
      "outputs": []
    },
    {
      "cell_type": "code",
      "metadata": {
        "id": "cuY4raw-byig"
      },
      "source": [
        "# Error/Cost Function\n",
        "\n",
        "def errorFunc(theta, indepX, depY):\n",
        "    \n",
        "    # m training set'teki satır sayısıdır.\n",
        "    m = len(indepX)\n",
        "    error = 0\n",
        "    for i in range(m): # her bir veri için actual - predicted hesaplayıp toplamını alacağız.\n",
        "        \n",
        "        x = indepX[i]\n",
        "        y = depY[i]\n",
        "        error += (y - (theta[1] * x + theta[0])) ** 2\n",
        "        \n",
        "    return error / (2*m) # sonunda Kareli hata toplamlarının ortalaması alınır."
      ],
      "execution_count": null,
      "outputs": []
    },
    {
      "cell_type": "code",
      "metadata": {
        "id": "HssWL0wUbzVI"
      },
      "source": [
        "# Grad fonksiyonu 1 iterasyon yeni katsayıları günceller.\n",
        "\n",
        "def grad(indepX, depY, curr_theta, learning_rate):\n",
        "\n",
        "    # curr_theta bizim belirleyeceğimiz başlangıç katsayılarını içeren listedir.\n",
        "    grad = np.zeros(2) # grad, hem theta 1 hem de theta 2 için türev değerlerini tutan listedir.\n",
        "    new_theta = curr_theta\n",
        "    m = len(indepX)\n",
        "    \n",
        "    # Adjustments\n",
        "    for i in range(m): \n",
        "        \n",
        "        # her bir x ve y değeri aşağıdaki denklemlerde yerine konur ve katsayıların hatalar üzerindeki etkisi ölçülür.\n",
        "        \n",
        "        x = indepX[i]\n",
        "        y = depY[i]\n",
        "        \n",
        "        grad[0] += (-1/m) * (y - (curr_theta[0] + (curr_theta[1] * x) )) #theta 0'a göre türevi alınmış cost function\n",
        "        grad[1] += (-1/m) * x * (y - (curr_theta[0] + (curr_theta[1] * x))) #theta 1'a göre türevi alınmış cost function\n",
        "    \n",
        "    temp0 = curr_theta[0] - (learning_rate * grad[0]) #learning rate ile theta 0 için gradient'in hesaplanması\n",
        "    temp1 = curr_theta[1] - (learning_rate * grad[1]) ##learning rate ile theta 1 için gradient'in hesaplanması\n",
        "    \n",
        "    new_theta[0] = temp0 # theta 0 ve theta 1'in yeni değerlerine güncellenmesi.\n",
        "    new_theta[1] = temp1\n",
        "    \n",
        "    return new_theta"
      ],
      "execution_count": null,
      "outputs": []
    },
    {
      "cell_type": "code",
      "metadata": {
        "id": "-S7J4BdEb2ww"
      },
      "source": [
        "# Gradient Descent Function\n",
        "\n",
        "def gradientDescent(indepX,depY, init_theta, learning_rate, num_iterations):\n",
        "    \n",
        "    # Initialization\n",
        "    theta = init_theta # bizim belirlediğimiz başlangıç katsayıları\n",
        "    J = [0 for i in range(num_iterations)] # iterasyon sayısı kadar sıfır içeren cost function listesi\n",
        "\n",
        "    # Optimizasyonun yapıldığı kısım.\n",
        "    for i in range(num_iterations):\n",
        "        \n",
        "        theta = grad(indepX, depY, theta, learning_rate)\n",
        "        J[i] = errorFunc(theta, indepX, depY)\n",
        "        \n",
        "    return theta, J #optimum theta'ları ve iterasyon boyunca cost function'un aldığı değerleri dönen J değişkenini alırız."
      ],
      "execution_count": null,
      "outputs": []
    },
    {
      "cell_type": "code",
      "metadata": {
        "id": "WoSIJuDfb9Fo"
      },
      "source": [
        "# Main Function\n",
        "\n",
        "def main():\n",
        "    \n",
        "    # Initialization\n",
        "    init_theta = np.zeros(2) # başlangıç katsayıları 0,0 olarak atanmıştır.\n",
        "    learning_rate = 0.05 # learning rate 0.05\n",
        "    num_iterations = 100 # 100 iterasyon gradient descent algoritması çalıştırılacaktır.\n",
        "    \n",
        "    H = [0 for i in range(len(indepX_train))]\n",
        "    J = [0 for i in range(num_iterations)]\n",
        "    \n",
        "    # Gradient Descent'i çağırmak\n",
        "    theta, J = gradientDescent(indepX_train, depY_train, init_theta, learning_rate, num_iterations)\n",
        "    # Regresyon denkleminde katsayıları ve training set'i yerine koyalım.\n",
        "    H = hyp(theta, indepX_train) \n",
        "      \n",
        "    # Visualize J\n",
        "    plt.plot(J, color = 'green')\n",
        "    plt.title('Error vs No.Itrerations')\n",
        "    plt.xlabel('Itrerations')\n",
        "    plt.ylabel('Cost Function')\n",
        "    plt.show()\n",
        "    \n",
        "    # Visualize H\n",
        "    plt.scatter(indepX_train, depY_train, color = 'red')\n",
        "    plt.plot(indepX_train, H, color = 'blue')\n",
        "    plt.title('Size vs Price (Training set)')\n",
        "    plt.xlabel('Size')\n",
        "    plt.ylabel('Price')\n",
        "    plt.show()"
      ],
      "execution_count": null,
      "outputs": []
    },
    {
      "cell_type": "code",
      "metadata": {
        "id": "gb-EQJmyb-GY",
        "colab": {
          "base_uri": "https://localhost:8080/",
          "height": 899
        },
        "outputId": "3ff10318-03a9-4932-e643-0aa4c7994873"
      },
      "source": [
        "if __name__ == '__main__':\n",
        "    main()"
      ],
      "execution_count": null,
      "outputs": [
        {
          "output_type": "display_data",
          "data": {
            "image/png": "[encoded data removed]",
            "text/plain": [
              "<Figure size 1080x504 with 1 Axes>"
            ]
          },
          "metadata": {
            "tags": []
          }
        },
        {
          "output_type": "display_data",
          "data": {
            "image/png": "[encoded data removed]",
            "text/plain": [
              "<Figure size 1080x504 with 1 Axes>"
            ]
          },
          "metadata": {
            "tags": []
          }
        }
      ]
    }
  ]
}