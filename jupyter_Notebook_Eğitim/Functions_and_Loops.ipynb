{
  "nbformat": 4,
  "nbformat_minor": 0,
  "metadata": {
    "colab": {
      "name": "Functions and Loops.ipynb",
      "provenance": [],
      "collapsed_sections": []
    },
    "kernelspec": {
      "name": "python3",
      "display_name": "Python 3"
    }
  },
  "cells": [
    {
      "cell_type": "markdown",
      "metadata": {
        "id": "09s9H6jk6VkV"
      },
      "source": [
        "#Functions- Fonksyionlar aslında bir çok karmaşık işlemi tek bir kod bütünü halinde yapmayı sağlayacaktır. Python için büyük kolaylık alanlarından biri olan bu kısım ile ilgili olarak yine bol kod ve açıklama ile başlayalım :)"
      ]
    },
    {
      "cell_type": "code",
      "metadata": {
        "id": "B7bMhw3V5kRT",
        "outputId": "416f195b-af3c-4823-a871-3e81f52045f8",
        "colab": {
          "base_uri": "https://localhost:8080/",
          "height": 67
        }
      },
      "source": [
        "#Hadi gelin en temel örneklerle başlayalım... Print bir fonksiyondur mesela.. Yazdırma Fonksiyonudur.. Input' da aynı şekilde girdi fonksiyonudur.. \n",
        "\n",
        "print (\"orkun\")\n",
        "input (str(\"İsminizi Giriniz:\"))\n"
      ],
      "execution_count": null,
      "outputs": [
        {
          "output_type": "stream",
          "text": [
            "orkun\n",
            "İsminizi Giriniz:orkun\n"
          ],
          "name": "stdout"
        },
        {
          "output_type": "execute_result",
          "data": {
            "text/plain": [
              "'orkun'"
            ]
          },
          "metadata": {
            "tags": []
          },
          "execution_count": 1
        }
      ]
    },
    {
      "cell_type": "code",
      "metadata": {
        "id": "gz0saI0N8bfM",
        "outputId": "9ae98f10-5c43-4a45-c330-0010fe9f3afc",
        "colab": {
          "base_uri": "https://localhost:8080/",
          "height": 34
        }
      },
      "source": [
        "#Şimdi de bir sayının karesini alan küçük bir fonksiyon yazalım.. \n",
        "\n",
        "def kare(sayi): #Def komutu ile fonksyion tanımlanır... \n",
        "  print (sayi**2)\n",
        "\n",
        "kare (3)\n",
        "\n",
        "\n",
        "\n"
      ],
      "execution_count": null,
      "outputs": [
        {
          "output_type": "execute_result",
          "data": {
            "text/plain": [
              "9"
            ]
          },
          "metadata": {
            "tags": []
          },
          "execution_count": 1
        }
      ]
    },
    {
      "cell_type": "code",
      "metadata": {
        "id": "_VuIQACY8wIM"
      },
      "source": [
        "#Şimdi de küp alsın ama ekrana yazdırmasın \n",
        "def kup(sayi):\n",
        "  return (sayi**3) #return komutu ile ihtiyacımız olan yerde kullanılmak üzere, fonksyion tanımlanmış ve saklanmış olur.. Ekrana sonuç yazdırmaz. \n",
        "\n"
      ],
      "execution_count": null,
      "outputs": []
    },
    {
      "cell_type": "code",
      "metadata": {
        "id": "-yQLfqNT9Ux5",
        "outputId": "4b82774b-0acc-4f24-861d-a6cbbda09776",
        "colab": {
          "base_uri": "https://localhost:8080/",
          "height": 34
        }
      },
      "source": [
        "kup (53)"
      ],
      "execution_count": null,
      "outputs": [
        {
          "output_type": "execute_result",
          "data": {
            "text/plain": [
              "148877"
            ]
          },
          "metadata": {
            "tags": []
          },
          "execution_count": 4
        }
      ]
    },
    {
      "cell_type": "markdown",
      "metadata": {
        "id": "riSDGlBt9kBW"
      },
      "source": [
        "#Python' da \"GÖMÜLÜ FONKSİYONLAR\" dediğimiz bazı kavramlar var.. Hadi onları Biraz İnceleyelim "
      ]
    },
    {
      "cell_type": "code",
      "metadata": {
        "id": "0GHag25G9fsB",
        "outputId": "20ab8569-67b0-4255-ef53-3bf3e86986e4",
        "colab": {
          "base_uri": "https://localhost:8080/",
          "height": 34
        }
      },
      "source": [
        "#Print yazma fonk. \n",
        "#int() verilen veriyi integer tipine çevirir.. \n",
        "#float() verilen veriyi float tipine çevirir... \n",
        "#type() girdinin tipini gösterir. \n",
        "#sum () verilen girdilerin toplamını yazdırır.. \n",
        "#min() Listedeki min sayıyı yazdırır \n",
        "#max() Listedeki max sayıyı yazdırır \n",
        "\n",
        "#Son olarak Bir de \"Lambda\" fonksiyonu var.. Lambda ile bir satırda değişken için işlemler yapabilirsiniz.. \n",
        "\n",
        "a = lambda c: c**5 #a sayısının 5. kuvvetini alan bir tek satırlık fonksiyon \n",
        "a(3)\n"
      ],
      "execution_count": null,
      "outputs": [
        {
          "output_type": "execute_result",
          "data": {
            "text/plain": [
              "243"
            ]
          },
          "metadata": {
            "tags": []
          },
          "execution_count": 6
        }
      ]
    },
    {
      "cell_type": "markdown",
      "metadata": {
        "id": "IXkbP1rX_EA-"
      },
      "source": [
        "#Adı üstünde döngüler, siz bir sınır koyana kadar, işleme ve iterasyona devam eder.. \n",
        "\n",
        "#While ve For Döngülerimiz mevcuttur.. "
      ]
    },
    {
      "cell_type": "code",
      "metadata": {
        "id": "fFj8tdkZ-d-Q",
        "outputId": "03455fc1-967a-4019-d344-86fc405a849c",
        "colab": {
          "base_uri": "https://localhost:8080/",
          "height": 185
        }
      },
      "source": [
        "#While döngüsü ile Başlayalım \n",
        "\n",
        "# 1' den 10' a kadar sayıları yazdıralım.. \n",
        "#Yani While döngüsü içinde baştan belirlediğiniz kısıt gerçekleşene kadar işlem devam eder.. \n",
        "\n",
        "x = 0 \n",
        "while x < 10 :\n",
        "  x +=1 #Sürekli her iterasyonda x' i 1 arttır... \n",
        "  print (x)"
      ],
      "execution_count": null,
      "outputs": [
        {
          "output_type": "stream",
          "text": [
            "1\n",
            "2\n",
            "3\n",
            "4\n",
            "5\n",
            "6\n",
            "7\n",
            "8\n",
            "9\n",
            "10\n"
          ],
          "name": "stdout"
        }
      ]
    },
    {
      "cell_type": "code",
      "metadata": {
        "id": "kiFmHk7Q_ow0",
        "outputId": "97412ed6-6338-41e0-a112-e4a259356b96",
        "colab": {
          "base_uri": "https://localhost:8080/",
          "height": 185
        }
      },
      "source": [
        "#Döngü içerisinde \"Koşul\" İfadeleri de kullanabilirsiniz.. \n",
        "#Mesela 10 ile 30 arasındaki çift sayıları yazdıralım\n",
        "\n",
        "a= 10 \n",
        "\n",
        "while a < 30 :\n",
        "  a +=1 \n",
        "  if a % 2 == 0: \n",
        "    print (a)"
      ],
      "execution_count": null,
      "outputs": [
        {
          "output_type": "stream",
          "text": [
            "12\n",
            "14\n",
            "16\n",
            "18\n",
            "20\n",
            "22\n",
            "24\n",
            "26\n",
            "28\n",
            "30\n"
          ],
          "name": "stdout"
        }
      ]
    },
    {
      "cell_type": "markdown",
      "metadata": {
        "id": "GKK1OnldAwEa"
      },
      "source": [
        "#Şimdi de For Döngüsüne Bakalım \n"
      ]
    },
    {
      "cell_type": "code",
      "metadata": {
        "id": "bcYaLEdrApEs",
        "outputId": "62800f5e-a819-4a1c-a7a2-3afed53ef9b9",
        "colab": {
          "base_uri": "https://localhost:8080/",
          "height": 173
        }
      },
      "source": [
        "# For çok yaygın kullanılan bir döngüdür. İyi öğrenmekte fayda var..\n",
        "#\"in\" içinde olduğunu ifade eder..  \n",
        "harfler = \"abcdefgh\"\n",
        "\n",
        "for harf in harfler : \n",
        "  print (harf)\n",
        "\n",
        "type (harfler)"
      ],
      "execution_count": null,
      "outputs": [
        {
          "output_type": "stream",
          "text": [
            "a\n",
            "b\n",
            "c\n",
            "d\n",
            "e\n",
            "f\n",
            "g\n",
            "h\n"
          ],
          "name": "stdout"
        },
        {
          "output_type": "execute_result",
          "data": {
            "text/plain": [
              "str"
            ]
          },
          "metadata": {
            "tags": []
          },
          "execution_count": 7
        }
      ]
    },
    {
      "cell_type": "code",
      "metadata": {
        "id": "3bI5nzC1BRKo",
        "outputId": "375db864-429a-44d3-c133-adaa945ee4b2",
        "colab": {
          "base_uri": "https://localhost:8080/",
          "height": 104
        }
      },
      "source": [
        "#Range isimli bir fonksiyon ile de For döngüleri oluşturulabilir \n",
        "#Türkçede karşılığı “aralık “\n",
        "\n",
        "for i in range (1,10,2): #Burada Range ile, 1 den 10' a kadar tek sayıları yazdırdık.. \n",
        "  print (i)\n",
        "\n"
      ],
      "execution_count": null,
      "outputs": [
        {
          "output_type": "stream",
          "text": [
            "1\n",
            "3\n",
            "5\n",
            "7\n",
            "9\n"
          ],
          "name": "stdout"
        }
      ]
    },
    {
      "cell_type": "code",
      "metadata": {
        "id": "-ZV0DFC1BjTn",
        "outputId": "5e1b9e54-5c0c-4ad4-f0e0-184b72abfa3d",
        "colab": {
          "base_uri": "https://localhost:8080/",
          "height": 52
        }
      },
      "source": [
        "for i in range (1,10): #Burada Range ile, 1 den 10' a kadar sayıları yazdırdık.. \n",
        "  print (i)"
      ],
      "execution_count": null,
      "outputs": [
        {
          "output_type": "stream",
          "text": [
            "1\n",
            "6\n"
          ],
          "name": "stdout"
        }
      ]
    },
    {
      "cell_type": "markdown",
      "metadata": {
        "id": "ISiWwKMXBuNh"
      },
      "source": [
        "#Son Olarak da Break ve Continue Komutlarına Bakalım "
      ]
    },
    {
      "cell_type": "code",
      "metadata": {
        "id": "T-cNqSCLBx9o",
        "colab": {
          "base_uri": "https://localhost:8080/",
          "height": 126
        },
        "outputId": "02897e6d-e1e5-4de0-e01f-26640f7806d5"
      },
      "source": [
        "while True: \n",
        "  a = input(\"Bir Sayı Giriniz: \")\n",
        "  if a == \"iptal\":\n",
        "    break\n",
        "  if len(a) > 3: \n",
        "    continue\n",
        "  print (\"En fazla 3 haneli Bir Sayı griebilirsiniz\")"
      ],
      "execution_count": null,
      "outputs": [
        {
          "output_type": "stream",
          "text": [
            "Bir Sayı Giriniz: 4\n",
            "En fazla 3 haneli Bir Sayı griebilirsiniz\n",
            "Bir Sayı Giriniz: 234\n",
            "En fazla 3 haneli Bir Sayı griebilirsiniz\n"
          ],
          "name": "stdout"
        }
      ]
    },
    {
      "cell_type": "code",
      "metadata": {
        "id": "1_NKcow1D24Y"
      },
      "source": [
        "\"\"\"Harf notu Hesaplama Programı\"\"\"\n",
        " \n",
        "while True:\n",
        " \n",
        "   vize = int(input(\"Vize Notu :\"))\n",
        " \n",
        "   final = int(input(\"Final Notu :\"))\n",
        "   ortalama = (vize * 0.4) + (final * 0.6)  # vizenin %40 final %60 olarak alındı\n",
        " \n",
        "   if (ortalama >= 85):\n",
        " \n",
        "   print(\"Harf notunuz : AA0\")\n",
        " \n",
        "    elif (ortalama >= 70 and ortalama < 85):\n",
        " \n",
        "   print(\"Harf notunuz : BA\")\n",
        " \n",
        "   elif (ortalama >= 60 and ortalama < 70):\n",
        " \n",
        "   print(\"Harf notunuz : BB\")\n",
        " \n",
        "   elif (ortalama >= 45 and ortalama < 60):\n",
        " \n",
        "   print(\"Harf notunuz : CB\")\n",
        " \n",
        "   elif (ortalama >= 0 and ortalama < 45):\n",
        " \n",
        "   print(\"Harf notunuz : FF\")"
      ],
      "execution_count": null,
      "outputs": []
    }
  ]
}