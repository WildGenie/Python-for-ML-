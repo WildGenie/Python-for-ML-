{
  "nbformat": 4,
  "nbformat_minor": 0,
  "metadata": {
    "colab": {
      "name": "Numpy.ipynb",
      "provenance": [],
      "collapsed_sections": []
    },
    "kernelspec": {
      "name": "python3",
      "display_name": "Python 3"
    }
  },
  "cells": [
    {
      "cell_type": "markdown",
      "metadata": {
        "id": "IvJArkrHUXqT"
      },
      "source": [
        "Devam Ediyoruz... \n",
        "Ders 7- Makine Öğrenmesi Algoritmaları ve Numpy....\n",
        "\n",
        "MAKİNE ÖĞRENMESİ ALGORİTMALARI \n",
        "Hepsinden bahsetmeyeceğim çünkü en baştan söylediğim gibi ML bambaşka bir dünya... Veri bilimi Harvard Bussiness Review' da 21. YY ın en seksi mesleği seçildi. :) \n",
        "\n",
        "Gelelim algoritmalara: \n",
        "K- ENYYAKIN KOMŞU ALGORİTMASI: \n",
        "\n",
        "Uygulaması en kolay gözetimli öğrenme algortimalarından biridir. Hem sınıflandırma hem de regresyon problemlerinin çözümünde kullanılıyor olmakla birlikte, endüstride çoğunlukla sınıflandırma problemlerinin çözümünde kullanılmaktadır.\n",
        "Örnek veri setine katılacak olan yeni verinin, mevcut verilere göre uzaklığı hesaplanıp, k sayıda yakın komşuluğuna bakılır. Uzaklık hesapları için genelde 3 tip uzaklık fonksiyonu kullanılmaktadır:\n",
        "“Euclidean” Uzaklık\n",
        "“Manhattan” Uzaklık\n",
        "“Minkowski” Uzaklığı\n",
        "\n",
        "KNN; eski, basit ve gürültülü eğitim verilerine karşı dirençli olması sebebiyle en popüler makine öğrenme algoritmalarından biridir. Fakat bunun yanında dezavantajı da mevcuttur. Örneğin, uzaklık hesabı yaparken bütün durumları sakladığından, büyük veriler için kullanıldığında çok sayıda bellek alanına gereksinim duymaktadır.\n",
        "\n",
        "MONTE CARLO KARAR AĞAÇLARI: ,\n",
        "Karar problemi, belirlenen amaca ulaşmak için alternatifler arasından en uygun olanının seçilmesini ifade etmektedir. Ancak, bir kararı zorlaştıran, problemin karmaşıklığı, içinde bulunulan durumun belirsizliği, birden fazla amaç, farklı perspektiflerin farklı sonuçlara yol açması, gibi çeşitli nedenler vardır. Karar analizi ise zor kararların verilebilmesi için sistematik bir düşünce tarzı ortaya koymaktadır. 4 adımdan oluşur: Seçim- Genişleme- Karar- Geri Dönüş \n",
        "\n",
        "YAPAY SİNİR AĞLARI \n",
        "\n",
        "İnsan beynini temel alan bu modelde girdi oluşturulan yapay nöronnlar içinde işlenerek, çıktıya dönüştürülür. Öğrenme sistemi insana benzer. En yaygın kullanılan makine öğrenmesi metodudur. Detaylarına ilerleyen derslerde gireceğim. \n",
        "\n",
        "KARINCA KOLONİSİ ALGORİTMASI\n",
        "Algoritmanın çalışma sürecinde, karıncalar tarafından güncellenen feromon izleriyle iyi bir çözümün bulunması için bilgi oluşturulmakta ve her iterasyonda bu bilgiler güncellenmektedir.\n",
        "\n",
        "Karınca sayısının arttırılması çözümde iyileşmeye neden olur. Fakat hesaplamaları arttırdığı için karınca sayısının fazla arttırılması işlem zamanlarının uzamasına neden olur.\n",
        "\n",
        "NUMPY: \n",
        "Evet Python severler, geldik kütüphaanelere... Burada en çok kullanacağımız kütüphanelerden biri Numpy. Yani matematiksel işlemleri içeren Python modülü... \n",
        "NumPy (Numerical Python) bilimsel hesaplamaları hızlı bir şekilde yapmamızı sağlayan bir matematik kütüphanesidir. \n",
        "\n",
        "Gerisi kodlarda... Kolaylıklar... \n",
        "\n"
      ]
    },
    {
      "cell_type": "markdown",
      "metadata": {
        "id": "8V5cYWn-UeLV"
      },
      "source": [
        "#NUMPY' ı anaconda Promptan  pip install numpy komutu ile indirebilirsiniz.. \n",
        "#Hadi şimdi kütüphaneyi içe aktaralım yani import edelim "
      ]
    },
    {
      "cell_type": "code",
      "metadata": {
        "id": "QYO4d1LWULG9"
      },
      "source": [
        "import numpy as np #kod listemşizde numpy kullancağımız yerlerde artık np yazmamız yeterli \n"
      ],
      "execution_count": null,
      "outputs": []
    },
    {
      "cell_type": "markdown",
      "metadata": {
        "id": "z__VsMozVa2A"
      },
      "source": [
        "#Numpy Array oluşturalım."
      ]
    },
    {
      "cell_type": "code",
      "metadata": {
        "id": "mGXCWyrUVNiO",
        "outputId": "2716bfb8-9a1b-486a-83eb-fea8791b91a1",
        "colab": {
          "base_uri": "https://localhost:8080/",
          "height": 87
        }
      },
      "source": [
        "# python list\n",
        "python_list = [0, 1, 2, 3, 4, 5, 6, 7, 8, 9]\n",
        "# numpy array\n",
        "numpy_array = np.array([0, 1, 2, 3, 4, 5, 6, 7, 8, 9]) #np.array ile dizi oluşturulur. \n",
        "print(\"Python listesi :\")\n",
        "print(python_list)\n",
        "print(\"Numpy dizisi :\")\n",
        "print(numpy_array)\n"
      ],
      "execution_count": null,
      "outputs": [
        {
          "output_type": "stream",
          "text": [
            "Python listesi :\n",
            "[0, 1, 2, 3, 4, 5, 6, 7, 8, 9]\n",
            "Numpy dizisi :\n",
            "[0 1 2 3 4 5 6 7 8 9]\n"
          ],
          "name": "stdout"
        }
      ]
    },
    {
      "cell_type": "markdown",
      "metadata": {
        "id": "d8MygT_PVqM1"
      },
      "source": [
        "#Dizinin boyutunu bulma: ndarray.ndim"
      ]
    },
    {
      "cell_type": "code",
      "metadata": {
        "id": "tNk4fEvzWzoR",
        "outputId": "e15dc564-14f9-434d-ac05-31116a2e9a1e",
        "colab": {
          "base_uri": "https://localhost:8080/",
          "height": 52
        }
      },
      "source": [
        "numpy_array1 = np.array([0, 1, 2, 3, 4, 5, 6, 7, 8, 9])\n",
        "print(numpy_array1.ndim)\n",
        "\n",
        "numpy_array2 = np.array([[0, 1, 2, 3, 4, 5, 6, 7, 8, 9]])\n",
        "print(numpy_array2.ndim)"
      ],
      "execution_count": null,
      "outputs": [
        {
          "output_type": "stream",
          "text": [
            "1\n",
            "2\n"
          ],
          "name": "stdout"
        }
      ]
    },
    {
      "cell_type": "markdown",
      "metadata": {
        "id": "bgc1VAzsW8Ni"
      },
      "source": [
        "#Dizinin satır ve sütun sayısını bulmak: ndarray.shape"
      ]
    },
    {
      "cell_type": "code",
      "metadata": {
        "id": "69rPSc8TXDCq",
        "outputId": "e23aacc9-a97c-4c3d-e56b-c38d81b98df8",
        "colab": {
          "base_uri": "https://localhost:8080/",
          "height": 105
        }
      },
      "source": [
        "numpy_array1 = np.array([0, 1, 2, 3, 4, 5, 6, 7, 8, 9])\n",
        "print(numpy_array1.shape)\n",
        "print(numpy_array1.ndim)\n",
        "#10 tane elemandan oluşan 1 boyutlu bir dizi(vektör)\n",
        "\n",
        "print(\"np.array 2\")\n",
        "\n",
        "numpy_array2 = np.array([[0, 1, 2, 3, 4, 5, 6, 7, 8, 9]])\n",
        "print(numpy_array2.ndim)\n",
        "print(numpy_array2.shape)\n",
        "# 1 satır ve 10 sütundan oluşan 2 boyutlu bir dizi(matris)."
      ],
      "execution_count": null,
      "outputs": [
        {
          "output_type": "stream",
          "text": [
            "(10,)\n",
            "1\n",
            "np.array 2\n",
            "2\n",
            "(1, 10)\n"
          ],
          "name": "stdout"
        }
      ]
    },
    {
      "cell_type": "markdown",
      "metadata": {
        "id": "pb2Ve9xrXiyd"
      },
      "source": [
        "# np.arange() →Python’daki range() fonksiyonuna benzer. Belirtilen başlangıç değerinden başlayıp, her seferinde adım sayısı kadar arttırarak ,bitiş değerine kadar olan sayıları bulunduran bir numpy dizisi dödürür."
      ]
    },
    {
      "cell_type": "code",
      "metadata": {
        "id": "TzA0rCW-XxX4",
        "outputId": "bab1c73d-dbd0-4cba-8e29-349cf81cafa8",
        "colab": {
          "base_uri": "https://localhost:8080/",
          "height": 34
        }
      },
      "source": [
        "# np.arange(başlangıç,bitiş,adım sayısı)\n",
        "\n",
        "np.arange(0,10,3)"
      ],
      "execution_count": null,
      "outputs": [
        {
          "output_type": "execute_result",
          "data": {
            "text/plain": [
              "array([0, 3, 6, 9])"
            ]
          },
          "metadata": {
            "tags": []
          },
          "execution_count": 9
        }
      ]
    },
    {
      "cell_type": "code",
      "metadata": {
        "id": "wwKiNzHyX6gC",
        "outputId": "d16e0982-85bb-44f7-95f4-c561904b6297",
        "colab": {
          "base_uri": "https://localhost:8080/",
          "height": 34
        }
      },
      "source": [
        "np.arange(10)"
      ],
      "execution_count": null,
      "outputs": [
        {
          "output_type": "execute_result",
          "data": {
            "text/plain": [
              "array([0, 1, 2, 3, 4, 5, 6, 7, 8, 9])"
            ]
          },
          "metadata": {
            "tags": []
          },
          "execution_count": 10
        }
      ]
    },
    {
      "cell_type": "code",
      "metadata": {
        "id": "QkxmMqoeX-4G",
        "outputId": "ea3b4c6d-1326-4249-ade4-168c52afa290",
        "colab": {
          "base_uri": "https://localhost:8080/",
          "height": 34
        }
      },
      "source": [
        "np.arange(0,10,1)"
      ],
      "execution_count": null,
      "outputs": [
        {
          "output_type": "execute_result",
          "data": {
            "text/plain": [
              "array([0, 1, 2, 3, 4, 5, 6, 7, 8, 9])"
            ]
          },
          "metadata": {
            "tags": []
          },
          "execution_count": 11
        }
      ]
    },
    {
      "cell_type": "markdown",
      "metadata": {
        "id": "gwkdGfCHYD7P"
      },
      "source": [
        "# ndarray[:,:] → buradaki “:” kullanımı tüm satır ve sütunları seçmemizi sağlar."
      ]
    },
    {
      "cell_type": "code",
      "metadata": {
        "id": "f7iEKaOHYPCT",
        "outputId": "b8a56e65-eb0f-4cc2-a081-327ead297fea",
        "colab": {
          "base_uri": "https://localhost:8080/",
          "height": 105
        }
      },
      "source": [
        "numpy_array = np.array([0, 1, 2, 3, 4, 5, 6, 7, 8, 9])\n",
        "numpy_array = numpy_array.reshape(5,2)\n",
        "print(numpy_array)"
      ],
      "execution_count": null,
      "outputs": [
        {
          "output_type": "stream",
          "text": [
            "[[0 1]\n",
            " [2 3]\n",
            " [4 5]\n",
            " [6 7]\n",
            " [8 9]]\n"
          ],
          "name": "stdout"
        }
      ]
    },
    {
      "cell_type": "code",
      "metadata": {
        "id": "H-9sEt3AYTZU",
        "outputId": "9072008e-eae0-467a-ff33-4287b3df2440",
        "colab": {
          "base_uri": "https://localhost:8080/",
          "height": 228
        }
      },
      "source": [
        "#Dizinin herhangi bir satırını seçmek\n",
        "#1.satır\n",
        "first_row = numpy_array[0]\n",
        "#1. ve 2. satır \n",
        "first_and_second_rows = numpy_array[0:2]\n",
        "print(first_row)\n",
        "print(first_and_second_rows)\n",
        "\n",
        "print (\"----------\")\n",
        "\n",
        "#Dizinin herhangi bir kolonunu seçmek\n",
        "#1. sütun\n",
        "first_column = numpy_array[:,0]\n",
        "#1. ve 2. sütun\n",
        "first_and_second_column = numpy_array[:,0:2]\n",
        "print(first_column)\n",
        "print(first_and_second_column)\n",
        "\n",
        "print (\"----------\")\n",
        "\n",
        "#Dizinin herhangi bir elemanını seçmek\n",
        "selecting_item = numpy_array[3,1]\n",
        "print(selecting_item)\n"
      ],
      "execution_count": null,
      "outputs": [
        {
          "output_type": "stream",
          "text": [
            "[0 1]\n",
            "[[0 1]\n",
            " [2 3]]\n",
            "----------\n",
            "[0 2 4 6 8]\n",
            "[[0 1]\n",
            " [2 3]\n",
            " [4 5]\n",
            " [6 7]\n",
            " [8 9]]\n",
            "----------\n",
            "7\n"
          ],
          "name": "stdout"
        }
      ]
    },
    {
      "cell_type": "markdown",
      "metadata": {
        "id": "xxmuow_WYygH"
      },
      "source": [
        "#0 matrisi oluşturmak : np.zeros()"
      ]
    },
    {
      "cell_type": "code",
      "metadata": {
        "id": "-WnqkzViYrv0",
        "outputId": "f5733ccd-b3d4-4b20-a999-f20f03045d56",
        "colab": {
          "base_uri": "https://localhost:8080/",
          "height": 105
        }
      },
      "source": [
        "print(np.zeros((5,4)))"
      ],
      "execution_count": null,
      "outputs": [
        {
          "output_type": "stream",
          "text": [
            "[[0. 0. 0. 0.]\n",
            " [0. 0. 0. 0.]\n",
            " [0. 0. 0. 0.]\n",
            " [0. 0. 0. 0.]\n",
            " [0. 0. 0. 0.]]\n"
          ],
          "name": "stdout"
        }
      ]
    },
    {
      "cell_type": "code",
      "metadata": {
        "id": "TlljIMw-Y4p0",
        "outputId": "3e69d9b1-4152-4216-8863-af3a02207f65",
        "colab": {
          "base_uri": "https://localhost:8080/",
          "height": 105
        }
      },
      "source": [
        "#np.ones(): zeros() fonksiyonuna benzer şeklide verilen büyüklükte 1'lerden oluşan bir matris döndürür.\n",
        "print(np.ones((5,4)))"
      ],
      "execution_count": null,
      "outputs": [
        {
          "output_type": "stream",
          "text": [
            "[[1. 1. 1. 1.]\n",
            " [1. 1. 1. 1.]\n",
            " [1. 1. 1. 1.]\n",
            " [1. 1. 1. 1.]\n",
            " [1. 1. 1. 1.]]\n"
          ],
          "name": "stdout"
        }
      ]
    },
    {
      "cell_type": "markdown",
      "metadata": {
        "id": "1Jyt7D5AZBn_"
      },
      "source": [
        "#Birim matris oluşturmak : np.eye()"
      ]
    },
    {
      "cell_type": "code",
      "metadata": {
        "id": "d2OKXA7hZTb6",
        "outputId": "9353d642-c25e-4f00-be03-d45f73a88a4e",
        "colab": {
          "base_uri": "https://localhost:8080/",
          "height": 87
        }
      },
      "source": [
        "#4X4 lük birim matris\n",
        "print(np.eye(4))"
      ],
      "execution_count": null,
      "outputs": [
        {
          "output_type": "stream",
          "text": [
            "[[1. 0. 0. 0.]\n",
            " [0. 1. 0. 0.]\n",
            " [0. 0. 1. 0.]\n",
            " [0. 0. 0. 1.]]\n"
          ],
          "name": "stdout"
        }
      ]
    },
    {
      "cell_type": "markdown",
      "metadata": {
        "id": "XPCB4bQhZX0V"
      },
      "source": [
        "#MATEMATİKSEL İŞLEMLER \n",
        "#sum(toplam), max ve min değerlerini hesaplamak"
      ]
    },
    {
      "cell_type": "code",
      "metadata": {
        "id": "OT5mYWanZhK7",
        "outputId": "98ddae56-000a-43af-baa8-fe3157410a39",
        "colab": {
          "base_uri": "https://localhost:8080/",
          "height": 105
        }
      },
      "source": [
        "numpy_array = np.array([0,1, 2, 3, 4, 5, 6, 7, 8, 9])\n",
        "numpy_array = numpy_array.reshape(5,2)\n",
        "print(numpy_array)"
      ],
      "execution_count": null,
      "outputs": [
        {
          "output_type": "stream",
          "text": [
            "[[0 1]\n",
            " [2 3]\n",
            " [4 5]\n",
            " [6 7]\n",
            " [8 9]]\n"
          ],
          "name": "stdout"
        }
      ]
    },
    {
      "cell_type": "code",
      "metadata": {
        "id": "e7QwMib5Z-hh",
        "outputId": "b2bf41fb-468d-45db-ebc4-4c93a8c62486",
        "colab": {
          "base_uri": "https://localhost:8080/",
          "height": 34
        }
      },
      "source": [
        "print(numpy_array.max())"
      ],
      "execution_count": null,
      "outputs": [
        {
          "output_type": "stream",
          "text": [
            "9\n"
          ],
          "name": "stdout"
        }
      ]
    },
    {
      "cell_type": "code",
      "metadata": {
        "id": "TIpJ_os-aBCc",
        "outputId": "432283e5-162e-4aa3-dfa4-a951fd349f42",
        "colab": {
          "base_uri": "https://localhost:8080/",
          "height": 34
        }
      },
      "source": [
        "print(numpy_array.min())"
      ],
      "execution_count": null,
      "outputs": [
        {
          "output_type": "stream",
          "text": [
            "0\n"
          ],
          "name": "stdout"
        }
      ]
    },
    {
      "cell_type": "code",
      "metadata": {
        "id": "2iQv-_AHaG4I",
        "outputId": "e20a8351-52d8-408b-a5ff-cb21421afdc2",
        "colab": {
          "base_uri": "https://localhost:8080/",
          "height": 34
        }
      },
      "source": [
        "print(numpy_array.sum())"
      ],
      "execution_count": null,
      "outputs": [
        {
          "output_type": "stream",
          "text": [
            "45\n"
          ],
          "name": "stdout"
        }
      ]
    },
    {
      "cell_type": "code",
      "metadata": {
        "id": "YBl-u4NdaIO7",
        "outputId": "66c1ce65-6e80-4d39-8412-b1d516af63f1",
        "colab": {
          "base_uri": "https://localhost:8080/",
          "height": 34
        }
      },
      "source": [
        "#Satırların toplamı\n",
        "print(numpy_array.sum(axis = 1))"
      ],
      "execution_count": null,
      "outputs": [
        {
          "output_type": "stream",
          "text": [
            "[ 1  5  9 13 17]\n"
          ],
          "name": "stdout"
        }
      ]
    },
    {
      "cell_type": "code",
      "metadata": {
        "id": "xw5ahe6_aPqc",
        "outputId": "6e64eb04-2391-4091-e267-0600e1848faa",
        "colab": {
          "base_uri": "https://localhost:8080/",
          "height": 34
        }
      },
      "source": [
        "#Sütunların toplamı\n",
        "print(numpy_array.sum(axis = 0))"
      ],
      "execution_count": null,
      "outputs": [
        {
          "output_type": "stream",
          "text": [
            "[20 25]\n"
          ],
          "name": "stdout"
        }
      ]
    },
    {
      "cell_type": "markdown",
      "metadata": {
        "id": "E_Mq2s6ta84Z"
      },
      "source": [
        "#mean, median, varyans ve standart sapma hesaplamak\n"
      ]
    },
    {
      "cell_type": "code",
      "metadata": {
        "id": "WL9EnTk6aZNR",
        "outputId": "71bc0f5c-352e-4517-f4d8-5477130153dc",
        "colab": {
          "base_uri": "https://localhost:8080/",
          "height": 140
        }
      },
      "source": [
        "numpy_array = np.array([0,1, 2, 3, 4, 5, 6, 7, 8, 9])\n",
        "print(numpy_array.mean())\n",
        "\n",
        "print(\"------\")\n",
        "\n",
        "print(np.median(numpy_array))\n",
        "\n",
        "print(\"------\")\n",
        "\n",
        "print(numpy_array.var())\n",
        "\n",
        "print(\"------\")\n",
        "\n",
        "print(numpy_array.std())\n"
      ],
      "execution_count": null,
      "outputs": [
        {
          "output_type": "stream",
          "text": [
            "4.5\n",
            "------\n",
            "4.5\n",
            "------\n",
            "8.25\n",
            "------\n",
            "2.8722813232690143\n"
          ],
          "name": "stdout"
        }
      ]
    },
    {
      "cell_type": "markdown",
      "metadata": {
        "id": "E_kq_fzUbAo6"
      },
      "source": [
        "#NUMPY' a devam edeceğiz..."
      ]
    },
    {
      "cell_type": "code",
      "metadata": {
        "id": "aeClqqafKD3O",
        "colab": {
          "base_uri": "https://localhost:8080/",
          "height": 153
        },
        "outputId": "80e2ff0d-259c-4aad-8ca0-cd8e2ba50627"
      },
      "source": [
        "#Matris Transpozu \n",
        "numpy_array = np.array([0,1, 2, 3, 4, 5, 6, 7, 8, 9])\n",
        "numpy_array = numpy_array.reshape(5,2)\n",
        "print(numpy_array)\n",
        "\n",
        "print (\"-----------\")\n",
        "\n",
        "print(numpy_array.T) #\".T\" ifadesi bizim için Trasnpoz almayı ifade eder.. "
      ],
      "execution_count": null,
      "outputs": [
        {
          "output_type": "stream",
          "text": [
            "[[0 1]\n",
            " [2 3]\n",
            " [4 5]\n",
            " [6 7]\n",
            " [8 9]]\n",
            "-----------\n",
            "[[0 2 4 6 8]\n",
            " [1 3 5 7 9]]\n"
          ],
          "name": "stdout"
        }
      ]
    },
    {
      "cell_type": "code",
      "metadata": {
        "id": "QV9F0zAQKano",
        "colab": {
          "base_uri": "https://localhost:8080/",
          "height": 102
        },
        "outputId": "f93d3d58-857c-4de5-c0f4-2ea79ee98c82"
      },
      "source": [
        "#Matris Çarpımı \n",
        "\n",
        "numpy_array = np.array([0,1, 2, 3, 4, 5, 6, 7, 8, 9])\n",
        "numpy_array1 = numpy_array.reshape(5,2)\n",
        "numpy_array2 = numpy_array.reshape(2,5)\n",
        "print(np.dot(numpy_array1,numpy_array2))"
      ],
      "execution_count": null,
      "outputs": [
        {
          "output_type": "stream",
          "text": [
            "[[  5   6   7   8   9]\n",
            " [ 15  20  25  30  35]\n",
            " [ 25  34  43  52  61]\n",
            " [ 35  48  61  74  87]\n",
            " [ 45  62  79  96 113]]\n"
          ],
          "name": "stdout"
        }
      ]
    }
  ]
}