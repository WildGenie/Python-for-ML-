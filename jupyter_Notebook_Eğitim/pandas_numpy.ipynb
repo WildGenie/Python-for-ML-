{
  "cells": [
    {
      "cell_type": "markdown",
      "metadata": {
        "id": "HXrHY96Sqn26"
      },
      "source": [
        "# Numpy Basics"
      ]
    },
    {
      "cell_type": "markdown",
      "metadata": {
        "id": "WPz3hZV3qn2-"
      },
      "source": [
        "Numpy ve Pandas bölümüne hoş geldiniz. Numpy ve Pandas veri bilimi içinde en çok kullanılan Python kütüphaneleridir. NumPy, çok boyutlu diziler(multi-dimensional array) adı verilen güçlü bir veri yapısından oluşur. Pandas, hızlı ve kolay veri analiz platformu sunan başka bir güçlü Python kütüphanesidir.\n",
        "\n",
        "NumPy, bilimsel bilgi işlem ve veri analizi için yazılmış bir kütüphanedir. Sayısal python anlamına gelir ve aynı zamanda dizi(array) yönelimli hesaplama olarak da bilinir.\n",
        "\n",
        "NumPy'deki en temel nesne ndarray'dir. Farklı boyutlarda dizileri manipule etmek, oluşturmak ve yönetmektedir.\n",
        "\n",
        "\n",
        " # Neden Numpy\n",
        "\n",
        " \n",
        "Numpy, hesaplamaları yapmak için standart python yöntemlerinden çok daha hızlıdır. \n"
      ]
    },
    {
      "cell_type": "code",
      "execution_count": null,
      "metadata": {
        "id": "NMZv_wwrqn2_"
      },
      "outputs": [],
      "source": [
        "import numpy # import numpy"
      ]
    },
    {
      "cell_type": "code",
      "execution_count": null,
      "metadata": {
        "id": "sPo94Fshqn3A",
        "outputId": "6c3dda35-61e3-45c0-f93b-8ede4f66963e"
      },
      "outputs": [
        {
          "name": "stdout",
          "output_type": "stream",
          "text": [
            "[1 2 3]\n"
          ]
        }
      ],
      "source": [
        "print(numpy.array([1,2,3])) # numpy array oluşturmak."
      ]
    },
    {
      "cell_type": "code",
      "execution_count": null,
      "metadata": {
        "id": "u-infpkvqn3B"
      },
      "outputs": [],
      "source": [
        "import numpy as np # numpy için alias"
      ]
    },
    {
      "cell_type": "code",
      "execution_count": null,
      "metadata": {
        "id": "Udu2XpDrqn3B"
      },
      "outputs": [],
      "source": [
        "a = np.array([1,2,3]) # array oluşturmak ve değişkene atamak."
      ]
    },
    {
      "cell_type": "code",
      "execution_count": null,
      "metadata": {
        "id": "zqqogbD3qn3C",
        "outputId": "580ec1fb-88de-4356-8f19-b93f70a6ad66"
      },
      "outputs": [
        {
          "data": {
            "text/plain": [
              "array([1, 2, 3])"
            ]
          },
          "execution_count": 6,
          "metadata": {},
          "output_type": "execute_result"
        }
      ],
      "source": [
        "a"
      ]
    },
    {
      "cell_type": "code",
      "execution_count": null,
      "metadata": {
        "id": "cRrQktqUqn3C"
      },
      "outputs": [],
      "source": [
        "b = np.array([[1,2,3],[4,5,6]]) # iki boyutlu dizi oluşturmak."
      ]
    },
    {
      "cell_type": "code",
      "execution_count": null,
      "metadata": {
        "id": "fX8OsrrJqn3E",
        "outputId": "b0719692-c096-4c26-86af-5efb87406d9f"
      },
      "outputs": [
        {
          "data": {
            "text/plain": [
              "array([[1, 2, 3],\n",
              "       [4, 5, 6]])"
            ]
          },
          "execution_count": 8,
          "metadata": {},
          "output_type": "execute_result"
        }
      ],
      "source": [
        "b "
      ]
    },
    {
      "cell_type": "code",
      "execution_count": null,
      "metadata": {
        "id": "9h8bZOf2qn3E",
        "outputId": "b316428d-6b1c-4fae-a206-93da68f349cf"
      },
      "outputs": [
        {
          "data": {
            "text/plain": [
              "(2, 3)"
            ]
          },
          "execution_count": 9,
          "metadata": {},
          "output_type": "execute_result"
        }
      ],
      "source": [
        "b.shape # b oluşturulan array'in boyutların ulaşmak."
      ]
    },
    {
      "cell_type": "code",
      "execution_count": null,
      "metadata": {
        "id": "q8ypCDfzqn3F",
        "outputId": "56cd8c57-9d09-46f9-be4a-ba3283aedf32"
      },
      "outputs": [
        {
          "data": {
            "text/plain": [
              "(3,)"
            ]
          },
          "execution_count": 10,
          "metadata": {},
          "output_type": "execute_result"
        }
      ],
      "source": [
        "a.shape # a oluşturulan array'in boyutların ulaşmak."
      ]
    },
    {
      "cell_type": "code",
      "execution_count": null,
      "metadata": {
        "id": "3ySjmxtvqn3F",
        "outputId": "2393d6b7-1473-4308-8c70-412130a6b59f"
      },
      "outputs": [
        {
          "data": {
            "text/plain": [
              "dtype('int32')"
            ]
          },
          "execution_count": 11,
          "metadata": {},
          "output_type": "execute_result"
        }
      ],
      "source": [
        "b.dtype # array'in veri tipi."
      ]
    },
    {
      "cell_type": "code",
      "execution_count": null,
      "metadata": {
        "id": "RIxDrtWqqn3G",
        "outputId": "429dcd1d-1b4b-4dd4-c0de-d7cf546a794b"
      },
      "outputs": [
        {
          "data": {
            "text/plain": [
              "2"
            ]
          },
          "execution_count": 12,
          "metadata": {},
          "output_type": "execute_result"
        }
      ],
      "source": [
        "b.ndim # array'in boyutu"
      ]
    },
    {
      "cell_type": "code",
      "execution_count": null,
      "metadata": {
        "id": "V9_mFSORqn3G",
        "outputId": "551e01d5-54b4-42c9-b288-46d7603b5e75"
      },
      "outputs": [
        {
          "name": "stdout",
          "output_type": "stream",
          "text": [
            "<class 'numpy.ndarray'>\n"
          ]
        }
      ],
      "source": [
        "print(type(a)) #type'ı ekrana basmak."
      ]
    },
    {
      "cell_type": "code",
      "execution_count": null,
      "metadata": {
        "id": "hvGjaiThqn3G",
        "outputId": "7e2b3012-cd6a-4872-e9b9-5f43660f2e28"
      },
      "outputs": [
        {
          "name": "stdout",
          "output_type": "stream",
          "text": [
            "<class 'numpy.ndarray'>\n"
          ]
        }
      ],
      "source": [
        "print(type(b))"
      ]
    },
    {
      "cell_type": "code",
      "execution_count": null,
      "metadata": {
        "id": "g9_zTT5Jqn3H",
        "outputId": "c1d21b87-0e1a-4fe3-fef7-c39b43ed226d"
      },
      "outputs": [
        {
          "data": {
            "text/plain": [
              "array([0, 1, 2, 3, 4, 5, 6, 7, 8, 9])"
            ]
          },
          "execution_count": 15,
          "metadata": {},
          "output_type": "execute_result"
        }
      ],
      "source": [
        "np.arange(10) # birden 10'a kadar array oluşturmak."
      ]
    },
    {
      "cell_type": "markdown",
      "metadata": {
        "id": "uBEnF__hqn3H"
      },
      "source": [
        "# Numpy Array Oluştrma\n"
      ]
    },
    {
      "cell_type": "code",
      "execution_count": null,
      "metadata": {
        "id": "k_yNAIBTqn3H",
        "outputId": "d67c5fe6-a889-4798-ecfa-19fa26482fe3"
      },
      "outputs": [
        {
          "data": {
            "text/plain": [
              "array([ 2,  3,  4,  5,  6,  7,  8,  9, 10, 11])"
            ]
          },
          "execution_count": 16,
          "metadata": {},
          "output_type": "execute_result"
        }
      ],
      "source": [
        "np.arange(2,12) #2'den 11' e kadar array oluşturma."
      ]
    },
    {
      "cell_type": "code",
      "execution_count": null,
      "metadata": {
        "id": "6TgShJlcqn3H",
        "outputId": "f7f6c444-1517-4763-a76d-20e33379b2fe"
      },
      "outputs": [
        {
          "data": {
            "text/plain": [
              "array([ 2,  4,  6,  8, 10])"
            ]
          },
          "execution_count": 17,
          "metadata": {},
          "output_type": "execute_result"
        }
      ],
      "source": [
        "np.arange(2,12,2) #2'den 10'a kadar 2'şer artarak array oluşturma."
      ]
    },
    {
      "cell_type": "code",
      "execution_count": null,
      "metadata": {
        "id": "2l8nTOFaqn3I",
        "outputId": "33e0e590-52df-4cfb-e8cb-6c578263e692"
      },
      "outputs": [
        {
          "data": {
            "text/plain": [
              "array([[0., 0.],\n",
              "       [0., 0.],\n",
              "       [0., 0.]])"
            ]
          },
          "execution_count": 18,
          "metadata": {},
          "output_type": "execute_result"
        }
      ],
      "source": [
        "np.zeros((3,2)) # 3x2 sıfır matrisi oluşturmak."
      ]
    },
    {
      "cell_type": "code",
      "execution_count": null,
      "metadata": {
        "id": "igTlXwkSqn3I",
        "outputId": "fec5be7d-5749-4a94-d704-3fb2b78ad4f6"
      },
      "outputs": [
        {
          "data": {
            "text/plain": [
              "array([[1., 1.],\n",
              "       [1., 1.],\n",
              "       [1., 1.]])"
            ]
          },
          "execution_count": 19,
          "metadata": {},
          "output_type": "execute_result"
        }
      ],
      "source": [
        "np.ones((3,2)) # 3x2 bir matrisi oluşturmak."
      ]
    },
    {
      "cell_type": "code",
      "execution_count": null,
      "metadata": {
        "id": "2bStkszdqn3I",
        "outputId": "dd7e8448-c4b9-4600-fde4-89001b70063a"
      },
      "outputs": [
        {
          "data": {
            "text/plain": [
              "array([[1., 0., 0.],\n",
              "       [0., 1., 0.],\n",
              "       [0., 0., 1.]])"
            ]
          },
          "execution_count": 20,
          "metadata": {},
          "output_type": "execute_result"
        }
      ],
      "source": [
        "np.eye(3) # 3x3 diagonal matris oluşturmak."
      ]
    },
    {
      "cell_type": "code",
      "execution_count": null,
      "metadata": {
        "id": "V6wBOR3iqn3I",
        "outputId": "542fbbd2-aedf-459e-8990-ba07f91e8bb4"
      },
      "outputs": [
        {
          "data": {
            "text/plain": [
              "array([[2, 2, 2],\n",
              "       [2, 2, 2],\n",
              "       [2, 2, 2]])"
            ]
          },
          "execution_count": 21,
          "metadata": {},
          "output_type": "execute_result"
        }
      ],
      "source": [
        "np.full((3,3),2) # 3x3 2'ler matrisi oluşturma."
      ]
    },
    {
      "cell_type": "code",
      "execution_count": null,
      "metadata": {
        "id": "rz45pecWqn3J",
        "outputId": "ac9a31e8-33ac-4810-ed03-995503e2348b"
      },
      "outputs": [
        {
          "data": {
            "text/plain": [
              "array([[2, 2, 2],\n",
              "       [2, 2, 2],\n",
              "       [2, 2, 2]])"
            ]
          },
          "execution_count": 22,
          "metadata": {},
          "output_type": "execute_result"
        }
      ],
      "source": [
        "np.full((3,3),2.2, dtype= np.int) #float geçsek bile dtype int ise int matris oluşur."
      ]
    },
    {
      "cell_type": "code",
      "execution_count": null,
      "metadata": {
        "id": "SPACkfVTqn3J",
        "outputId": "fcf6e27b-210f-497f-eaef-3d133dfc4988"
      },
      "outputs": [
        {
          "data": {
            "text/plain": [
              "array([[1, 0, 0, 0, 0],\n",
              "       [0, 2, 0, 0, 0],\n",
              "       [0, 0, 3, 0, 0],\n",
              "       [0, 0, 0, 4, 0],\n",
              "       [0, 0, 0, 0, 5]])"
            ]
          },
          "execution_count": 23,
          "metadata": {},
          "output_type": "execute_result"
        }
      ],
      "source": [
        "np.diag([1,2,3,4,5]) # diagonal matrix."
      ]
    },
    {
      "cell_type": "code",
      "execution_count": null,
      "metadata": {
        "id": "sFvl3RVhqn3J",
        "outputId": "3396baa7-8ed5-4398-a0d2-288216e5c444"
      },
      "outputs": [
        {
          "data": {
            "text/plain": [
              "array([[1, 2, 3],\n",
              "       [1, 2, 3],\n",
              "       [1, 2, 3]])"
            ]
          },
          "execution_count": 29,
          "metadata": {},
          "output_type": "execute_result"
        }
      ],
      "source": [
        "v = np.array([1,2,3])\n",
        "np.tile(v,(3,1)) # 3x3 aynı satırlardan oluşan matris."
      ]
    },
    {
      "cell_type": "code",
      "execution_count": null,
      "metadata": {
        "id": "XMAVuE0Yqn3J"
      },
      "outputs": [],
      "source": [
        ""
      ]
    },
    {
      "cell_type": "code",
      "execution_count": null,
      "metadata": {
        "id": "YYdoUu8Mqn3K",
        "outputId": "ba3e6fee-5926-4b87-e309-ba00e24ba295"
      },
      "outputs": [
        {
          "data": {
            "text/plain": [
              "0.5810049342293439"
            ]
          },
          "execution_count": 30,
          "metadata": {},
          "output_type": "execute_result"
        }
      ],
      "source": [
        "# 0 ile 1 arası\n",
        "np.random.random()"
      ]
    },
    {
      "cell_type": "code",
      "execution_count": null,
      "metadata": {
        "id": "zneMFLegqn3K",
        "outputId": "03fcb110-07c4-4b4a-dae3-2f7d672e3cd3"
      },
      "outputs": [
        {
          "data": {
            "text/plain": [
              "20.711341779550555"
            ]
          },
          "execution_count": 31,
          "metadata": {},
          "output_type": "execute_result"
        }
      ],
      "source": [
        "# 2 ile 50 arası rassal sayı çekmek.\n",
        "50*np.random.random()+2"
      ]
    },
    {
      "cell_type": "code",
      "execution_count": null,
      "metadata": {
        "id": "zv2mmVUMqn3K",
        "outputId": "ac0e7d42-4534-4b33-b443-4a0e007cc160"
      },
      "outputs": [
        {
          "data": {
            "text/plain": [
              "array([[0.52770211, 0.53188352, 0.72919099],\n",
              "       [0.74731399, 0.53376715, 0.02338399],\n",
              "       [0.17627801, 0.59792201, 0.22824574]])"
            ]
          },
          "execution_count": 32,
          "metadata": {},
          "output_type": "execute_result"
        }
      ],
      "source": [
        "np.random.random([3,3]) # 3'e 3 rassal sayı matrisi oluşturmak."
      ]
    },
    {
      "cell_type": "code",
      "execution_count": null,
      "metadata": {
        "id": "wTTzLkkGqn3K"
      },
      "outputs": [],
      "source": [
        "# 1 ile 50 arasında 100 rassal sayı oluşturmak.\n",
        "a = np.linspace(1,50,100)"
      ]
    },
    {
      "cell_type": "code",
      "execution_count": null,
      "metadata": {
        "id": "Jf6zEU5Iqn3K",
        "outputId": "1c606a54-aead-4712-a8c3-f184cebf6e78"
      },
      "outputs": [
        {
          "data": {
            "text/plain": [
              "array([ 1.        ,  1.49494949,  1.98989899,  2.48484848,  2.97979798,\n",
              "        3.47474747,  3.96969697,  4.46464646,  4.95959596,  5.45454545,\n",
              "        5.94949495,  6.44444444,  6.93939394,  7.43434343,  7.92929293,\n",
              "        8.42424242,  8.91919192,  9.41414141,  9.90909091, 10.4040404 ,\n",
              "       10.8989899 , 11.39393939, 11.88888889, 12.38383838, 12.87878788,\n",
              "       13.37373737, 13.86868687, 14.36363636, 14.85858586, 15.35353535,\n",
              "       15.84848485, 16.34343434, 16.83838384, 17.33333333, 17.82828283,\n",
              "       18.32323232, 18.81818182, 19.31313131, 19.80808081, 20.3030303 ,\n",
              "       20.7979798 , 21.29292929, 21.78787879, 22.28282828, 22.77777778,\n",
              "       23.27272727, 23.76767677, 24.26262626, 24.75757576, 25.25252525,\n",
              "       25.74747475, 26.24242424, 26.73737374, 27.23232323, 27.72727273,\n",
              "       28.22222222, 28.71717172, 29.21212121, 29.70707071, 30.2020202 ,\n",
              "       30.6969697 , 31.19191919, 31.68686869, 32.18181818, 32.67676768,\n",
              "       33.17171717, 33.66666667, 34.16161616, 34.65656566, 35.15151515,\n",
              "       35.64646465, 36.14141414, 36.63636364, 37.13131313, 37.62626263,\n",
              "       38.12121212, 38.61616162, 39.11111111, 39.60606061, 40.1010101 ,\n",
              "       40.5959596 , 41.09090909, 41.58585859, 42.08080808, 42.57575758,\n",
              "       43.07070707, 43.56565657, 44.06060606, 44.55555556, 45.05050505,\n",
              "       45.54545455, 46.04040404, 46.53535354, 47.03030303, 47.52525253,\n",
              "       48.02020202, 48.51515152, 49.01010101, 49.50505051, 50.        ])"
            ]
          },
          "execution_count": 34,
          "metadata": {},
          "output_type": "execute_result"
        }
      ],
      "source": [
        "a"
      ]
    },
    {
      "cell_type": "code",
      "execution_count": null,
      "metadata": {
        "id": "eIJ6MNjeqn3K",
        "outputId": "61528755-1223-4a6d-c4e9-04467a9d2489"
      },
      "outputs": [
        {
          "data": {
            "text/plain": [
              "array([ 0,  1,  2,  3,  4,  5,  6,  7,  8,  9, 10, 11, 12, 13, 14, 15, 16,\n",
              "       17, 18, 19, 20, 21, 22, 23])"
            ]
          },
          "execution_count": 35,
          "metadata": {},
          "output_type": "execute_result"
        }
      ],
      "source": [
        "np.arange(24) # 0-23'e kadar sayı dizisi oluşturmak."
      ]
    },
    {
      "cell_type": "code",
      "execution_count": null,
      "metadata": {
        "id": "llP8snh4qn3L",
        "outputId": "e0d9e1bc-7692-44de-b113-d298a0d87dac"
      },
      "outputs": [
        {
          "data": {
            "text/plain": [
              "array([[[ 0,  1,  2],\n",
              "        [ 3,  4,  5],\n",
              "        [ 6,  7,  8]],\n",
              "\n",
              "       [[ 9, 10, 11],\n",
              "        [12, 13, 14],\n",
              "        [15, 16, 17]]])"
            ]
          },
          "execution_count": 36,
          "metadata": {},
          "output_type": "execute_result"
        }
      ],
      "source": [
        "np.arange(18).reshape(2,3,3)# ilk 18 sayıyı 3x3 2 adet matrise dağıtmak."
      ]
    },
    {
      "cell_type": "markdown",
      "metadata": {
        "id": "wR2eCUYpqn3L"
      },
      "source": [
        "# Numpy dizi elemanlarına ulaşmak."
      ]
    },
    {
      "cell_type": "code",
      "execution_count": null,
      "metadata": {
        "id": "rEDV5WFEqn3L"
      },
      "outputs": [],
      "source": [
        "a = np.array([2,4,6,8,10,12,14,16])"
      ]
    },
    {
      "cell_type": "code",
      "execution_count": null,
      "metadata": {
        "id": "BOuVRvk5qn3L",
        "outputId": "2b341150-d520-4a9d-9172-94126ede2d81"
      },
      "outputs": [
        {
          "data": {
            "text/plain": [
              "array([ 2,  4,  6,  8, 10, 12, 14, 16])"
            ]
          },
          "execution_count": 38,
          "metadata": {},
          "output_type": "execute_result"
        }
      ],
      "source": [
        "a"
      ]
    },
    {
      "cell_type": "code",
      "execution_count": null,
      "metadata": {
        "id": "iKME8QXGqn3L",
        "outputId": "ad801c7c-2d12-4e0d-88fb-2c3577558413"
      },
      "outputs": [
        {
          "data": {
            "text/plain": [
              "6"
            ]
          },
          "execution_count": 39,
          "metadata": {},
          "output_type": "execute_result"
        }
      ],
      "source": [
        "a[2] # ikinci elemanı çağırmak"
      ]
    },
    {
      "cell_type": "code",
      "execution_count": null,
      "metadata": {
        "id": "F_JPh5FSqn3L",
        "outputId": "834082c2-8cdf-43f2-b6b2-f6ebfd7d2986"
      },
      "outputs": [
        {
          "data": {
            "text/plain": [
              "array([ 6, 10, 14])"
            ]
          },
          "execution_count": 40,
          "metadata": {},
          "output_type": "execute_result"
        }
      ],
      "source": [
        "a[[2,4,6]] # 2,4 ve 6 index'li elemanları çağırmak."
      ]
    },
    {
      "cell_type": "code",
      "execution_count": null,
      "metadata": {
        "id": "UpUlHAaiqn3M",
        "outputId": "71af2a73-425b-4522-fbe5-9afa9b63dc2a"
      },
      "outputs": [
        {
          "data": {
            "text/plain": [
              "array([ 6,  8, 10, 12, 14, 16])"
            ]
          },
          "execution_count": 41,
          "metadata": {},
          "output_type": "execute_result"
        }
      ],
      "source": [
        "a[2:] # 2'den sonraki elemanları çağırmak."
      ]
    },
    {
      "cell_type": "code",
      "execution_count": null,
      "metadata": {
        "id": "F6uCVJuvqn3M",
        "outputId": "1dca06fc-2021-4974-a244-8cd0a19fddfb"
      },
      "outputs": [
        {
          "data": {
            "text/plain": [
              "array([ 6,  8, 10])"
            ]
          },
          "execution_count": 42,
          "metadata": {},
          "output_type": "execute_result"
        }
      ],
      "source": [
        "a[2:5] # 2'den 5'e kadar elemanları çağırmak."
      ]
    },
    {
      "cell_type": "code",
      "execution_count": null,
      "metadata": {
        "id": "aBU0bYfCqn3M",
        "outputId": "8d2debfc-f5bd-4404-e550-04a28aabef93"
      },
      "outputs": [
        {
          "data": {
            "text/plain": [
              "array([ 2,  6, 10, 14])"
            ]
          },
          "execution_count": 43,
          "metadata": {},
          "output_type": "execute_result"
        }
      ],
      "source": [
        "a[0::2] # 0'dan 2 şer 2 şer index arttırarak elemanları çağırmak."
      ]
    },
    {
      "cell_type": "markdown",
      "metadata": {
        "id": "d3LXxd-Sqn3M"
      },
      "source": [
        "Lets check the same for 2 D array"
      ]
    },
    {
      "cell_type": "code",
      "execution_count": null,
      "metadata": {
        "id": "sv2ecqpJqn3M"
      },
      "outputs": [],
      "source": [
        "a = np.array([[1,2,3],[4,5,6],[7,8,9]])"
      ]
    },
    {
      "cell_type": "code",
      "execution_count": null,
      "metadata": {
        "id": "P6uY3NBMqn3M",
        "outputId": "26f2a327-4a60-48a2-b45c-143925aeb54d"
      },
      "outputs": [
        {
          "data": {
            "text/plain": [
              "array([[1, 2, 3],\n",
              "       [4, 5, 6],\n",
              "       [7, 8, 9]])"
            ]
          },
          "execution_count": 45,
          "metadata": {},
          "output_type": "execute_result"
        }
      ],
      "source": [
        "a # 3x3 matrix."
      ]
    },
    {
      "cell_type": "code",
      "execution_count": null,
      "metadata": {
        "id": "5KGz5WXxqn3N",
        "outputId": "6d9492f0-b55a-406d-f230-ddb98867619f"
      },
      "outputs": [
        {
          "data": {
            "text/plain": [
              "9"
            ]
          },
          "execution_count": 46,
          "metadata": {},
          "output_type": "execute_result"
        }
      ],
      "source": [
        "a[2,2] # 2 indexli matrisin 2 index'li elemanı."
      ]
    },
    {
      "cell_type": "code",
      "execution_count": null,
      "metadata": {
        "id": "bNRO8vlZqn3N",
        "outputId": "e65ca5a1-769c-4b02-a209-c396bdaf3444"
      },
      "outputs": [
        {
          "data": {
            "text/plain": [
              "array([[False, False,  True],\n",
              "       [ True,  True,  True],\n",
              "       [ True,  True,  True]])"
            ]
          },
          "execution_count": 47,
          "metadata": {},
          "output_type": "execute_result"
        }
      ],
      "source": [
        "a > 2 #hangi sayıların 2'den büyük olduğunu logical dönen ifade."
      ]
    },
    {
      "cell_type": "code",
      "execution_count": null,
      "metadata": {
        "id": "-CNSqqjzqn3N",
        "outputId": "a92e8005-baf2-40f0-a374-421374b9aace"
      },
      "outputs": [
        {
          "data": {
            "text/plain": [
              "array([3, 4, 5, 6, 7, 8, 9])"
            ]
          },
          "execution_count": 48,
          "metadata": {},
          "output_type": "execute_result"
        }
      ],
      "source": [
        "a[a > 2] # eğer 2'den büyük rakamları dönmek istersek."
      ]
    },
    {
      "cell_type": "code",
      "execution_count": null,
      "metadata": {
        "id": "V1LwVGnjqn3N",
        "outputId": "4536f40e-5bc0-45ab-c8a0-52be7834c79e"
      },
      "outputs": [
        {
          "data": {
            "text/plain": [
              "array([3, 4])"
            ]
          },
          "execution_count": 49,
          "metadata": {},
          "output_type": "execute_result"
        }
      ],
      "source": [
        "a[(a > 2) & (a < 5)] # kısıtlara uygun"
      ]
    },
    {
      "cell_type": "markdown",
      "metadata": {
        "id": "Kct4nqn7qn3N"
      },
      "source": [
        "# array subset'lemek"
      ]
    },
    {
      "cell_type": "code",
      "execution_count": null,
      "metadata": {
        "id": "ebs7hOXhqn3N"
      },
      "outputs": [],
      "source": [
        "a = np.arange(10) # array oluşturmak."
      ]
    },
    {
      "cell_type": "code",
      "execution_count": null,
      "metadata": {
        "id": "jvGkPImlqn3N"
      },
      "outputs": [],
      "source": [
        "b = a # array'i başka bir değişkene atamak."
      ]
    },
    {
      "cell_type": "code",
      "execution_count": null,
      "metadata": {
        "id": "8d4Tx5lEqn3O",
        "outputId": "f0c621fc-fcad-4166-c957-4cf684f1de2c"
      },
      "outputs": [
        {
          "data": {
            "text/plain": [
              "array([0, 1, 2, 3, 4, 5, 6, 7, 8, 9])"
            ]
          },
          "execution_count": 52,
          "metadata": {},
          "output_type": "execute_result"
        }
      ],
      "source": [
        "b"
      ]
    },
    {
      "cell_type": "code",
      "execution_count": null,
      "metadata": {
        "id": "LWuK76gwqn3O"
      },
      "outputs": [],
      "source": [
        "b[0] = 11 # array'deki bir değeri değiştirmek."
      ]
    },
    {
      "cell_type": "code",
      "execution_count": null,
      "metadata": {
        "id": "V5URRFOvqn3O",
        "outputId": "ac1e0a2c-19b5-42ee-e27d-539d140f3957"
      },
      "outputs": [
        {
          "data": {
            "text/plain": [
              "array([11,  1,  2,  3,  4,  5,  6,  7,  8,  9])"
            ]
          },
          "execution_count": 54,
          "metadata": {},
          "output_type": "execute_result"
        }
      ],
      "source": [
        "b"
      ]
    },
    {
      "cell_type": "markdown",
      "metadata": {
        "id": "kjTneRxxqn3O"
      },
      "source": [
        "# Daha fazla"
      ]
    },
    {
      "cell_type": "code",
      "execution_count": null,
      "metadata": {
        "id": "YuzXIiOYqn3O"
      },
      "outputs": [],
      "source": [
        "a = np.array([[1,2,3],[4,5,6]]) # 2x3 matris"
      ]
    },
    {
      "cell_type": "code",
      "execution_count": null,
      "metadata": {
        "id": "_3k_5XcKqn3O",
        "outputId": "a16d3a43-6bb2-4841-86f2-900c08490339"
      },
      "outputs": [
        {
          "data": {
            "text/plain": [
              "array([[1, 2, 3],\n",
              "       [4, 5, 6]])"
            ]
          },
          "execution_count": 56,
          "metadata": {},
          "output_type": "execute_result"
        }
      ],
      "source": [
        "a\n"
      ]
    },
    {
      "cell_type": "code",
      "execution_count": null,
      "metadata": {
        "id": "Nzn2QjTZqn3O",
        "outputId": "5d1349c1-5ccf-4847-b9b4-0af04caa207c"
      },
      "outputs": [
        {
          "data": {
            "text/plain": [
              "array([[1, 4],\n",
              "       [2, 5],\n",
              "       [3, 6]])"
            ]
          },
          "execution_count": 57,
          "metadata": {},
          "output_type": "execute_result"
        }
      ],
      "source": [
        "a.T # matris transpoze"
      ]
    },
    {
      "cell_type": "code",
      "execution_count": null,
      "metadata": {
        "id": "PDbm5zYBqn3P"
      },
      "outputs": [],
      "source": [
        "b = np.array([[7,8,9],[10,11,12]])"
      ]
    },
    {
      "cell_type": "code",
      "execution_count": null,
      "metadata": {
        "id": "74QE2g7rqn3P",
        "outputId": "660e4f29-c930-477b-84c2-d1f161663c47"
      },
      "outputs": [
        {
          "data": {
            "text/plain": [
              "array([[1, 2, 3],\n",
              "       [4, 5, 6]])"
            ]
          },
          "execution_count": 59,
          "metadata": {},
          "output_type": "execute_result"
        }
      ],
      "source": [
        "a"
      ]
    },
    {
      "cell_type": "code",
      "execution_count": null,
      "metadata": {
        "id": "cK5edAdFqn3P",
        "outputId": "5aaecc37-864b-4768-be59-c525a09d7d95"
      },
      "outputs": [
        {
          "data": {
            "text/plain": [
              "array([[ 7,  8,  9],\n",
              "       [10, 11, 12]])"
            ]
          },
          "execution_count": 60,
          "metadata": {},
          "output_type": "execute_result"
        }
      ],
      "source": [
        "b"
      ]
    },
    {
      "cell_type": "code",
      "execution_count": null,
      "metadata": {
        "id": "0oBpyk6bqn3P",
        "outputId": "35f8d09a-a546-4d43-f577-04f6a36a80e4"
      },
      "outputs": [
        {
          "data": {
            "text/plain": [
              "array([[False, False, False],\n",
              "       [False, False, False]])"
            ]
          },
          "execution_count": 61,
          "metadata": {},
          "output_type": "execute_result"
        }
      ],
      "source": [
        "a == b # iki matrisin eşitliğinin logical kontrolü."
      ]
    },
    {
      "cell_type": "code",
      "execution_count": null,
      "metadata": {
        "id": "ukA8hAaeqn3P"
      },
      "outputs": [],
      "source": [
        ""
      ]
    },
    {
      "cell_type": "markdown",
      "metadata": {
        "id": "NUHye-Q7qn3P"
      },
      "source": [
        "# Matematiksel Operasyonlar"
      ]
    },
    {
      "cell_type": "code",
      "execution_count": null,
      "metadata": {
        "id": "rV-kdCiEqn3P"
      },
      "outputs": [],
      "source": [
        "a = np.arange(1,10)"
      ]
    },
    {
      "cell_type": "code",
      "execution_count": null,
      "metadata": {
        "id": "iMt4KEPyqn3Q",
        "outputId": "ee274c07-401c-4ab0-829b-aaf908ed926d"
      },
      "outputs": [
        {
          "data": {
            "text/plain": [
              "array([ 0.84147098,  0.90929743,  0.14112001, -0.7568025 , -0.95892427,\n",
              "       -0.2794155 ,  0.6569866 ,  0.98935825,  0.41211849])"
            ]
          },
          "execution_count": 63,
          "metadata": {},
          "output_type": "execute_result"
        }
      ],
      "source": [
        "np.sin(a) # bir array'deki tüm elemanların sinüsü"
      ]
    },
    {
      "cell_type": "code",
      "execution_count": null,
      "metadata": {
        "id": "hlP18jfGqn3Q",
        "outputId": "45dbcfc2-0614-4bc0-933d-2f5c905c2e72"
      },
      "outputs": [
        {
          "data": {
            "text/plain": [
              "array([ 0.54030231, -0.41614684, -0.9899925 , -0.65364362,  0.28366219,\n",
              "        0.96017029,  0.75390225, -0.14550003, -0.91113026])"
            ]
          },
          "execution_count": 64,
          "metadata": {},
          "output_type": "execute_result"
        }
      ],
      "source": [
        "np.cos(a) # bir array'deki tüm elemanların cosinüsü"
      ]
    },
    {
      "cell_type": "code",
      "execution_count": null,
      "metadata": {
        "id": "0LcnkuKjqn3Q",
        "outputId": "94b8e579-9c02-4a26-808e-df4b5566eeaf"
      },
      "outputs": [
        {
          "data": {
            "text/plain": [
              "array([2.71828183e+00, 7.38905610e+00, 2.00855369e+01, 5.45981500e+01,\n",
              "       1.48413159e+02, 4.03428793e+02, 1.09663316e+03, 2.98095799e+03,\n",
              "       8.10308393e+03])"
            ]
          },
          "execution_count": 65,
          "metadata": {},
          "output_type": "execute_result"
        }
      ],
      "source": [
        "np.exp(a) #bir array'deki tüm elemanların exponansiyeli."
      ]
    },
    {
      "cell_type": "code",
      "execution_count": null,
      "metadata": {
        "id": "6vARfmJfqn3Q",
        "outputId": "18f0ffd8-afdc-402a-a80d-26617dc7a647"
      },
      "outputs": [
        {
          "data": {
            "text/plain": [
              "45"
            ]
          },
          "execution_count": 66,
          "metadata": {},
          "output_type": "execute_result"
        }
      ],
      "source": [
        "np.sum(a) # bir arrayin toplamı."
      ]
    },
    {
      "cell_type": "code",
      "execution_count": null,
      "metadata": {
        "id": "NtBkU5gkqn3Q",
        "outputId": "a9505d37-d9d1-4c48-e0e9-34ea2608f9f0"
      },
      "outputs": [
        {
          "data": {
            "text/plain": [
              "5.0"
            ]
          },
          "execution_count": 67,
          "metadata": {},
          "output_type": "execute_result"
        }
      ],
      "source": [
        "np.median(a) # bir array'in medianı."
      ]
    },
    {
      "cell_type": "code",
      "execution_count": null,
      "metadata": {
        "id": "3Hv6Enpnqn3Q",
        "outputId": "145da16b-aa20-447d-87f2-53a3570aee02"
      },
      "outputs": [
        {
          "data": {
            "text/plain": [
              "2.581988897471611"
            ]
          },
          "execution_count": 68,
          "metadata": {},
          "output_type": "execute_result"
        }
      ],
      "source": [
        "a.std() # bir array'in standart sapması."
      ]
    },
    {
      "cell_type": "code",
      "execution_count": null,
      "metadata": {
        "id": "ocSWNbtkqn3R"
      },
      "outputs": [],
      "source": [
        "a = np.arange(1,10).reshape(3,3) # 3'e 3 matris oluşturmak."
      ]
    },
    {
      "cell_type": "code",
      "execution_count": null,
      "metadata": {
        "id": "mbOnyaIrqn3R",
        "outputId": "9d1c096a-1d5d-43b1-8b65-e3943897fd9b"
      },
      "outputs": [
        {
          "data": {
            "text/plain": [
              "array([[1, 2, 3],\n",
              "       [4, 5, 6],\n",
              "       [7, 8, 9]])"
            ]
          },
          "execution_count": 71,
          "metadata": {},
          "output_type": "execute_result"
        }
      ],
      "source": [
        "a"
      ]
    },
    {
      "cell_type": "code",
      "execution_count": null,
      "metadata": {
        "id": "180iXd_aqn3R",
        "outputId": "b85d199e-4180-431d-a8d4-d1d46538a2d8"
      },
      "outputs": [
        {
          "data": {
            "text/plain": [
              "-9.51619735392994e-16"
            ]
          },
          "execution_count": 72,
          "metadata": {},
          "output_type": "execute_result"
        }
      ],
      "source": [
        "np.linalg.det(a) # determinantını almak."
      ]
    },
    {
      "cell_type": "code",
      "execution_count": null,
      "metadata": {
        "id": "o0DkBMNVqn3R",
        "outputId": "5a692e91-2c9c-43e0-d6e7-32e9987a2481"
      },
      "outputs": [
        {
          "data": {
            "text/plain": [
              "array([[ 3.15251974e+15, -6.30503948e+15,  3.15251974e+15],\n",
              "       [-6.30503948e+15,  1.26100790e+16, -6.30503948e+15],\n",
              "       [ 3.15251974e+15, -6.30503948e+15,  3.15251974e+15]])"
            ]
          },
          "execution_count": 73,
          "metadata": {},
          "output_type": "execute_result"
        }
      ],
      "source": [
        "np.linalg.inv(a) # bir matrisin tersini almak."
      ]
    },
    {
      "cell_type": "code",
      "execution_count": null,
      "metadata": {
        "scrolled": false,
        "id": "kWgyKutfqn3R"
      },
      "outputs": [],
      "source": [
        "b = np.arange(11,20).reshape(3,3)"
      ]
    },
    {
      "cell_type": "code",
      "execution_count": null,
      "metadata": {
        "scrolled": true,
        "id": "WKKb5FNtqn3R",
        "outputId": "d851fa4f-2ddb-4e39-e466-24cd6f97c419"
      },
      "outputs": [
        {
          "data": {
            "text/plain": [
              "array([[ 90,  96, 102],\n",
              "       [216, 231, 246],\n",
              "       [342, 366, 390]])"
            ]
          },
          "execution_count": 79,
          "metadata": {},
          "output_type": "execute_result"
        }
      ],
      "source": [
        "np.dot(a,b) # iki matrisin çarpımı\n"
      ]
    },
    {
      "cell_type": "code",
      "execution_count": null,
      "metadata": {
        "id": "ZABc9IUpqn3S"
      },
      "outputs": [],
      "source": [
        "a = np.array([1,1,0], dtype = bool)\n",
        "b = np.array([1,0,1], dtype = bool)\n"
      ]
    },
    {
      "cell_type": "code",
      "execution_count": null,
      "metadata": {
        "id": "3fVQtTDsqn3S",
        "outputId": "dc34ac71-d82a-474d-f313-9551c8c046bc"
      },
      "outputs": [
        {
          "data": {
            "text/plain": [
              "2"
            ]
          },
          "execution_count": 81,
          "metadata": {},
          "output_type": "execute_result"
        }
      ],
      "source": [
        "a.sum() # bir matrisin toplamı."
      ]
    },
    {
      "cell_type": "code",
      "execution_count": null,
      "metadata": {
        "id": "kntK0LBZqn3S",
        "outputId": "6ba2f167-a971-4f1b-c794-93c2d2b03edb"
      },
      "outputs": [
        {
          "data": {
            "text/plain": [
              "True"
            ]
          },
          "execution_count": 82,
          "metadata": {},
          "output_type": "execute_result"
        }
      ],
      "source": [
        "a.max() # bir matrisin maksimum değeri.."
      ]
    },
    {
      "cell_type": "code",
      "execution_count": null,
      "metadata": {
        "id": "m6WDmHE7qn3S"
      },
      "outputs": [],
      "source": [
        ""
      ]
    }
  ],
  "metadata": {
    "kernelspec": {
      "display_name": "Python 3",
      "language": "python",
      "name": "python3"
    },
    "language_info": {
      "codemirror_mode": {
        "name": "ipython",
        "version": 3
      },
      "file_extension": ".py",
      "mimetype": "text/x-python",
      "name": "python",
      "nbconvert_exporter": "python",
      "pygments_lexer": "ipython3",
      "version": "3.7.3"
    },
    "colab": {
      "name": "pandas_numpy.ipynb",
      "provenance": []
    }
  },
  "nbformat": 4,
  "nbformat_minor": 0
}