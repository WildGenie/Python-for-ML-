{
  "nbformat": 4,
  "nbformat_minor": 0,
  "metadata": {
    "colab": {
      "name": "Python_Types.ipynb",
      "provenance": [],
      "collapsed_sections": []
    },
    "kernelspec": {
      "name": "python3",
      "display_name": "Python 3"
    }
  },
  "cells": [
    {
      "cell_type": "markdown",
      "metadata": {
        "id": "tX6lGG-Smtf0"
      },
      "source": [
        "#-Karakter Dizisi (String) \n",
        "#-Sayılar (Numbers)\n",
        "#-Boolean \n",
        "#-List ve Tuple \n",
        "#-Dictioaneries "
      ]
    },
    {
      "cell_type": "markdown",
      "metadata": {
        "id": "po_HIyolBSjg"
      },
      "source": [
        "#String İfadeler "
      ]
    },
    {
      "cell_type": "code",
      "metadata": {
        "id": "ByeRHupqmmCQ",
        "colab": {
          "base_uri": "https://localhost:8080/",
          "height": 85
        },
        "outputId": "b698befe-565b-489a-c9c9-794b7dbc8efa"
      },
      "source": [
        "isim = \"orkun\"\n",
        "print (isim)\n",
        "print (type (isim))\n",
        "print(len(isim))\n",
        "isim[3]\n"
      ],
      "execution_count": null,
      "outputs": [
        {
          "output_type": "stream",
          "text": [
            "orkun\n",
            "<class 'str'>\n",
            "5\n"
          ],
          "name": "stdout"
        },
        {
          "output_type": "execute_result",
          "data": {
            "text/plain": [
              "'u'"
            ]
          },
          "metadata": {
            "tags": []
          },
          "execution_count": 2
        }
      ]
    },
    {
      "cell_type": "code",
      "metadata": {
        "id": "Q3NLoKZZmtO8",
        "colab": {
          "base_uri": "https://localhost:8080/",
          "height": 34
        },
        "outputId": "d178ba34-7c12-4e5a-eb9c-cc6ff81c9b87"
      },
      "source": [
        "isim = \"Orkun\"\n",
        "soyisim = \"TEKE\"\n",
        "benim = \"benim ismim {} {}\".format(isim, soyisim)\n",
        "benim"
      ],
      "execution_count": null,
      "outputs": [
        {
          "output_type": "execute_result",
          "data": {
            "text/plain": [
              "'benim ismim Orkun TEKE'"
            ]
          },
          "metadata": {
            "tags": []
          },
          "execution_count": 4
        }
      ]
    },
    {
      "cell_type": "code",
      "metadata": {
        "id": "QNa2wNIaAyW4",
        "colab": {
          "base_uri": "https://localhost:8080/",
          "height": 34
        },
        "outputId": "5c0638be-b145-429b-87a3-62dc0abc553f"
      },
      "source": [
        "benim + \" Makine Öğrenmesi Temellerine Hoşgeldiniz\""
      ],
      "execution_count": null,
      "outputs": [
        {
          "output_type": "execute_result",
          "data": {
            "text/plain": [
              "'benim ismim Orkun TEKE Makine Öğrenmesi Temellerine Hoşgeldiniz'"
            ]
          },
          "metadata": {
            "tags": []
          },
          "execution_count": 7
        }
      ]
    },
    {
      "cell_type": "markdown",
      "metadata": {
        "id": "bthOeNs2BYEH"
      },
      "source": [
        "#Sayılar (Integer- Float) \n",
        "#\"Integer\" normal tamsayıları ifade ederken, \"Float\" Ondalıklı Sayıları İfade Eder"
      ]
    },
    {
      "cell_type": "code",
      "metadata": {
        "id": "o-Z0uXeHBXjo",
        "colab": {
          "base_uri": "https://localhost:8080/",
          "height": 51
        },
        "outputId": "83a82c55-920d-483f-e67e-64be3ddb3817"
      },
      "source": [
        "a = 3+3 \n",
        "print (a)\n",
        "print (type (a))"
      ],
      "execution_count": null,
      "outputs": [
        {
          "output_type": "stream",
          "text": [
            "6\n",
            "<class 'int'>\n"
          ],
          "name": "stdout"
        }
      ]
    },
    {
      "cell_type": "code",
      "metadata": {
        "id": "amOyAj3dBsdn",
        "colab": {
          "base_uri": "https://localhost:8080/",
          "height": 51
        },
        "outputId": "fe654f1f-bb0b-4d1c-f3b5-4e7437eccc19"
      },
      "source": [
        "sayi = [1,2,3,4]\n",
        "max(sayi) #Maximum Sayıyı yazar\n",
        "min(sayi) #Min Sayıyı yazar\n",
        "print (max(sayi))\n",
        "print (min(sayi))"
      ],
      "execution_count": null,
      "outputs": [
        {
          "output_type": "stream",
          "text": [
            "4\n",
            "1\n"
          ],
          "name": "stdout"
        }
      ]
    },
    {
      "cell_type": "markdown",
      "metadata": {
        "id": "cEkqgqIrCumP"
      },
      "source": [
        "#Boolean Veriler "
      ]
    },
    {
      "cell_type": "code",
      "metadata": {
        "id": "H1eNVMPICNIA",
        "colab": {
          "base_uri": "https://localhost:8080/",
          "height": 34
        },
        "outputId": "ba7b32d0-d33a-4a48-9c24-c9d5316fdf3e"
      },
      "source": [
        "a= 15 \n",
        "a== 15 #Karşılaştırmalı İfadeleri Tanımlamak ve Doğruluğu Teyit Amaçlı Kullanılan Veriler Boolean Verilerdi. "
      ],
      "execution_count": null,
      "outputs": [
        {
          "output_type": "execute_result",
          "data": {
            "text/plain": [
              "True"
            ]
          },
          "metadata": {
            "tags": []
          },
          "execution_count": 12
        }
      ]
    },
    {
      "cell_type": "markdown",
      "metadata": {
        "id": "CznAYW0uC0oI"
      },
      "source": [
        "#List Veri Tipi "
      ]
    },
    {
      "cell_type": "code",
      "metadata": {
        "id": "jLcWCgKICzfn",
        "colab": {
          "base_uri": "https://localhost:8080/",
          "height": 85
        },
        "outputId": "2aabacd8-aa68-4f09-8273-7af3e766e2b7"
      },
      "source": [
        "l = [\"orkun\", \"orcun\", \"kutay\" ]\n",
        "m = [\"umur\", \"kaan\", \"emo\"]\n",
        "k = [1989, 1989, 1986, [2020,20201], [23,8]]\n",
        "len (l) #l' nin boyutunu ölçer \n",
        "m[2] # m' nin 2. elamnını çağırır... \n",
        "k+ [7] #k ye 7 yi ekler.. \n",
        "c = l+m #L ve m listelerini toplar \n",
        "\n",
        "print(len (l))\n",
        "print (m[2])\n",
        "print (k+ [7])\n",
        "print (c)"
      ],
      "execution_count": null,
      "outputs": [
        {
          "output_type": "stream",
          "text": [
            "3\n",
            "emo\n",
            "[1989, 1989, 1986, [2020, 20201], [23, 8], 7]\n",
            "['orkun', 'orcun', 'kutay', 'umur', 'kaan', 'emo']\n"
          ],
          "name": "stdout"
        }
      ]
    },
    {
      "cell_type": "code",
      "metadata": {
        "id": "ve1ZHqyBCz4A",
        "colab": {
          "base_uri": "https://localhost:8080/",
          "height": 34
        },
        "outputId": "c8fa5e90-3a39-491b-d38b-62a9f4ac23d1"
      },
      "source": [
        "l.append(\"İlknur\") #append komutu listeye eleman ekler\n",
        "print (l)"
      ],
      "execution_count": null,
      "outputs": [
        {
          "output_type": "stream",
          "text": [
            "['orkun', 'orcun', 'kutay', 'İlknur', 'İlknur']\n"
          ],
          "name": "stdout"
        }
      ]
    },
    {
      "cell_type": "code",
      "metadata": {
        "id": "hyK0rMlgEjMW",
        "colab": {
          "base_uri": "https://localhost:8080/",
          "height": 34
        },
        "outputId": "243a27a7-ac31-40dc-8f48-7b0bd219faac"
      },
      "source": [
        "l.insert(3, \"asiye\" #Insert komutu listenin istenen sırasına eleman ekler \n",
        "l.insert (5,\"hüsnü\")# Insert kullanılırken önce indeks sırası sonra girilecek eleman yazılır \n",
        "print (l)"
      ],
      "execution_count": null,
      "outputs": [
        {
          "output_type": "stream",
          "text": [
            "['orkun', 'orcun', 'kutay', 'asiye', 'asiye', 'hüsnü', 'İlknur', 'İlknur']\n"
          ],
          "name": "stdout"
        }
      ]
    },
    {
      "cell_type": "code",
      "metadata": {
        "id": "iBTy2bNbFAdZ"
      },
      "source": [
        "#Sort, Alfabetik sıraya göre veya sayı doğrusundaki sıralara göre düzenleme yapar.. \n",
        "#Count, listede var olan elemanın kaç tane olduğunu sayar.. \n",
        "m.count(\"Umur\")\n",
        "l.sort()"
      ],
      "execution_count": null,
      "outputs": []
    },
    {
      "cell_type": "markdown",
      "metadata": {
        "id": "FhTNuXeWFdO-"
      },
      "source": [
        "#Tuple ve Dictionaries (Demet ve Sözlükler)\n",
        "#En önemli ayırt edilecek tarafı Demetler değtirlemez.. "
      ]
    },
    {
      "cell_type": "code",
      "metadata": {
        "id": "5xXGd1ZYFZYq",
        "colab": {
          "base_uri": "https://localhost:8080/",
          "height": 180
        },
        "outputId": "c60b627b-cb1d-4ed9-bc32-af051925fda4"
      },
      "source": [
        "a = (\"Basketbol\", \"Futbol\", \"Voleybol\")\n",
        "a[1] = \"Tenis\"\n",
        "#Tuple veri listesine ekleme yapamazsınız.. "
      ],
      "execution_count": null,
      "outputs": [
        {
          "output_type": "error",
          "ename": "TypeError",
          "evalue": "ignored",
          "traceback": [
            "\u001b[0;31m---------------------------------------------------------------------------\u001b[0m",
            "\u001b[0;31mTypeError\u001b[0m                                 Traceback (most recent call last)",
            "\u001b[0;32m<ipython-input-25-69dd977a99af>\u001b[0m in \u001b[0;36m<module>\u001b[0;34m()\u001b[0m\n\u001b[1;32m      1\u001b[0m \u001b[0ma\u001b[0m \u001b[0;34m=\u001b[0m \u001b[0;34m(\u001b[0m\u001b[0;34m\"Basketbol\"\u001b[0m\u001b[0;34m,\u001b[0m \u001b[0;34m\"Futbol\"\u001b[0m\u001b[0;34m,\u001b[0m \u001b[0;34m\"Voleybol\"\u001b[0m\u001b[0;34m)\u001b[0m\u001b[0;34m\u001b[0m\u001b[0;34m\u001b[0m\u001b[0m\n\u001b[0;32m----> 2\u001b[0;31m \u001b[0ma\u001b[0m\u001b[0;34m[\u001b[0m\u001b[0;36m1\u001b[0m\u001b[0;34m]\u001b[0m \u001b[0;34m=\u001b[0m \u001b[0;34m\"Tenis\"\u001b[0m\u001b[0;34m\u001b[0m\u001b[0;34m\u001b[0m\u001b[0m\n\u001b[0m",
            "\u001b[0;31mTypeError\u001b[0m: 'tuple' object does not support item assignment"
          ]
        }
      ]
    },
    {
      "cell_type": "markdown",
      "metadata": {
        "id": "ju4F5wgWGm16"
      },
      "source": [
        "#Liste Veri tİpi \n",
        "Listelerde bir anahtar bir de değer vardır.."
      ]
    },
    {
      "cell_type": "code",
      "metadata": {
        "id": "x8wi5CVtGass",
        "colab": {
          "base_uri": "https://localhost:8080/",
          "height": 34
        },
        "outputId": "38a3f447-6837-47a1-e84e-e24808ac0055"
      },
      "source": [
        "sozluk = {\"anahtar\": \"deger\"}\n",
        "\n",
        "ornek = {\"orkun\":30, \"mert\":29, \"ahmet\": 44}\n",
        "ornek [\"orkun\"]"
      ],
      "execution_count": null,
      "outputs": [
        {
          "output_type": "execute_result",
          "data": {
            "text/plain": [
              "30"
            ]
          },
          "metadata": {
            "tags": []
          },
          "execution_count": 30
        }
      ]
    },
    {
      "cell_type": "code",
      "metadata": {
        "id": "hz-_0kWZHiL0",
        "colab": {
          "base_uri": "https://localhost:8080/",
          "height": 34
        },
        "outputId": "de6fc684-4a20-497c-fcec-e0e8ce409c1c"
      },
      "source": [
        "ornek"
      ],
      "execution_count": null,
      "outputs": [
        {
          "output_type": "execute_result",
          "data": {
            "text/plain": [
              "{'ahmet': 44, 'mert': 29, 'orkun': 30}"
            ]
          },
          "metadata": {
            "tags": []
          },
          "execution_count": 31
        }
      ]
    },
    {
      "cell_type": "code",
      "metadata": {
        "id": "BZ1HWwuiH0o0",
        "colab": {
          "base_uri": "https://localhost:8080/",
          "height": 34
        },
        "outputId": "ef912593-6f22-40bf-cd12-1924e2c7e7b8"
      },
      "source": [
        "ornek.pop(\"ahmet\")#Sözlükten Ahmeti Çıkartır.. "
      ],
      "execution_count": null,
      "outputs": [
        {
          "output_type": "execute_result",
          "data": {
            "text/plain": [
              "44"
            ]
          },
          "metadata": {
            "tags": []
          },
          "execution_count": 34
        }
      ]
    },
    {
      "cell_type": "code",
      "metadata": {
        "id": "YVtBTg-9ICAl",
        "colab": {
          "base_uri": "https://localhost:8080/",
          "height": 34
        },
        "outputId": "083e1efc-5681-4dfb-c145-608121f74a1c"
      },
      "source": [
        "ornek"
      ],
      "execution_count": null,
      "outputs": [
        {
          "output_type": "execute_result",
          "data": {
            "text/plain": [
              "{'mert': 29, 'orkun': 30}"
            ]
          },
          "metadata": {
            "tags": []
          },
          "execution_count": 35
        }
      ]
    },
    {
      "cell_type": "markdown",
      "metadata": {
        "id": "ngyXp6vrIrM0"
      },
      "source": [
        "#ÖDEV "
      ]
    },
    {
      "cell_type": "code",
      "metadata": {
        "id": "dvZpsDCzIsdz"
      },
      "source": [
        "Kendi oluşturacağınız bir liste ile \"Öğrenci ismi- Soyismi- Numarası- Sınıfı\" bilgilerini içeren bir listeyi dictionary içinde saklayınız.. "
      ],
      "execution_count": null,
      "outputs": []
    }
  ]
}