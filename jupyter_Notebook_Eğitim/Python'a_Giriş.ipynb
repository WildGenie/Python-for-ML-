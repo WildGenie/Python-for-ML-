{
  "nbformat": 4,
  "nbformat_minor": 0,
  "metadata": {
    "colab": {
      "name": "Python'a Giriş.ipynb",
      "provenance": [],
      "collapsed_sections": []
    },
    "kernelspec": {
      "name": "python3",
      "display_name": "Python 3"
    }
  },
  "cells": [
    {
      "cell_type": "markdown",
      "metadata": {
        "id": "NL8R8oTt0Tuy"
      },
      "source": [
        "# Neden Python?\n",
        "\n",
        "- Temiz bir söz dizimi\n",
        "- Kolay okunur ve anlaşılır\n",
        "- Nesne yönelik ve modüler bir dil olduğundan büyük ölçekli projeler geliştirmek için uygun\n",
        "- Geniş kütüphanesi ve gelişmiş söz dizimi sebebiyle kullanıcıyı detaylarla uğraştırmadığı için hızlı ve ufak projeler geliştirmek için ideal\n",
        "- Açık kaynak kodlu ve ücretsiz\n",
        "- Bir çok sistem ve platform için destek vermekle\n",
        "- Diğer dillerle genişletilebilinir\n",
        "\n",
        "# Olumsuz yanları:\n",
        "\n",
        "- Hız ve performans gerektiren uygulamalar için uygun değil\n",
        "- Kullanıcı ara yüzü için harici kütüphaneler kullanılmakta\n",
        "- Linux, Windows ve Macintosh gibi masa üstü platformlar yerel olarak desteklenirken, web, mobil gibi platformlar harici kütüphanelerle desteklenmekte\n",
        "\n"
      ]
    },
    {
      "cell_type": "markdown",
      "metadata": {
        "id": "CqOEUhzr3VkY"
      },
      "source": [
        "# Kodlamaya giriş"
      ]
    },
    {
      "cell_type": "markdown",
      "metadata": {
        "id": "15VrupR41VYK"
      },
      "source": [
        "\n",
        "## Hoş Geldin Dünya\n"
      ]
    },
    {
      "cell_type": "code",
      "metadata": {
        "id": "zaYbihrQ0Z-c"
      },
      "source": [
        "print('Selam Dünya!')"
      ],
      "execution_count": null,
      "outputs": []
    },
    {
      "cell_type": "markdown",
      "metadata": {
        "id": "_9TBY4vZ1crX"
      },
      "source": [
        "## Yorum Satırı\n"
      ]
    },
    {
      "cell_type": "code",
      "metadata": {
        "id": "DLLYHHuX0498"
      },
      "source": [
        "# Kare işaretinden sonra yazılan satırlar\n",
        "# derleyici tarafından yok sayılır\n",
        "# Gelecek Bilimde - Oyun İçinde Oyun"
      ],
      "execution_count": null,
      "outputs": []
    },
    {
      "cell_type": "code",
      "metadata": {
        "id": "EsNm6nzf3sfR"
      },
      "source": [
        "\"\"\"\n",
        "Birden çok satırda yorum yapmak için\n",
        "Yorum bloğu kullanılır\n",
        "\"\"\""
      ],
      "execution_count": null,
      "outputs": []
    },
    {
      "cell_type": "markdown",
      "metadata": {
        "id": "avbaWSTl1lS7"
      },
      "source": [
        "\n",
        "## Değişkenler, Atamalar\n"
      ]
    },
    {
      "cell_type": "code",
      "metadata": {
        "id": "wCsVW8QZ06Mc"
      },
      "source": [
        "x = 1         # 1 değeri x değişkenine atandı\n",
        "y = x + 5     # x değerine 5 eklenip y değişkenine atandı\n",
        "z = y         # z değişkenine y değeri atandı"
      ],
      "execution_count": null,
      "outputs": []
    },
    {
      "cell_type": "markdown",
      "metadata": {
        "id": "GEzoTMKG1q_a"
      },
      "source": [
        "- Tür tanımlı dillerde olduğu gibi değişkenlerin tipleri bildirilmez. Python Dinamik tipli bir dildir.\n",
        "- Değişkenleri tanımlarken değişken etiketi kullanılmaz\n",
        "\n",
        "## Rakamlar\n"
      ]
    },
    {
      "cell_type": "code",
      "metadata": {
        "id": "2nVs0dNy09zV"
      },
      "source": [
        "x = 1       # tam sayı, integer\n",
        "x = 1.0     # ondalık (rasyonel) sayı, decimal (floating point)"
      ],
      "execution_count": null,
      "outputs": []
    },
    {
      "cell_type": "markdown",
      "metadata": {
        "id": "6RFGL0_21zK3"
      },
      "source": [
        "## Mantıksal veriler\n"
      ]
    },
    {
      "cell_type": "code",
      "metadata": {
        "id": "ozUGng521BY4"
      },
      "source": [
        "x = True       # mantıksal (olumlu, olumsuz), booleon"
      ],
      "execution_count": null,
      "outputs": []
    },
    {
      "cell_type": "markdown",
      "metadata": {
        "id": "89XCvYIg1249"
      },
      "source": [
        "## Dizeler (String İfadeler)\n"
      ]
    },
    {
      "cell_type": "code",
      "metadata": {
        "id": "x7NyAv_21E-O",
        "outputId": "906230a0-6e40-461b-8cf7-7727f670832c",
        "colab": {
          "base_uri": "https://localhost:8080/",
          "height": 34
        }
      },
      "source": [
        "x = 'Bu bir dizedir'   # dize (yazı), string\n",
        "x"
      ],
      "execution_count": null,
      "outputs": [
        {
          "output_type": "execute_result",
          "data": {
            "text/plain": [
              "'Bu bir dizedir'"
            ]
          },
          "metadata": {
            "tags": []
          },
          "execution_count": 6
        }
      ]
    },
    {
      "cell_type": "code",
      "metadata": {
        "id": "MP7fws0W4MB1",
        "outputId": "9fc54143-1b22-45df-dd61-fee794753ef7",
        "colab": {
          "base_uri": "https://localhost:8080/",
          "height": 34
        }
      },
      "source": [
        "y = \"Bir yazı\"         # tek yada çift tırnak arasında tanımlanabilinir\n",
        "y"
      ],
      "execution_count": null,
      "outputs": [
        {
          "output_type": "execute_result",
          "data": {
            "text/plain": [
              "'Bir yazı'"
            ]
          },
          "metadata": {
            "tags": []
          },
          "execution_count": 5
        }
      ]
    },
    {
      "cell_type": "code",
      "metadata": {
        "id": "1js5e1LF4PRw",
        "outputId": "04b88d92-cb14-4e4c-c283-248ceee73a8a",
        "colab": {
          "base_uri": "https://localhost:8080/",
          "height": 34
        }
      },
      "source": [
        "isim = \"Orkun Teke\"\n",
        "karsilama = \"Hoş geldin \" + isim\n",
        "# string ifadeleri birbirine bağlamak (\"concatenation\") için + operatörü kullanılır\n",
        "karsilama"
      ],
      "execution_count": null,
      "outputs": [
        {
          "output_type": "execute_result",
          "data": {
            "text/plain": [
              "'Hoş geldin Orkun Teke'"
            ]
          },
          "metadata": {
            "tags": []
          },
          "execution_count": 7
        }
      ]
    },
    {
      "cell_type": "code",
      "metadata": {
        "id": "XXInlAJQJJ7o",
        "outputId": "201a00c5-1fb3-4191-9dbc-86791379eec8",
        "colab": {
          "base_uri": "https://localhost:8080/",
          "height": 34
        }
      },
      "source": [
        "\n",
        "ornek = \"Zeki'nin Laptopunun Markası \\\"Lenovo\\\"\"\n",
        "ornek"
      ],
      "execution_count": null,
      "outputs": [
        {
          "output_type": "execute_result",
          "data": {
            "text/plain": [
              "'Zeki\\'nin Laptopunun Markası \"Lenovo\"'"
            ]
          },
          "metadata": {
            "tags": []
          },
          "execution_count": 2
        }
      ]
    },
    {
      "cell_type": "markdown",
      "metadata": {
        "id": "jVz88lGu5d5G"
      },
      "source": [
        "## Operatorler\n",
        "\n"
      ]
    },
    {
      "cell_type": "markdown",
      "metadata": {
        "id": "s3vfXOeq-6wT"
      },
      "source": [
        "\n",
        "### Matematiksel İşlemler\n",
        "\n",
        "| İşlem Türü  | Açıklama  |\n",
        "|:-:|---|\n",
        "| + | Toplama  |\n",
        "| - | Çıkarma  |\n",
        "| * | Çarpma  |\n",
        "| ** | Üst alma|\n",
        "| / | Bölme|\n",
        "| // | Tam sayı bölme|\n",
        "| % | Mod alma (Bölmede Kalan)|\n"
      ]
    },
    {
      "cell_type": "code",
      "metadata": {
        "id": "LiHnWr4L5mMr"
      },
      "source": [
        ""
      ],
      "execution_count": null,
      "outputs": []
    },
    {
      "cell_type": "markdown",
      "metadata": {
        "id": "V7KptaTk9ozT"
      },
      "source": [
        "### Bit işlemler\n",
        "\n",
        "| İşlem Türü  | Açıklama  |\n",
        "|:-:|---|\n",
        "| & | Ve  |\n",
        "| \\| | Veya  |\n",
        "| ^ | Özel Veya (XOR)  |\n",
        "| ~ | Değil |\n",
        "| >> |  Sağa Kaydırma |\n",
        "| << | Sola Kaydırma |\n"
      ]
    },
    {
      "cell_type": "code",
      "metadata": {
        "id": "goNh5pAv-Kop"
      },
      "source": [
        ""
      ],
      "execution_count": null,
      "outputs": []
    },
    {
      "cell_type": "markdown",
      "metadata": {
        "id": "L3RHvsOj-mRd"
      },
      "source": [
        ""
      ]
    },
    {
      "cell_type": "markdown",
      "metadata": {
        "id": "m3ifBKIB7CpH"
      },
      "source": [
        "### Bileşik İşlemler\n",
        "| Operator |Örnek|Benzer Kullanımı|\n",
        "|:-:|---|---|\n",
        "| =\t\t| x = 5\t\t|x = 5\t \t  |\n",
        "| +=\t| x += 3\t|x = x + 3\t  |\n",
        "| -=\t| x -= 3\t|x = x - 3\t  |\n",
        "| *=\t| x *= 3\t|x = x * 3\t  |\n",
        "| /=\t| x /= 3\t|x = x / 3\t  |\n",
        "| %=\t| x %= 3\t|x = x % 3\t  |\n",
        "| //=\t| x //= 3\t|x = x // 3\t  |\n",
        "| **=\t| x **= 3\t|x = x ** 3\t  |\n",
        "| &=\t| x &= 3\t|x = x & 3\t  |\n",
        "| \\|=\t| x \\|= 3\t|x = x \\| 3\t  |\n",
        "| ^=\t| x ^= 3\t|x = x ^ 3\t  |\n",
        "| >>=\t| x >>= 3\t|x = x >> 3\t  |\n",
        "| <<=\t| x <<= 3\t|x = x << 3   |"
      ]
    },
    {
      "cell_type": "code",
      "metadata": {
        "id": "XBJ-G9mt9GTw"
      },
      "source": [
        ""
      ],
      "execution_count": null,
      "outputs": []
    },
    {
      "cell_type": "markdown",
      "metadata": {
        "id": "CbLjUJRW_I6r"
      },
      "source": [
        "### Karşılaştırma İşlemleri\n",
        "| İşlem   \t|  Açıklama \t|  Örnek \t|\n",
        "|:-:\t|---\t|---\t|\n",
        "| >  \t|  Büyüktür \t|   \t|\n",
        "| <  \t|  Küçüktür \t|   \t|\n",
        "| ==  \t|  Eşittir \t|   \t|\n",
        "| >=  \t|  Büyük Eşit |   \t|\n",
        "| >=  \t|  Küçük Eşit |   \t|"
      ]
    },
    {
      "cell_type": "code",
      "metadata": {
        "id": "aDQ2kRsM_QfJ"
      },
      "source": [
        ""
      ],
      "execution_count": null,
      "outputs": []
    },
    {
      "cell_type": "markdown",
      "metadata": {
        "id": "xJmc-9gv_eNu"
      },
      "source": [
        "### Mantıksal İşlemler\n",
        "| İşlem   \t|  Açıklama \t|  Örnek \t|\n",
        "|:-:\t|---\t|---\t|\n",
        "|   \t|   \t|   \t|\n",
        "|   \t|   \t|   \t|\n",
        "|   \t|   \t|   \t|"
      ]
    },
    {
      "cell_type": "code",
      "metadata": {
        "id": "iWsmlSL0_uAW"
      },
      "source": [
        ""
      ],
      "execution_count": null,
      "outputs": []
    },
    {
      "cell_type": "markdown",
      "metadata": {
        "id": "R4DMNNu5_uYI"
      },
      "source": [
        "### Tanımlama (Identity) İşlemleri\n",
        "| İşlem   \t|  Açıklama \t|  Örnek \t|\n",
        "|:-:\t|---\t|---\t|\n",
        "|   \t|   \t|   \t|\n",
        "|   \t|   \t|   \t|\n",
        "|   \t|   \t|   \t|"
      ]
    },
    {
      "cell_type": "code",
      "metadata": {
        "id": "ZwWh4rLW_9pG"
      },
      "source": [
        ""
      ],
      "execution_count": null,
      "outputs": []
    },
    {
      "cell_type": "markdown",
      "metadata": {
        "id": "DDjZ7Qe___9F"
      },
      "source": [
        "### Üyelik (Membership) İşlemleri\n",
        "| İşlem   \t|  Açıklama \t|  Örnek \t|\n",
        "|:-:\t|---\t|---\t|\n",
        "|   \t|   \t|   \t|\n",
        "|   \t|   \t|   \t|\n",
        "|   \t|   \t|   \t|"
      ]
    },
    {
      "cell_type": "code",
      "metadata": {
        "id": "9L5ygr0-BLzs"
      },
      "source": [
        ""
      ],
      "execution_count": null,
      "outputs": []
    },
    {
      "cell_type": "markdown",
      "metadata": {
        "id": "a3pKOjuqBMV5"
      },
      "source": [
        "# Veri Tipleri\n",
        "\n",
        "| Örnek | Veri Tipi |\n",
        "|---|---|\n",
        "| x = \"Hello World\" | str | \n",
        "| x = 20 | int | \n",
        "| x = 20.5 | float | \n",
        "| x = 1j | complex | \n",
        "| x = [\"apple\", \"banana\", \"cherry\"] | list | \n",
        "| x = (\"apple\", \"banana\", \"cherry\") | tuple | \n",
        "| x = range(6) | range | \n",
        "| x = {\"name\" : \"John\", \"age\" : 36} | dict | \n",
        "| x = {\"apple\", \"banana\", \"cherry\"} | set | \n",
        "| x = frozenset({\"apple\", \"banana\", \"cherry\"}) | frozenset | \n",
        "| x = True | bool | \n",
        "| x = b\"Hello\" | bytes | \n",
        "| x = bytearray(5) | bytearray | \n",
        "| x = memoryview(bytes(5)) | memoryview | \n"
      ]
    },
    {
      "cell_type": "code",
      "metadata": {
        "id": "ZA-gihxuByIE"
      },
      "source": [
        ""
      ],
      "execution_count": null,
      "outputs": []
    },
    {
      "cell_type": "markdown",
      "metadata": {
        "id": "ELItSpyGByTn"
      },
      "source": [
        "### Diğer veri tipleri\n",
        "| Örnek | Veri Tipi |\n",
        "|---|---|\n",
        "| x = str(\"Hello World\") | str | \n",
        "| x = int(20) | int | \n",
        "| x = float(20.5) | float | \n",
        "| x = complex(1j) | complex | \n",
        "| x = list((\"apple\", \"banana\", \"cherry\")) | list | \n",
        "| x = tuple((\"apple\", \"banana\", \"cherry\")) | tuple | \n",
        "| x = range(6) | range | \n",
        "| x = dict(name=\"John\", age=36) | dict | \n",
        "| x = set((\"apple\", \"banana\", \"cherry\")) | set | \n",
        "| x = frozenset((\"apple\", \"banana\", \"cherry\")) | frozenset | \n",
        "| x = bool(5) | bool | \n",
        "| x = bytes(5) | bytes | \n",
        "| x = bytearray(5) | bytearray | \n",
        "| x = memoryview(bytes(5)) | memoryview |"
      ]
    },
    {
      "cell_type": "code",
      "metadata": {
        "id": "Yip6Od10B7UF"
      },
      "source": [
        ""
      ],
      "execution_count": null,
      "outputs": []
    }
  ]
}