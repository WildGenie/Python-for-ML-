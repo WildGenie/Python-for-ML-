{
  "nbformat": 4,
  "nbformat_minor": 0,
  "metadata": {
    "colab": {
      "name": "Lineer_Regr.ipynb",
      "provenance": [],
      "collapsed_sections": []
    },
    "kernelspec": {
      "name": "python3",
      "display_name": "Python 3"
    }
  },
  "cells": [
    {
      "cell_type": "markdown",
      "metadata": {
        "id": "cS3BpRlUyzj3"
      },
      "source": [
        "#DERS- 12: SIMPLE LINEAR REGRESSION (Basit Lineer Regresyon) \n",
        "\n",
        "Regresyon, tahminci bir analiz yöntemi.. Ekonomi, Finans vb. alanlarda kullanılır. Regresyonda, çıktı olarak \"tahminlenmiş sayısal bir ifade\" karşımıza çıkar. Günlük hayatta değişkenler arasında, birimler gibi tam doğrusal ilişkiler gözlemlenemez. Genelde bir rassallık söz konusudur. Değişkenler arasında doğrusal ilişki gözlendiğinde geleceğe dair tahminde bulunmak, değişkenlerin birbirleri üzerinde nasıl etkide bulunduğunu incelemek ve çıkarım yapmak için doğrusal regresyon modeli kullanılır. Tek bir bağımsız değiken olduğunda regresyon modeline Basit Doğrusal Regresyon, birden fazla bağımsız değişken olduğunda ise Çoklu Doğrusal Regresyon Modeli denir.\n",
        "\n",
        "Hadi Gelin Kodlarla Bu İşi Daha Rahat Anlamaya Çalışalım... \n",
        "\n",
        "Bknz: COLAB Linki :) \n",
        "\n",
        "Yarın Çoklu Doğrusal Regresyon ile Devam Edeceğiz.. \n"
      ]
    },
    {
      "cell_type": "markdown",
      "metadata": {
        "id": "KNWow-pv01QX"
      },
      "source": [
        "Çalışmada TV pazarlama bütçesine karşılık yapılan satış miktarlarını lineer regresyon metoduyla inceleme şansımız olacak.. \n",
        "\n",
        "Bağımsız değişkenimiz TV marketing budget (Pazarlama Bütçesi) ile Sales (Satış) bağımlı değişkenini lineer regresyon için kullanacağız."
      ]
    },
    {
      "cell_type": "code",
      "metadata": {
        "id": "rN2xoSOAyyjn"
      },
      "source": [
        "#Öncelikle Kütüphaneleri Yükleyelim \n",
        "\n",
        "import pandas as pd \n",
        "import numpy as np\n",
        "import matplotlib.pyplot as plt\n"
      ],
      "execution_count": null,
      "outputs": []
    },
    {
      "cell_type": "markdown",
      "metadata": {
        "id": "o2Os-DRV15IC"
      },
      "source": [
        "#Lineer Regresyon denklemini hatırlayalım;\n",
        "𝑦=𝑐+𝑤1𝑥1+𝑤2𝑥2+...+𝑤𝑛𝑥𝑛 \n",
        "𝑦  bağımlı değişken.\n",
        "𝑐  intercept.\n",
        "𝑤1  ilk bağımsız değişkenin katsayısı.\n",
        "𝑤𝑛  n.inci değişkenin katsayısı.\n",
        "Bizim senaryomuzda denklem aşağıdaki gibidir:\n",
        "\n",
        "𝑦=𝑐+𝑚1×𝑇𝑉 \n",
        "𝑤  değerleri bizim modelimizde katsayı(slope) veya model parameterleri olarak adlandırılır.\n",
        "\n"
      ]
    },
    {
      "cell_type": "code",
      "metadata": {
        "id": "QSQi7q-m4d39",
        "colab": {
          "base_uri": "https://localhost:8080/",
          "height": 333
        },
        "outputId": "6270c7bf-3f28-4369-c80a-5010b5c87550"
      },
      "source": [
        "#@Author: Orkun TEKE\n",
        "#First of all must load the libraries! \n",
        "import numpy as np #For easier calculations\n",
        "import pandas as pd #Reading Data Efficiently\n",
        "from sklearn.linear_model import LinearRegression as lr #Calculate Linear Regression without coding\n",
        "import matplotlib.pyplot as plt\n",
        "#Let' s Coding ;) . \n",
        "\n",
        "data = pd.read_csv(\"linear.csv\")  # Reading Data\n",
        "\n",
        "x = data[\"metrekare\"]\n",
        "y = data[\"fiyat\"]\n",
        "\n",
        "x = x.values.reshape(99,1)\n",
        "y = y.values.reshape(99,1)\n",
        "\n",
        "lineerregresyon = lr() # Calling Linear Regression\n",
        "\n",
        "lineerregresyon.fit(x,y) # Fitting process of X and Y\n",
        "\n",
        "lineerregresyon.predict(x) #Prediction\n",
        "\n",
        "m = lineerregresyon.coef_ # Coefficient- For solving Gradient \n",
        "b= lineerregresyon.intercept_ # Intercept - b. \n",
        "\n",
        "a = np.arange(150)\n",
        "\n",
        "plt.scatter(x,y) # Drawing Point By Point \n",
        "plt.scatter(a,m*a+b, c=\"red\",marker=\">\")\n",
        "plt.show()\n",
        "\n",
        "print('Eğim: ', lineerregresyon.coef_)\n",
        "print('Y de kesiştiği yer: ', lineerregresyon.intercept_)\n",
        "\n",
        "\n",
        "print(\"Denklem\")\n",
        "print(\"y=\",m,\"x+\",b)\n",
        "\n"
      ],
      "execution_count": null,
      "outputs": [
        {
          "output_type": "display_data",
          "data": {
            "image/png": "[encoded data removed]",
            "text/plain": [
              "<Figure size 432x288 with 1 Axes>"
            ]
          },
          "metadata": {
            "tags": []
          }
        },
        {
          "output_type": "stream",
          "text": [
            "Eğim:  [[1.70655779]]\n",
            "Y de kesiştiği yer:  [-0.0059023]\n",
            "Denklem\n",
            "y= [[1.70655779]] x+ [-0.0059023]\n"
          ],
          "name": "stdout"
        }
      ]
    }
  ]
}