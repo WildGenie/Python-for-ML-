{
  "nbformat": 4,
  "nbformat_minor": 0,
  "metadata": {
    "colab": {
      "name": "LOG. REG.ipynb",
      "provenance": [],
      "toc_visible": true
    },
    "kernelspec": {
      "name": "python3",
      "display_name": "Python 3"
    }
  },
  "cells": [
    {
      "cell_type": "markdown",
      "metadata": {
        "id": "KamVKahTTCIC"
      },
      "source": [
        "#DERS 18- LOJİSTİK REGRESYON \n",
        "\n",
        "En kolay uygulaması ve açıklaması olan makine öğrenmesi algortimasıdır.. Tahmin etmek istediğimiz değişkenimizin tipi kategorik ise Lojistik Regresyon kullanabiliriz. (Örneğin bir kişinin kanser olup olmadığı, bir kişiye kredi verilip verilmeyeceği veya bir mailin spam olup olmadığı gibi..)\n",
        "\n",
        "Bu örnekten yola çıkarak  lojistik regresyonun amacını şu şekilde açıklayabiliriz; iki yönlü karakteristiği olan bağımlı değişkenle ilgili bir dizi bağımsız değişken arasında uygun ilişkiyi tanımlamak için en uygun modeli bulmaktır.\n",
        "\n",
        " Lojistik regresyon analizinde dikkat edilmesi gereken noktalar;\n",
        "\n",
        "Bağımsız değişkenler arasında uygun olan tüm değişkenlerin modele dahil edilmesi, böylece model yetersizliğinin önüne geçilebilir.\n",
        "Bağımsız değişkenler arasından uygun olmayan tüm değişkenlerin modelden dışlanması, böylelikle model karmaşıklıktan kurtulur ve yorumlanması kolay bir hal alır.\n",
        "Tekrarlanmış ölçümlerden kaçınılmalıdır.\n",
        "Bağımsız değişkenlerin ölçüm hataları küçük olmalı ve kayıp veri (missing value) olmamalıdır. Hatalar büyük olursa model yanlı ve yetersiz olur.\n",
        "Bağımsız değişkenler birbiriyle ilişkili olmaması gerekmektedir.\n",
        "Uç değerler olmamalıdır.\n",
        "Örneklem sayısı model kurulmasının sağlığı için büyük olmalıdır.\n",
        "\n",
        "#Telecom Churn Case Study\n",
        "21 adet değişken yardımıyla müşterinin gelecekte başka bir telecom firmasına geçip geçmeyeceğini logistic regression ile tahminlemeye çalışacağız.\n",
        "\n",
        "\n",
        "\n"
      ]
    },
    {
      "cell_type": "code",
      "metadata": {
        "id": "gg5ehRglS10F"
      },
      "source": [
        "# Pandas ve Numpy kütüphanelerinin import edilmesi\n",
        "import pandas as pd\n",
        "import numpy as np"
      ],
      "execution_count": null,
      "outputs": []
    },
    {
      "cell_type": "code",
      "metadata": {
        "id": "sxP5a_DeTaxM",
        "colab": {
          "base_uri": "https://localhost:8080/",
          "height": 212
        },
        "outputId": "3ec88682-c6ee-4554-d2e3-9cf2331173bd"
      },
      "source": [
        "# Gerekli veri setlerinin içeriye alınması.\n",
        "churn_data = pd.read_csv(\"churn_data.csv\")\n",
        "customer_data = pd.read_csv(\"customer_data.csv\")\n",
        "internet_data = pd.read_csv(\"internet_data.csv\")\n",
        "\n",
        "churn_data.head(3)\n",
        "customer_data.head(3)\n",
        "internet_data.head(3)"
      ],
      "execution_count": null,
      "outputs": [
        {
          "output_type": "execute_result",
          "data": {
            "text/html": [
              "<div>\n",
              "<style scoped>\n",
              "    .dataframe tbody tr th:only-of-type {\n",
              "        vertical-align: middle;\n",
              "    }\n",
              "\n",
              "    .dataframe tbody tr th {\n",
              "        vertical-align: top;\n",
              "    }\n",
              "\n",
              "    .dataframe thead th {\n",
              "        text-align: right;\n",
              "    }\n",
              "</style>\n",
              "<table border=\"1\" class=\"dataframe\">\n",
              "  <thead>\n",
              "    <tr style=\"text-align: right;\">\n",
              "      <th></th>\n",
              "      <th>customerID</th>\n",
              "      <th>MultipleLines</th>\n",
              "      <th>InternetService</th>\n",
              "      <th>OnlineSecurity</th>\n",
              "      <th>OnlineBackup</th>\n",
              "      <th>DeviceProtection</th>\n",
              "      <th>TechSupport</th>\n",
              "      <th>StreamingTV</th>\n",
              "      <th>StreamingMovies</th>\n",
              "    </tr>\n",
              "  </thead>\n",
              "  <tbody>\n",
              "    <tr>\n",
              "      <th>0</th>\n",
              "      <td>7590-VHVEG</td>\n",
              "      <td>No phone service</td>\n",
              "      <td>DSL</td>\n",
              "      <td>No</td>\n",
              "      <td>Yes</td>\n",
              "      <td>No</td>\n",
              "      <td>No</td>\n",
              "      <td>No</td>\n",
              "      <td>No</td>\n",
              "    </tr>\n",
              "    <tr>\n",
              "      <th>1</th>\n",
              "      <td>5575-GNVDE</td>\n",
              "      <td>No</td>\n",
              "      <td>DSL</td>\n",
              "      <td>Yes</td>\n",
              "      <td>No</td>\n",
              "      <td>Yes</td>\n",
              "      <td>No</td>\n",
              "      <td>No</td>\n",
              "      <td>No</td>\n",
              "    </tr>\n",
              "    <tr>\n",
              "      <th>2</th>\n",
              "      <td>3668-QPYBK</td>\n",
              "      <td>No</td>\n",
              "      <td>DSL</td>\n",
              "      <td>Yes</td>\n",
              "      <td>Yes</td>\n",
              "      <td>No</td>\n",
              "      <td>No</td>\n",
              "      <td>No</td>\n",
              "      <td>No</td>\n",
              "    </tr>\n",
              "  </tbody>\n",
              "</table>\n",
              "</div>"
            ],
            "text/plain": [
              "   customerID     MultipleLines  ... StreamingTV StreamingMovies\n",
              "0  7590-VHVEG  No phone service  ...          No              No\n",
              "1  5575-GNVDE                No  ...          No              No\n",
              "2  3668-QPYBK                No  ...          No              No\n",
              "\n",
              "[3 rows x 9 columns]"
            ]
          },
          "metadata": {
            "tags": []
          },
          "execution_count": 5
        }
      ]
    },
    {
      "cell_type": "code",
      "metadata": {
        "id": "s7LCNo6NT9SR"
      },
      "source": [
        "#Veri setlerinin customerID'den inner join ile birleştirilmesi\n",
        "df_1 = pd.merge(churn_data, customer_data, how='inner', on='customerID')"
      ],
      "execution_count": null,
      "outputs": []
    },
    {
      "cell_type": "code",
      "metadata": {
        "id": "x2DGAT2mUM-9"
      },
      "source": [
        "telecom = pd.merge(df_1, internet_data, how='inner', on='customerID')"
      ],
      "execution_count": null,
      "outputs": []
    },
    {
      "cell_type": "markdown",
      "metadata": {
        "id": "xyt_LRfyUVCF"
      },
      "source": [
        "#Veri Setini İnceleme"
      ]
    },
    {
      "cell_type": "code",
      "metadata": {
        "id": "pW9YlqyIUV1q",
        "colab": {
          "base_uri": "https://localhost:8080/",
          "height": 308
        },
        "outputId": "555536c0-fe6d-4e43-893d-ba165f0c1533"
      },
      "source": [
        "# İlk 5 satır, Churn kolonu bizim tahminlememiz gereken bağımlı değişkendir.\n",
        "telecom.head()"
      ],
      "execution_count": null,
      "outputs": [
        {
          "output_type": "execute_result",
          "data": {
            "text/html": [
              "<div>\n",
              "<style scoped>\n",
              "    .dataframe tbody tr th:only-of-type {\n",
              "        vertical-align: middle;\n",
              "    }\n",
              "\n",
              "    .dataframe tbody tr th {\n",
              "        vertical-align: top;\n",
              "    }\n",
              "\n",
              "    .dataframe thead th {\n",
              "        text-align: right;\n",
              "    }\n",
              "</style>\n",
              "<table border=\"1\" class=\"dataframe\">\n",
              "  <thead>\n",
              "    <tr style=\"text-align: right;\">\n",
              "      <th></th>\n",
              "      <th>customerID</th>\n",
              "      <th>tenure</th>\n",
              "      <th>PhoneService</th>\n",
              "      <th>Contract</th>\n",
              "      <th>PaperlessBilling</th>\n",
              "      <th>PaymentMethod</th>\n",
              "      <th>MonthlyCharges</th>\n",
              "      <th>TotalCharges</th>\n",
              "      <th>Churn</th>\n",
              "      <th>gender</th>\n",
              "      <th>SeniorCitizen</th>\n",
              "      <th>Partner</th>\n",
              "      <th>Dependents</th>\n",
              "      <th>MultipleLines</th>\n",
              "      <th>InternetService</th>\n",
              "      <th>OnlineSecurity</th>\n",
              "      <th>OnlineBackup</th>\n",
              "      <th>DeviceProtection</th>\n",
              "      <th>TechSupport</th>\n",
              "      <th>StreamingTV</th>\n",
              "      <th>StreamingMovies</th>\n",
              "    </tr>\n",
              "  </thead>\n",
              "  <tbody>\n",
              "    <tr>\n",
              "      <th>0</th>\n",
              "      <td>7590-VHVEG</td>\n",
              "      <td>1</td>\n",
              "      <td>No</td>\n",
              "      <td>Month-to-month</td>\n",
              "      <td>Yes</td>\n",
              "      <td>Electronic check</td>\n",
              "      <td>29.85</td>\n",
              "      <td>29.85</td>\n",
              "      <td>No</td>\n",
              "      <td>Female</td>\n",
              "      <td>0</td>\n",
              "      <td>Yes</td>\n",
              "      <td>No</td>\n",
              "      <td>No phone service</td>\n",
              "      <td>DSL</td>\n",
              "      <td>No</td>\n",
              "      <td>Yes</td>\n",
              "      <td>No</td>\n",
              "      <td>No</td>\n",
              "      <td>No</td>\n",
              "      <td>No</td>\n",
              "    </tr>\n",
              "    <tr>\n",
              "      <th>1</th>\n",
              "      <td>5575-GNVDE</td>\n",
              "      <td>34</td>\n",
              "      <td>Yes</td>\n",
              "      <td>One year</td>\n",
              "      <td>No</td>\n",
              "      <td>Mailed check</td>\n",
              "      <td>56.95</td>\n",
              "      <td>1889.5</td>\n",
              "      <td>No</td>\n",
              "      <td>Male</td>\n",
              "      <td>0</td>\n",
              "      <td>No</td>\n",
              "      <td>No</td>\n",
              "      <td>No</td>\n",
              "      <td>DSL</td>\n",
              "      <td>Yes</td>\n",
              "      <td>No</td>\n",
              "      <td>Yes</td>\n",
              "      <td>No</td>\n",
              "      <td>No</td>\n",
              "      <td>No</td>\n",
              "    </tr>\n",
              "    <tr>\n",
              "      <th>2</th>\n",
              "      <td>3668-QPYBK</td>\n",
              "      <td>2</td>\n",
              "      <td>Yes</td>\n",
              "      <td>Month-to-month</td>\n",
              "      <td>Yes</td>\n",
              "      <td>Mailed check</td>\n",
              "      <td>53.85</td>\n",
              "      <td>108.15</td>\n",
              "      <td>Yes</td>\n",
              "      <td>Male</td>\n",
              "      <td>0</td>\n",
              "      <td>No</td>\n",
              "      <td>No</td>\n",
              "      <td>No</td>\n",
              "      <td>DSL</td>\n",
              "      <td>Yes</td>\n",
              "      <td>Yes</td>\n",
              "      <td>No</td>\n",
              "      <td>No</td>\n",
              "      <td>No</td>\n",
              "      <td>No</td>\n",
              "    </tr>\n",
              "    <tr>\n",
              "      <th>3</th>\n",
              "      <td>7795-CFOCW</td>\n",
              "      <td>45</td>\n",
              "      <td>No</td>\n",
              "      <td>One year</td>\n",
              "      <td>No</td>\n",
              "      <td>Bank transfer (automatic)</td>\n",
              "      <td>42.30</td>\n",
              "      <td>1840.75</td>\n",
              "      <td>No</td>\n",
              "      <td>Male</td>\n",
              "      <td>0</td>\n",
              "      <td>No</td>\n",
              "      <td>No</td>\n",
              "      <td>No phone service</td>\n",
              "      <td>DSL</td>\n",
              "      <td>Yes</td>\n",
              "      <td>No</td>\n",
              "      <td>Yes</td>\n",
              "      <td>Yes</td>\n",
              "      <td>No</td>\n",
              "      <td>No</td>\n",
              "    </tr>\n",
              "    <tr>\n",
              "      <th>4</th>\n",
              "      <td>9237-HQITU</td>\n",
              "      <td>2</td>\n",
              "      <td>Yes</td>\n",
              "      <td>Month-to-month</td>\n",
              "      <td>Yes</td>\n",
              "      <td>Electronic check</td>\n",
              "      <td>70.70</td>\n",
              "      <td>151.65</td>\n",
              "      <td>Yes</td>\n",
              "      <td>Female</td>\n",
              "      <td>0</td>\n",
              "      <td>No</td>\n",
              "      <td>No</td>\n",
              "      <td>No</td>\n",
              "      <td>Fiber optic</td>\n",
              "      <td>No</td>\n",
              "      <td>No</td>\n",
              "      <td>No</td>\n",
              "      <td>No</td>\n",
              "      <td>No</td>\n",
              "      <td>No</td>\n",
              "    </tr>\n",
              "  </tbody>\n",
              "</table>\n",
              "</div>"
            ],
            "text/plain": [
              "   customerID  tenure PhoneService  ... TechSupport StreamingTV StreamingMovies\n",
              "0  7590-VHVEG       1           No  ...          No          No              No\n",
              "1  5575-GNVDE      34          Yes  ...          No          No              No\n",
              "2  3668-QPYBK       2          Yes  ...          No          No              No\n",
              "3  7795-CFOCW      45           No  ...         Yes          No              No\n",
              "4  9237-HQITU       2          Yes  ...          No          No              No\n",
              "\n",
              "[5 rows x 21 columns]"
            ]
          },
          "metadata": {
            "tags": []
          },
          "execution_count": 8
        }
      ]
    },
    {
      "cell_type": "code",
      "metadata": {
        "id": "ZugOxHdiUcBf",
        "colab": {
          "base_uri": "https://localhost:8080/",
          "height": 296
        },
        "outputId": "4ca79e71-39d1-4369-d06b-132eddf60a6d"
      },
      "source": [
        "telecom.describe() # veri setinin istatistiksel özeti."
      ],
      "execution_count": null,
      "outputs": [
        {
          "output_type": "execute_result",
          "data": {
            "text/html": [
              "<div>\n",
              "<style scoped>\n",
              "    .dataframe tbody tr th:only-of-type {\n",
              "        vertical-align: middle;\n",
              "    }\n",
              "\n",
              "    .dataframe tbody tr th {\n",
              "        vertical-align: top;\n",
              "    }\n",
              "\n",
              "    .dataframe thead th {\n",
              "        text-align: right;\n",
              "    }\n",
              "</style>\n",
              "<table border=\"1\" class=\"dataframe\">\n",
              "  <thead>\n",
              "    <tr style=\"text-align: right;\">\n",
              "      <th></th>\n",
              "      <th>tenure</th>\n",
              "      <th>MonthlyCharges</th>\n",
              "      <th>SeniorCitizen</th>\n",
              "    </tr>\n",
              "  </thead>\n",
              "  <tbody>\n",
              "    <tr>\n",
              "      <th>count</th>\n",
              "      <td>7043.000000</td>\n",
              "      <td>7043.000000</td>\n",
              "      <td>7043.000000</td>\n",
              "    </tr>\n",
              "    <tr>\n",
              "      <th>mean</th>\n",
              "      <td>32.371149</td>\n",
              "      <td>64.761692</td>\n",
              "      <td>0.162147</td>\n",
              "    </tr>\n",
              "    <tr>\n",
              "      <th>std</th>\n",
              "      <td>24.559481</td>\n",
              "      <td>30.090047</td>\n",
              "      <td>0.368612</td>\n",
              "    </tr>\n",
              "    <tr>\n",
              "      <th>min</th>\n",
              "      <td>0.000000</td>\n",
              "      <td>18.250000</td>\n",
              "      <td>0.000000</td>\n",
              "    </tr>\n",
              "    <tr>\n",
              "      <th>25%</th>\n",
              "      <td>9.000000</td>\n",
              "      <td>35.500000</td>\n",
              "      <td>0.000000</td>\n",
              "    </tr>\n",
              "    <tr>\n",
              "      <th>50%</th>\n",
              "      <td>29.000000</td>\n",
              "      <td>70.350000</td>\n",
              "      <td>0.000000</td>\n",
              "    </tr>\n",
              "    <tr>\n",
              "      <th>75%</th>\n",
              "      <td>55.000000</td>\n",
              "      <td>89.850000</td>\n",
              "      <td>0.000000</td>\n",
              "    </tr>\n",
              "    <tr>\n",
              "      <th>max</th>\n",
              "      <td>72.000000</td>\n",
              "      <td>118.750000</td>\n",
              "      <td>1.000000</td>\n",
              "    </tr>\n",
              "  </tbody>\n",
              "</table>\n",
              "</div>"
            ],
            "text/plain": [
              "            tenure  MonthlyCharges  SeniorCitizen\n",
              "count  7043.000000     7043.000000    7043.000000\n",
              "mean     32.371149       64.761692       0.162147\n",
              "std      24.559481       30.090047       0.368612\n",
              "min       0.000000       18.250000       0.000000\n",
              "25%       9.000000       35.500000       0.000000\n",
              "50%      29.000000       70.350000       0.000000\n",
              "75%      55.000000       89.850000       0.000000\n",
              "max      72.000000      118.750000       1.000000"
            ]
          },
          "metadata": {
            "tags": []
          },
          "execution_count": 9
        }
      ]
    },
    {
      "cell_type": "code",
      "metadata": {
        "id": "lEzPLeZ8UfOs",
        "colab": {
          "base_uri": "https://localhost:8080/",
          "height": 510
        },
        "outputId": "aebfc6c6-79a9-404d-9aad-b9acba81af0c"
      },
      "source": [
        "# Veri setinin değişken bazında veri tipleri ve özellikleri.\n",
        "telecom.info()"
      ],
      "execution_count": null,
      "outputs": [
        {
          "output_type": "stream",
          "text": [
            "<class 'pandas.core.frame.DataFrame'>\n",
            "Int64Index: 7043 entries, 0 to 7042\n",
            "Data columns (total 21 columns):\n",
            " #   Column            Non-Null Count  Dtype  \n",
            "---  ------            --------------  -----  \n",
            " 0   customerID        7043 non-null   object \n",
            " 1   tenure            7043 non-null   int64  \n",
            " 2   PhoneService      7043 non-null   object \n",
            " 3   Contract          7043 non-null   object \n",
            " 4   PaperlessBilling  7043 non-null   object \n",
            " 5   PaymentMethod     7043 non-null   object \n",
            " 6   MonthlyCharges    7043 non-null   float64\n",
            " 7   TotalCharges      7043 non-null   object \n",
            " 8   Churn             7043 non-null   object \n",
            " 9   gender            7043 non-null   object \n",
            " 10  SeniorCitizen     7043 non-null   int64  \n",
            " 11  Partner           7043 non-null   object \n",
            " 12  Dependents        7043 non-null   object \n",
            " 13  MultipleLines     7043 non-null   object \n",
            " 14  InternetService   7043 non-null   object \n",
            " 15  OnlineSecurity    7043 non-null   object \n",
            " 16  OnlineBackup      7043 non-null   object \n",
            " 17  DeviceProtection  7043 non-null   object \n",
            " 18  TechSupport       7043 non-null   object \n",
            " 19  StreamingTV       7043 non-null   object \n",
            " 20  StreamingMovies   7043 non-null   object \n",
            "dtypes: float64(1), int64(2), object(18)\n",
            "memory usage: 1.2+ MB\n"
          ],
          "name": "stdout"
        }
      ]
    },
    {
      "cell_type": "markdown",
      "metadata": {
        "id": "wbPYxDu9UpHM"
      },
      "source": [
        "#DATA PREP. "
      ]
    },
    {
      "cell_type": "code",
      "metadata": {
        "id": "HfOB0hVMUjgS"
      },
      "source": [
        "# Yes ve No değerlerinin 1 ve 0'lara dönüştürülmesi\n",
        "telecom['PhoneService'] = telecom['PhoneService'].map({'Yes': 1, 'No': 0})\n",
        "telecom['PaperlessBilling'] = telecom['PaperlessBilling'].map({'Yes': 1, 'No': 0})\n",
        "telecom['Churn'] = telecom['Churn'].map({'Yes': 1, 'No': 0})\n",
        "telecom['Partner'] = telecom['Partner'].map({'Yes': 1, 'No': 0})\n",
        "telecom['Dependents'] = telecom['Dependents'].map({'Yes': 1, 'No': 0})"
      ],
      "execution_count": null,
      "outputs": []
    },
    {
      "cell_type": "markdown",
      "metadata": {
        "id": "UdKlA-9bUxRV"
      },
      "source": [
        "#Dummy Variable Creation"
      ]
    },
    {
      "cell_type": "code",
      "metadata": {
        "id": "B9pdiva9UsLt"
      },
      "source": [
        "# Kategorik değişkenler için dummy variable oluşturulması ve 1 tanesinin veriden çıkartılması.\n",
        "cont = pd.get_dummies(telecom['Contract'],prefix='Contract',drop_first=True)\n",
        "telecom = pd.concat([telecom,cont],axis=1)\n",
        "\n",
        "pm = pd.get_dummies(telecom['PaymentMethod'],prefix='PaymentMethod',drop_first=True)\n",
        "telecom = pd.concat([telecom,pm],axis=1)\n",
        "\n",
        "\n",
        "gen = pd.get_dummies(telecom['gender'],prefix='gender',drop_first=True)\n",
        "telecom = pd.concat([telecom,gen],axis=1)\n",
        "\n",
        "\n",
        "ml = pd.get_dummies(telecom['MultipleLines'],prefix='MultipleLines')\n",
        "ml1 = ml.drop(['MultipleLines_No phone service'],1)\n",
        "telecom = pd.concat([telecom,ml1],axis=1)\n",
        "\n",
        "\n",
        "iser = pd.get_dummies(telecom['InternetService'],prefix='InternetService',drop_first=True)\n",
        "telecom = pd.concat([telecom,iser],axis=1)\n",
        "\n",
        "\n",
        "os = pd.get_dummies(telecom['OnlineSecurity'],prefix='OnlineSecurity')\n",
        "os1= os.drop(['OnlineSecurity_No internet service'],1)\n",
        "telecom = pd.concat([telecom,os1],axis=1)\n",
        "\n",
        "\n",
        "ob =pd.get_dummies(telecom['OnlineBackup'],prefix='OnlineBackup')\n",
        "ob1 =ob.drop(['OnlineBackup_No internet service'],1)\n",
        "telecom = pd.concat([telecom,ob1],axis=1)\n",
        "\n",
        "\n",
        "dp =pd.get_dummies(telecom['DeviceProtection'],prefix='DeviceProtection')\n",
        "dp1 = dp.drop(['DeviceProtection_No internet service'],1)\n",
        "telecom = pd.concat([telecom,dp1],axis=1)\n",
        "\n",
        " \n",
        "ts =pd.get_dummies(telecom['TechSupport'],prefix='TechSupport')\n",
        "ts1 = ts.drop(['TechSupport_No internet service'],1)\n",
        "telecom = pd.concat([telecom,ts1],axis=1)\n",
        "\n",
        "\n",
        "st =pd.get_dummies(telecom['StreamingTV'],prefix='StreamingTV')\n",
        "st1 = st.drop(['StreamingTV_No internet service'],1)\n",
        "telecom = pd.concat([telecom,st1],axis=1)\n",
        "\n",
        "\n",
        "sm =pd.get_dummies(telecom['StreamingMovies'],prefix='StreamingMovies')\n",
        "sm1 = sm.drop(['StreamingMovies_No internet service'],1)\n",
        "telecom = pd.concat([telecom,sm1],axis=1)"
      ],
      "execution_count": null,
      "outputs": []
    },
    {
      "cell_type": "code",
      "metadata": {
        "id": "fVC2jra5U4Vh"
      },
      "source": [
        "# Dummy Variable'ları oluşturduğumuz orjinal kolonları çıkartabiliriz.\n",
        "telecom = telecom.drop(['Contract','PaymentMethod','gender','MultipleLines','InternetService', 'OnlineSecurity', 'OnlineBackup', 'DeviceProtection',\n",
        "       'TechSupport', 'StreamingTV', 'StreamingMovies'], 1)"
      ],
      "execution_count": null,
      "outputs": []
    },
    {
      "cell_type": "code",
      "metadata": {
        "id": "baBH6_XKU876",
        "colab": {
          "base_uri": "https://localhost:8080/",
          "height": 228
        },
        "outputId": "270e33ec-9b5e-4cd5-b480-c4027e9efa82"
      },
      "source": [
        "#Total Charges alanını string'den float'a çeviriyoruz.\n",
        "#telecom['TotalCharges']=telecom['TotalCharges'].convert_objects(convert_numeric=True)\n",
        "pd.to_numeric(telecom['TotalCharges'], errors='coerce')"
      ],
      "execution_count": null,
      "outputs": [
        {
          "output_type": "execute_result",
          "data": {
            "text/plain": [
              "0         29.85\n",
              "1       1889.50\n",
              "2        108.15\n",
              "3       1840.75\n",
              "4        151.65\n",
              "         ...   \n",
              "7038    1990.50\n",
              "7039    7362.90\n",
              "7040     346.45\n",
              "7041     306.60\n",
              "7042    6844.50\n",
              "Name: TotalCharges, Length: 7043, dtype: float64"
            ]
          },
          "metadata": {
            "tags": []
          },
          "execution_count": 17
        }
      ]
    },
    {
      "cell_type": "code",
      "metadata": {
        "id": "zO5AV5xzV0AR",
        "colab": {
          "base_uri": "https://localhost:8080/",
          "height": 1000
        },
        "outputId": "e1127dad-e6c8-4e9d-9087-eca446f3ee14"
      },
      "source": [
        "telecom.info()"
      ],
      "execution_count": null,
      "outputs": [
        {
          "output_type": "stream",
          "text": [
            "<class 'pandas.core.frame.DataFrame'>\n",
            "Int64Index: 7043 entries, 0 to 7042\n",
            "Data columns (total 54 columns):\n",
            " #   Column                                 Non-Null Count  Dtype  \n",
            "---  ------                                 --------------  -----  \n",
            " 0   customerID                             7043 non-null   object \n",
            " 1   tenure                                 7043 non-null   int64  \n",
            " 2   PhoneService                           0 non-null      float64\n",
            " 3   PaperlessBilling                       0 non-null      float64\n",
            " 4   MonthlyCharges                         7043 non-null   float64\n",
            " 5   TotalCharges                           7043 non-null   object \n",
            " 6   Churn                                  0 non-null      float64\n",
            " 7   SeniorCitizen                          7043 non-null   int64  \n",
            " 8   Partner                                0 non-null      float64\n",
            " 9   Dependents                             0 non-null      float64\n",
            " 10  Contract_One year                      7043 non-null   uint8  \n",
            " 11  Contract_Two year                      7043 non-null   uint8  \n",
            " 12  PaymentMethod_Credit card (automatic)  7043 non-null   uint8  \n",
            " 13  PaymentMethod_Electronic check         7043 non-null   uint8  \n",
            " 14  PaymentMethod_Mailed check             7043 non-null   uint8  \n",
            " 15  gender_Male                            7043 non-null   uint8  \n",
            " 16  MultipleLines_No                       7043 non-null   uint8  \n",
            " 17  MultipleLines_Yes                      7043 non-null   uint8  \n",
            " 18  InternetService_Fiber optic            7043 non-null   uint8  \n",
            " 19  InternetService_No                     7043 non-null   uint8  \n",
            " 20  OnlineSecurity_No                      7043 non-null   uint8  \n",
            " 21  OnlineSecurity_Yes                     7043 non-null   uint8  \n",
            " 22  OnlineBackup_No                        7043 non-null   uint8  \n",
            " 23  OnlineBackup_Yes                       7043 non-null   uint8  \n",
            " 24  DeviceProtection_No                    7043 non-null   uint8  \n",
            " 25  DeviceProtection_Yes                   7043 non-null   uint8  \n",
            " 26  TechSupport_No                         7043 non-null   uint8  \n",
            " 27  TechSupport_Yes                        7043 non-null   uint8  \n",
            " 28  StreamingTV_No                         7043 non-null   uint8  \n",
            " 29  StreamingTV_Yes                        7043 non-null   uint8  \n",
            " 30  StreamingMovies_No                     7043 non-null   uint8  \n",
            " 31  StreamingMovies_Yes                    7043 non-null   uint8  \n",
            " 32  Contract_One year                      7043 non-null   uint8  \n",
            " 33  Contract_Two year                      7043 non-null   uint8  \n",
            " 34  PaymentMethod_Credit card (automatic)  7043 non-null   uint8  \n",
            " 35  PaymentMethod_Electronic check         7043 non-null   uint8  \n",
            " 36  PaymentMethod_Mailed check             7043 non-null   uint8  \n",
            " 37  gender_Male                            7043 non-null   uint8  \n",
            " 38  MultipleLines_No                       7043 non-null   uint8  \n",
            " 39  MultipleLines_Yes                      7043 non-null   uint8  \n",
            " 40  InternetService_Fiber optic            7043 non-null   uint8  \n",
            " 41  InternetService_No                     7043 non-null   uint8  \n",
            " 42  OnlineSecurity_No                      7043 non-null   uint8  \n",
            " 43  OnlineSecurity_Yes                     7043 non-null   uint8  \n",
            " 44  OnlineBackup_No                        7043 non-null   uint8  \n",
            " 45  OnlineBackup_Yes                       7043 non-null   uint8  \n",
            " 46  DeviceProtection_No                    7043 non-null   uint8  \n",
            " 47  DeviceProtection_Yes                   7043 non-null   uint8  \n",
            " 48  TechSupport_No                         7043 non-null   uint8  \n",
            " 49  TechSupport_Yes                        7043 non-null   uint8  \n",
            " 50  StreamingTV_No                         7043 non-null   uint8  \n",
            " 51  StreamingTV_Yes                        7043 non-null   uint8  \n",
            " 52  StreamingMovies_No                     7043 non-null   uint8  \n",
            " 53  StreamingMovies_Yes                    7043 non-null   uint8  \n",
            "dtypes: float64(6), int64(2), object(2), uint8(44)\n",
            "memory usage: 907.9+ KB\n"
          ],
          "name": "stdout"
        }
      ]
    },
    {
      "cell_type": "code",
      "metadata": {
        "id": "0vUsh0DNYGaD"
      },
      "source": [
        "# Checking for outliers in the continuous variables\n",
        "num_telecom = telecom[['tenure','MonthlyCharges','SeniorCitizen','TotalCharges']]"
      ],
      "execution_count": null,
      "outputs": []
    },
    {
      "cell_type": "code",
      "metadata": {
        "id": "xbmunRcXYIBJ",
        "colab": {
          "base_uri": "https://localhost:8080/",
          "height": 389
        },
        "outputId": "88e1caa1-e2d3-498d-c487-d6cfd7298f98"
      },
      "source": [
        "# Outlier'ları görebilmek için verinin quartil değerlerini kullanıyoruz.\n",
        "# görüldüğü üzere sürekli değişkenler gayet normal biçimde artış gösteriyor.\n",
        "# ve aykırı ya da uç değerler gözükmüyor.\n",
        "# %99 quartil değerinden sonraki max'değeri birbirine çok yakın bu da outlier olmadığını gösteriyor.\n",
        "num_telecom.describe(percentiles=[.25,.5,.75,.90,.95,.99])"
      ],
      "execution_count": null,
      "outputs": [
        {
          "output_type": "execute_result",
          "data": {
            "text/html": [
              "<div>\n",
              "<style scoped>\n",
              "    .dataframe tbody tr th:only-of-type {\n",
              "        vertical-align: middle;\n",
              "    }\n",
              "\n",
              "    .dataframe tbody tr th {\n",
              "        vertical-align: top;\n",
              "    }\n",
              "\n",
              "    .dataframe thead th {\n",
              "        text-align: right;\n",
              "    }\n",
              "</style>\n",
              "<table border=\"1\" class=\"dataframe\">\n",
              "  <thead>\n",
              "    <tr style=\"text-align: right;\">\n",
              "      <th></th>\n",
              "      <th>tenure</th>\n",
              "      <th>MonthlyCharges</th>\n",
              "      <th>SeniorCitizen</th>\n",
              "    </tr>\n",
              "  </thead>\n",
              "  <tbody>\n",
              "    <tr>\n",
              "      <th>count</th>\n",
              "      <td>7043.000000</td>\n",
              "      <td>7043.000000</td>\n",
              "      <td>7043.000000</td>\n",
              "    </tr>\n",
              "    <tr>\n",
              "      <th>mean</th>\n",
              "      <td>32.371149</td>\n",
              "      <td>64.761692</td>\n",
              "      <td>0.162147</td>\n",
              "    </tr>\n",
              "    <tr>\n",
              "      <th>std</th>\n",
              "      <td>24.559481</td>\n",
              "      <td>30.090047</td>\n",
              "      <td>0.368612</td>\n",
              "    </tr>\n",
              "    <tr>\n",
              "      <th>min</th>\n",
              "      <td>0.000000</td>\n",
              "      <td>18.250000</td>\n",
              "      <td>0.000000</td>\n",
              "    </tr>\n",
              "    <tr>\n",
              "      <th>25%</th>\n",
              "      <td>9.000000</td>\n",
              "      <td>35.500000</td>\n",
              "      <td>0.000000</td>\n",
              "    </tr>\n",
              "    <tr>\n",
              "      <th>50%</th>\n",
              "      <td>29.000000</td>\n",
              "      <td>70.350000</td>\n",
              "      <td>0.000000</td>\n",
              "    </tr>\n",
              "    <tr>\n",
              "      <th>75%</th>\n",
              "      <td>55.000000</td>\n",
              "      <td>89.850000</td>\n",
              "      <td>0.000000</td>\n",
              "    </tr>\n",
              "    <tr>\n",
              "      <th>90%</th>\n",
              "      <td>69.000000</td>\n",
              "      <td>102.600000</td>\n",
              "      <td>1.000000</td>\n",
              "    </tr>\n",
              "    <tr>\n",
              "      <th>95%</th>\n",
              "      <td>72.000000</td>\n",
              "      <td>107.400000</td>\n",
              "      <td>1.000000</td>\n",
              "    </tr>\n",
              "    <tr>\n",
              "      <th>99%</th>\n",
              "      <td>72.000000</td>\n",
              "      <td>114.729000</td>\n",
              "      <td>1.000000</td>\n",
              "    </tr>\n",
              "    <tr>\n",
              "      <th>max</th>\n",
              "      <td>72.000000</td>\n",
              "      <td>118.750000</td>\n",
              "      <td>1.000000</td>\n",
              "    </tr>\n",
              "  </tbody>\n",
              "</table>\n",
              "</div>"
            ],
            "text/plain": [
              "            tenure  MonthlyCharges  SeniorCitizen\n",
              "count  7043.000000     7043.000000    7043.000000\n",
              "mean     32.371149       64.761692       0.162147\n",
              "std      24.559481       30.090047       0.368612\n",
              "min       0.000000       18.250000       0.000000\n",
              "25%       9.000000       35.500000       0.000000\n",
              "50%      29.000000       70.350000       0.000000\n",
              "75%      55.000000       89.850000       0.000000\n",
              "90%      69.000000      102.600000       1.000000\n",
              "95%      72.000000      107.400000       1.000000\n",
              "99%      72.000000      114.729000       1.000000\n",
              "max      72.000000      118.750000       1.000000"
            ]
          },
          "metadata": {
            "tags": []
          },
          "execution_count": 20
        }
      ]
    },
    {
      "cell_type": "markdown",
      "metadata": {
        "id": "Oqq2aMv7YPF3"
      },
      "source": [
        "#BOŞ DEĞER KONTROLÜ "
      ]
    },
    {
      "cell_type": "code",
      "metadata": {
        "id": "N43X1MdOYLIE",
        "colab": {
          "base_uri": "https://localhost:8080/",
          "height": 985
        },
        "outputId": "8b780a6f-be5d-499b-9c9d-892a348ce4fa"
      },
      "source": [
        "# Adding up the missing values (column-wise)\n",
        "telecom.isnull().sum()"
      ],
      "execution_count": null,
      "outputs": [
        {
          "output_type": "execute_result",
          "data": {
            "text/plain": [
              "customerID                                  0\n",
              "tenure                                      0\n",
              "PhoneService                             7043\n",
              "PaperlessBilling                         7043\n",
              "MonthlyCharges                              0\n",
              "TotalCharges                                0\n",
              "Churn                                    7043\n",
              "SeniorCitizen                               0\n",
              "Partner                                  7043\n",
              "Dependents                               7043\n",
              "Contract_One year                           0\n",
              "Contract_Two year                           0\n",
              "PaymentMethod_Credit card (automatic)       0\n",
              "PaymentMethod_Electronic check              0\n",
              "PaymentMethod_Mailed check                  0\n",
              "gender_Male                                 0\n",
              "MultipleLines_No                            0\n",
              "MultipleLines_Yes                           0\n",
              "InternetService_Fiber optic                 0\n",
              "InternetService_No                          0\n",
              "OnlineSecurity_No                           0\n",
              "OnlineSecurity_Yes                          0\n",
              "OnlineBackup_No                             0\n",
              "OnlineBackup_Yes                            0\n",
              "DeviceProtection_No                         0\n",
              "DeviceProtection_Yes                        0\n",
              "TechSupport_No                              0\n",
              "TechSupport_Yes                             0\n",
              "StreamingTV_No                              0\n",
              "StreamingTV_Yes                             0\n",
              "StreamingMovies_No                          0\n",
              "StreamingMovies_Yes                         0\n",
              "Contract_One year                           0\n",
              "Contract_Two year                           0\n",
              "PaymentMethod_Credit card (automatic)       0\n",
              "PaymentMethod_Electronic check              0\n",
              "PaymentMethod_Mailed check                  0\n",
              "gender_Male                                 0\n",
              "MultipleLines_No                            0\n",
              "MultipleLines_Yes                           0\n",
              "InternetService_Fiber optic                 0\n",
              "InternetService_No                          0\n",
              "OnlineSecurity_No                           0\n",
              "OnlineSecurity_Yes                          0\n",
              "OnlineBackup_No                             0\n",
              "OnlineBackup_Yes                            0\n",
              "DeviceProtection_No                         0\n",
              "DeviceProtection_Yes                        0\n",
              "TechSupport_No                              0\n",
              "TechSupport_Yes                             0\n",
              "StreamingTV_No                              0\n",
              "StreamingTV_Yes                             0\n",
              "StreamingMovies_No                          0\n",
              "StreamingMovies_Yes                         0\n",
              "dtype: int64"
            ]
          },
          "metadata": {
            "tags": []
          },
          "execution_count": 21
        }
      ]
    },
    {
      "cell_type": "code",
      "metadata": {
        "id": "BVJ0LYu8YSI8",
        "colab": {
          "base_uri": "https://localhost:8080/",
          "height": 985
        },
        "outputId": "9a83991f-7451-49ea-c2a4-0ffa9dbdd56f"
      },
      "source": [
        "# Yüzdesel olarak değişkenlerin null ya da nan miktarının gösterilmesi.\n",
        "round(100*(telecom.isnull().sum()/len(telecom.index)), 2)"
      ],
      "execution_count": null,
      "outputs": [
        {
          "output_type": "execute_result",
          "data": {
            "text/plain": [
              "customerID                                 0.0\n",
              "tenure                                     0.0\n",
              "PhoneService                             100.0\n",
              "PaperlessBilling                         100.0\n",
              "MonthlyCharges                             0.0\n",
              "TotalCharges                               0.0\n",
              "Churn                                    100.0\n",
              "SeniorCitizen                              0.0\n",
              "Partner                                  100.0\n",
              "Dependents                               100.0\n",
              "Contract_One year                          0.0\n",
              "Contract_Two year                          0.0\n",
              "PaymentMethod_Credit card (automatic)      0.0\n",
              "PaymentMethod_Electronic check             0.0\n",
              "PaymentMethod_Mailed check                 0.0\n",
              "gender_Male                                0.0\n",
              "MultipleLines_No                           0.0\n",
              "MultipleLines_Yes                          0.0\n",
              "InternetService_Fiber optic                0.0\n",
              "InternetService_No                         0.0\n",
              "OnlineSecurity_No                          0.0\n",
              "OnlineSecurity_Yes                         0.0\n",
              "OnlineBackup_No                            0.0\n",
              "OnlineBackup_Yes                           0.0\n",
              "DeviceProtection_No                        0.0\n",
              "DeviceProtection_Yes                       0.0\n",
              "TechSupport_No                             0.0\n",
              "TechSupport_Yes                            0.0\n",
              "StreamingTV_No                             0.0\n",
              "StreamingTV_Yes                            0.0\n",
              "StreamingMovies_No                         0.0\n",
              "StreamingMovies_Yes                        0.0\n",
              "Contract_One year                          0.0\n",
              "Contract_Two year                          0.0\n",
              "PaymentMethod_Credit card (automatic)      0.0\n",
              "PaymentMethod_Electronic check             0.0\n",
              "PaymentMethod_Mailed check                 0.0\n",
              "gender_Male                                0.0\n",
              "MultipleLines_No                           0.0\n",
              "MultipleLines_Yes                          0.0\n",
              "InternetService_Fiber optic                0.0\n",
              "InternetService_No                         0.0\n",
              "OnlineSecurity_No                          0.0\n",
              "OnlineSecurity_Yes                         0.0\n",
              "OnlineBackup_No                            0.0\n",
              "OnlineBackup_Yes                           0.0\n",
              "DeviceProtection_No                        0.0\n",
              "DeviceProtection_Yes                       0.0\n",
              "TechSupport_No                             0.0\n",
              "TechSupport_Yes                            0.0\n",
              "StreamingTV_No                             0.0\n",
              "StreamingTV_Yes                            0.0\n",
              "StreamingMovies_No                         0.0\n",
              "StreamingMovies_Yes                        0.0\n",
              "dtype: float64"
            ]
          },
          "metadata": {
            "tags": []
          },
          "execution_count": 22
        }
      ]
    },
    {
      "cell_type": "code",
      "metadata": {
        "id": "ouxcau9nYwDM",
        "colab": {
          "base_uri": "https://localhost:8080/",
          "height": 985
        },
        "outputId": "23e97e6e-ce34-4382-87b1-34ec034055c8"
      },
      "source": [
        "# kayıp değerler silindikten sonra verinin tekrar kayıp değer durumunun ekrana bastırılması.\n",
        "round(100*(telecom.isnull().sum()/len(telecom.index)), 2)"
      ],
      "execution_count": null,
      "outputs": [
        {
          "output_type": "execute_result",
          "data": {
            "text/plain": [
              "customerID                              NaN\n",
              "tenure                                  NaN\n",
              "PhoneService                            NaN\n",
              "PaperlessBilling                        NaN\n",
              "MonthlyCharges                          NaN\n",
              "TotalCharges                            NaN\n",
              "Churn                                   NaN\n",
              "SeniorCitizen                           NaN\n",
              "Partner                                 NaN\n",
              "Dependents                              NaN\n",
              "Contract_One year                       NaN\n",
              "Contract_Two year                       NaN\n",
              "PaymentMethod_Credit card (automatic)   NaN\n",
              "PaymentMethod_Electronic check          NaN\n",
              "PaymentMethod_Mailed check              NaN\n",
              "gender_Male                             NaN\n",
              "MultipleLines_No                        NaN\n",
              "MultipleLines_Yes                       NaN\n",
              "InternetService_Fiber optic             NaN\n",
              "InternetService_No                      NaN\n",
              "OnlineSecurity_No                       NaN\n",
              "OnlineSecurity_Yes                      NaN\n",
              "OnlineBackup_No                         NaN\n",
              "OnlineBackup_Yes                        NaN\n",
              "DeviceProtection_No                     NaN\n",
              "DeviceProtection_Yes                    NaN\n",
              "TechSupport_No                          NaN\n",
              "TechSupport_Yes                         NaN\n",
              "StreamingTV_No                          NaN\n",
              "StreamingTV_Yes                         NaN\n",
              "StreamingMovies_No                      NaN\n",
              "StreamingMovies_Yes                     NaN\n",
              "Contract_One year                       NaN\n",
              "Contract_Two year                       NaN\n",
              "PaymentMethod_Credit card (automatic)   NaN\n",
              "PaymentMethod_Electronic check          NaN\n",
              "PaymentMethod_Mailed check              NaN\n",
              "gender_Male                             NaN\n",
              "MultipleLines_No                        NaN\n",
              "MultipleLines_Yes                       NaN\n",
              "InternetService_Fiber optic             NaN\n",
              "InternetService_No                      NaN\n",
              "OnlineSecurity_No                       NaN\n",
              "OnlineSecurity_Yes                      NaN\n",
              "OnlineBackup_No                         NaN\n",
              "OnlineBackup_Yes                        NaN\n",
              "DeviceProtection_No                     NaN\n",
              "DeviceProtection_Yes                    NaN\n",
              "TechSupport_No                          NaN\n",
              "TechSupport_Yes                         NaN\n",
              "StreamingTV_No                          NaN\n",
              "StreamingTV_Yes                         NaN\n",
              "StreamingMovies_No                      NaN\n",
              "StreamingMovies_Yes                     NaN\n",
              "dtype: float64"
            ]
          },
          "metadata": {
            "tags": []
          },
          "execution_count": 25
        }
      ]
    },
    {
      "cell_type": "code",
      "metadata": {
        "id": "_BxDvHGbY1P6",
        "colab": {
          "base_uri": "https://localhost:8080/",
          "height": 85
        },
        "outputId": "ede9edfb-7793-4e68-ab6a-3cf95873c832"
      },
      "source": [
        "# Sürekli değişkenlerin normalize edilmesi. (Regression olduğu için)\n",
        "df = telecom[['tenure','MonthlyCharges','TotalCharges']]\n",
        "\n",
        "normalized_df=(df-df.mean())/df.std()\n",
        "\n",
        "telecom = telecom.drop(['tenure','MonthlyCharges','TotalCharges'], 1)\n",
        "\n",
        "telecom = pd.concat([telecom,normalized_df],axis=1)\n",
        "telecom"
      ],
      "execution_count": null,
      "outputs": [
        {
          "output_type": "execute_result",
          "data": {
            "text/html": [
              "<div>\n",
              "<style scoped>\n",
              "    .dataframe tbody tr th:only-of-type {\n",
              "        vertical-align: middle;\n",
              "    }\n",
              "\n",
              "    .dataframe tbody tr th {\n",
              "        vertical-align: top;\n",
              "    }\n",
              "\n",
              "    .dataframe thead th {\n",
              "        text-align: right;\n",
              "    }\n",
              "</style>\n",
              "<table border=\"1\" class=\"dataframe\">\n",
              "  <thead>\n",
              "    <tr style=\"text-align: right;\">\n",
              "      <th></th>\n",
              "      <th>customerID</th>\n",
              "      <th>PhoneService</th>\n",
              "      <th>PaperlessBilling</th>\n",
              "      <th>Churn</th>\n",
              "      <th>SeniorCitizen</th>\n",
              "      <th>Partner</th>\n",
              "      <th>Dependents</th>\n",
              "      <th>Contract_One year</th>\n",
              "      <th>Contract_Two year</th>\n",
              "      <th>PaymentMethod_Credit card (automatic)</th>\n",
              "      <th>PaymentMethod_Electronic check</th>\n",
              "      <th>PaymentMethod_Mailed check</th>\n",
              "      <th>gender_Male</th>\n",
              "      <th>MultipleLines_No</th>\n",
              "      <th>MultipleLines_Yes</th>\n",
              "      <th>InternetService_Fiber optic</th>\n",
              "      <th>InternetService_No</th>\n",
              "      <th>OnlineSecurity_No</th>\n",
              "      <th>OnlineSecurity_Yes</th>\n",
              "      <th>OnlineBackup_No</th>\n",
              "      <th>OnlineBackup_Yes</th>\n",
              "      <th>DeviceProtection_No</th>\n",
              "      <th>DeviceProtection_Yes</th>\n",
              "      <th>TechSupport_No</th>\n",
              "      <th>TechSupport_Yes</th>\n",
              "      <th>StreamingTV_No</th>\n",
              "      <th>StreamingTV_Yes</th>\n",
              "      <th>StreamingMovies_No</th>\n",
              "      <th>StreamingMovies_Yes</th>\n",
              "      <th>Contract_One year</th>\n",
              "      <th>Contract_Two year</th>\n",
              "      <th>PaymentMethod_Credit card (automatic)</th>\n",
              "      <th>PaymentMethod_Electronic check</th>\n",
              "      <th>PaymentMethod_Mailed check</th>\n",
              "      <th>gender_Male</th>\n",
              "      <th>MultipleLines_No</th>\n",
              "      <th>MultipleLines_Yes</th>\n",
              "      <th>InternetService_Fiber optic</th>\n",
              "      <th>InternetService_No</th>\n",
              "      <th>OnlineSecurity_No</th>\n",
              "      <th>OnlineSecurity_Yes</th>\n",
              "      <th>OnlineBackup_No</th>\n",
              "      <th>OnlineBackup_Yes</th>\n",
              "      <th>DeviceProtection_No</th>\n",
              "      <th>DeviceProtection_Yes</th>\n",
              "      <th>TechSupport_No</th>\n",
              "      <th>TechSupport_Yes</th>\n",
              "      <th>StreamingTV_No</th>\n",
              "      <th>StreamingTV_Yes</th>\n",
              "      <th>StreamingMovies_No</th>\n",
              "      <th>StreamingMovies_Yes</th>\n",
              "      <th>tenure</th>\n",
              "      <th>MonthlyCharges</th>\n",
              "      <th>TotalCharges</th>\n",
              "    </tr>\n",
              "  </thead>\n",
              "  <tbody>\n",
              "  </tbody>\n",
              "</table>\n",
              "</div>"
            ],
            "text/plain": [
              "Empty DataFrame\n",
              "Columns: [customerID, PhoneService, PaperlessBilling, Churn, SeniorCitizen, Partner, Dependents, Contract_One year, Contract_Two year, PaymentMethod_Credit card (automatic), PaymentMethod_Electronic check, PaymentMethod_Mailed check, gender_Male, MultipleLines_No, MultipleLines_Yes, InternetService_Fiber optic, InternetService_No, OnlineSecurity_No, OnlineSecurity_Yes, OnlineBackup_No, OnlineBackup_Yes, DeviceProtection_No, DeviceProtection_Yes, TechSupport_No, TechSupport_Yes, StreamingTV_No, StreamingTV_Yes, StreamingMovies_No, StreamingMovies_Yes, Contract_One year, Contract_Two year, PaymentMethod_Credit card (automatic), PaymentMethod_Electronic check, PaymentMethod_Mailed check, gender_Male, MultipleLines_No, MultipleLines_Yes, InternetService_Fiber optic, InternetService_No, OnlineSecurity_No, OnlineSecurity_Yes, OnlineBackup_No, OnlineBackup_Yes, DeviceProtection_No, DeviceProtection_Yes, TechSupport_No, TechSupport_Yes, StreamingTV_No, StreamingTV_Yes, StreamingMovies_No, StreamingMovies_Yes, tenure, MonthlyCharges, TotalCharges]\n",
              "Index: []"
            ]
          },
          "metadata": {
            "tags": []
          },
          "execution_count": 28
        }
      ]
    }
  ]
}