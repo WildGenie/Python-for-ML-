{
  "nbformat": 4,
  "nbformat_minor": 0,
  "metadata": {
    "colab": {
      "name": "YSA.ipynb",
      "provenance": [],
      "collapsed_sections": []
    },
    "kernelspec": {
      "name": "python3",
      "display_name": "Python 3"
    }
  },
  "cells": [
    {
      "cell_type": "markdown",
      "metadata": {
        "id": "WQ8jMz4FuX9s"
      },
      "source": [
        "\n",
        "Kullanacağımız kütüphaneleri import edelim.\n",
        "\n"
      ]
    },
    {
      "cell_type": "code",
      "metadata": {
        "id": "UKD_f6_7uNI9",
        "colab": {
          "base_uri": "https://localhost:8080/",
          "height": 35
        },
        "outputId": "432ad0a4-97d2-40fd-c277-8debed87a6a0"
      },
      "source": [
        "#Kullanacağımız ysa modeli için.\n",
        "from keras.models import Sequential\n",
        " \n",
        "#YSA modelimizde katmanlar oluşturabilmek için.\n",
        "from keras.layers import Dense\n",
        " \n",
        "#Çıktımızı terminalden aldığımızda sonuçları renklendiriyoruz. Yanlışlar kırmızı, doğrular yeşil. Bunu kullanmasanızda olur yani.\n",
        "from termcolor import cprint\n",
        " \n",
        "#YSA matrislerle çalıştığı için numpy olmazsa olmaz.\n",
        "import numpy"
      ],
      "execution_count": null,
      "outputs": [
        {
          "output_type": "stream",
          "text": [
            "Using TensorFlow backend.\n"
          ],
          "name": "stderr"
        }
      ]
    },
    {
      "cell_type": "markdown",
      "metadata": {
        "id": "7mu50bCuwWp5"
      },
      "source": [
        "Şimdi Data Seti Yükleyelim.. \n",
        "\n",
        "https://www.kaggle.com/kumargh/pimaindiansdiabetescsv#pima-indians-diabetes.csv"
      ]
    },
    {
      "cell_type": "code",
      "metadata": {
        "id": "bBnzwxWYwcwQ"
      },
      "source": [
        "dataset = numpy.loadtxt(\"pima-indians-diabetes.csv\", delimiter=\",\")"
      ],
      "execution_count": null,
      "outputs": []
    },
    {
      "cell_type": "markdown",
      "metadata": {
        "id": "QZDl6RlZxyit"
      },
      "source": [
        "Numpy kütüphanesindeki loadtxt() metodu verilen ilk parametredeki dosya/string I delimiter(ayırıcı) ile split ederek bir matrise atamaktadır. Dateseti ayrıştırıyoruz. X, 8 adet girdimiz. Yani 600 satır ve 8 sutun. Y ise çıkışımız 600 satır 1 sutundan oluşmaktadır."
      ]
    },
    {
      "cell_type": "code",
      "metadata": {
        "id": "pSVbLP3ZxjNb"
      },
      "source": [
        "X = dataset[:600,0:8]\n",
        "Y = dataset[:600,8]"
      ],
      "execution_count": null,
      "outputs": []
    },
    {
      "cell_type": "markdown",
      "metadata": {
        "id": "-VA0HkOzyBI3"
      },
      "source": [
        "Artık modeli oluşturmaya başlayabiliriz.. Keras içerisinde Sequetial (ardışık) ile katman yerleştirmelerini vs kolayca halledebiliyoruz.. "
      ]
    },
    {
      "cell_type": "code",
      "metadata": {
        "id": "pDpxrMfpxePI"
      },
      "source": [
        "model = Sequential()"
      ],
      "execution_count": null,
      "outputs": []
    },
    {
      "cell_type": "markdown",
      "metadata": {
        "id": "W2dqnD0Gyq0B"
      },
      "source": [
        "ilk katmanımızı modelimize add metodu ile dense tipindeki katmanımızı ekliyoruz. Parametrelerden 12 olanı ilk katmandaki perceptron sayısı. İnput dim bizim girdi değer sayımız. Hatırlarsanız 8 değerimiz vardı. Init parametremiz yapay sinir hücrelerimiz arasındaki ağırlıklarımızın rastgele verilmesi yerine belli bir algoritmaya göre vermektedir. Aktivation ise o katmanda kullandığımız aktivasyon fonksiyonumuz."
      ]
    },
    {
      "cell_type": "code",
      "metadata": {
        "id": "gvndy6kOyqrY",
        "colab": {
          "base_uri": "https://localhost:8080/",
          "height": 72
        },
        "outputId": "22acb6ca-0a33-4b03-a34b-a4ae052ed5f6"
      },
      "source": [
        "model.add(Dense(20, input_dim=8, init='uniform', activation='relu'))"
      ],
      "execution_count": null,
      "outputs": [
        {
          "output_type": "stream",
          "text": [
            "/usr/local/lib/python3.6/dist-packages/ipykernel_launcher.py:1: UserWarning: Update your `Dense` call to the Keras 2 API: `Dense(20, input_dim=8, activation=\"relu\", kernel_initializer=\"uniform\")`\n",
            "  \"\"\"Entry point for launching an IPython kernel.\n"
          ],
          "name": "stderr"
        }
      ]
    },
    {
      "cell_type": "code",
      "metadata": {
        "id": "WDQQJfBczAU9",
        "colab": {
          "base_uri": "https://localhost:8080/",
          "height": 144
        },
        "outputId": "9cb75ac0-cdbb-48ef-ad54-4334dfcfd25c"
      },
      "source": [
        "#İkinci katmanımızda 12 yapay sinir hücresi. \n",
        "model.add(Dense(12, init='uniform', activation='relu'))\n",
        " \n",
        "#Üçüncü katmanımızda 8 yapay hücremiz var.\n",
        "model.add(Dense(8, init='uniform', activation='sigmoid'))\n",
        " \n",
        "#Dördüncü katmanımızda 1 yapay hücremiz var. Yani çıkışımız.\n",
        "model.add(Dense(1, init='uniform', activation='sigmoid')) \n",
        " \n",
        "#Modelimizi derliyoruz.\n",
        "model.compile(loss='binary_crossentropy', optimizer='adam', metrics=['accuracy'])"
      ],
      "execution_count": null,
      "outputs": [
        {
          "output_type": "stream",
          "text": [
            "/usr/local/lib/python3.6/dist-packages/ipykernel_launcher.py:1: UserWarning: Update your `Dense` call to the Keras 2 API: `Dense(12, activation=\"relu\", kernel_initializer=\"uniform\")`\n",
            "  \"\"\"Entry point for launching an IPython kernel.\n",
            "/usr/local/lib/python3.6/dist-packages/ipykernel_launcher.py:4: UserWarning: Update your `Dense` call to the Keras 2 API: `Dense(8, activation=\"sigmoid\", kernel_initializer=\"uniform\")`\n",
            "  after removing the cwd from sys.path.\n",
            "/usr/local/lib/python3.6/dist-packages/ipykernel_launcher.py:7: UserWarning: Update your `Dense` call to the Keras 2 API: `Dense(1, activation=\"sigmoid\", kernel_initializer=\"uniform\")`\n",
            "  import sys\n"
          ],
          "name": "stderr"
        }
      ]
    },
    {
      "cell_type": "markdown",
      "metadata": {
        "id": "IjQoa7byzMIX"
      },
      "source": [
        "X= Girdiler\n",
        "Y= Çıktılar \n",
        "Epoch, Yani ağırlıkların yeniden düzenleyerek çözüme en yakın değeri buluncaya kadar yapacağı deneme sayısı. Batch size tek seferde alınacak veri sayısını ifade etmektedir. \n",
        "\n",
        "Verbose ise herhangi bir hata oluşması durumunda göstermemeisini istedik."
      ]
    },
    {
      "cell_type": "code",
      "metadata": {
        "id": "JLERYZuzzFic",
        "colab": {
          "base_uri": "https://localhost:8080/",
          "height": 1000
        },
        "outputId": "1b6c19df-82bf-4df3-83e1-a7bc9b2b5120"
      },
      "source": [
        "model.fit(X, Y, nb_epoch=150, batch_size=10,  verbose=2)"
      ],
      "execution_count": null,
      "outputs": [
        {
          "output_type": "stream",
          "text": [
            "/usr/local/lib/python3.6/dist-packages/ipykernel_launcher.py:1: UserWarning: The `nb_epoch` argument in `fit` has been renamed `epochs`.\n",
            "  \"\"\"Entry point for launching an IPython kernel.\n"
          ],
          "name": "stderr"
        },
        {
          "output_type": "stream",
          "text": [
            "Epoch 1/150\n",
            " - 0s - loss: 0.6847 - accuracy: 0.5917\n",
            "Epoch 2/150\n",
            " - 0s - loss: 0.6595 - accuracy: 0.6533\n",
            "Epoch 3/150\n",
            " - 0s - loss: 0.6485 - accuracy: 0.6533\n",
            "Epoch 4/150\n",
            " - 0s - loss: 0.6465 - accuracy: 0.6533\n",
            "Epoch 5/150\n",
            " - 0s - loss: 0.6458 - accuracy: 0.6533\n",
            "Epoch 6/150\n",
            " - 0s - loss: 0.6457 - accuracy: 0.6533\n",
            "Epoch 7/150\n",
            " - 0s - loss: 0.6458 - accuracy: 0.6533\n",
            "Epoch 8/150\n",
            " - 0s - loss: 0.6457 - accuracy: 0.6533\n",
            "Epoch 9/150\n",
            " - 0s - loss: 0.6455 - accuracy: 0.6533\n",
            "Epoch 10/150\n",
            " - 0s - loss: 0.6456 - accuracy: 0.6533\n",
            "Epoch 11/150\n",
            " - 0s - loss: 0.6455 - accuracy: 0.6533\n",
            "Epoch 12/150\n",
            " - 0s - loss: 0.6455 - accuracy: 0.6533\n",
            "Epoch 13/150\n",
            " - 0s - loss: 0.6455 - accuracy: 0.6533\n",
            "Epoch 14/150\n",
            " - 0s - loss: 0.6451 - accuracy: 0.6533\n",
            "Epoch 15/150\n",
            " - 0s - loss: 0.6450 - accuracy: 0.6533\n",
            "Epoch 16/150\n",
            " - 0s - loss: 0.6451 - accuracy: 0.6533\n",
            "Epoch 17/150\n",
            " - 0s - loss: 0.6435 - accuracy: 0.6533\n",
            "Epoch 18/150\n",
            " - 0s - loss: 0.6456 - accuracy: 0.6533\n",
            "Epoch 19/150\n",
            " - 0s - loss: 0.6428 - accuracy: 0.6533\n",
            "Epoch 20/150\n",
            " - 0s - loss: 0.6397 - accuracy: 0.6533\n",
            "Epoch 21/150\n",
            " - 0s - loss: 0.6362 - accuracy: 0.6533\n",
            "Epoch 22/150\n",
            " - 0s - loss: 0.6325 - accuracy: 0.6533\n",
            "Epoch 23/150\n",
            " - 0s - loss: 0.6285 - accuracy: 0.6533\n",
            "Epoch 24/150\n",
            " - 0s - loss: 0.6258 - accuracy: 0.6533\n",
            "Epoch 25/150\n",
            " - 0s - loss: 0.6230 - accuracy: 0.6533\n",
            "Epoch 26/150\n",
            " - 0s - loss: 0.6218 - accuracy: 0.6533\n",
            "Epoch 27/150\n",
            " - 0s - loss: 0.6175 - accuracy: 0.6533\n",
            "Epoch 28/150\n",
            " - 0s - loss: 0.6153 - accuracy: 0.6533\n",
            "Epoch 29/150\n",
            " - 0s - loss: 0.6119 - accuracy: 0.6533\n",
            "Epoch 30/150\n",
            " - 0s - loss: 0.6127 - accuracy: 0.6533\n",
            "Epoch 31/150\n",
            " - 0s - loss: 0.6084 - accuracy: 0.6533\n",
            "Epoch 32/150\n",
            " - 0s - loss: 0.6049 - accuracy: 0.6533\n",
            "Epoch 33/150\n",
            " - 0s - loss: 0.6073 - accuracy: 0.6533\n",
            "Epoch 34/150\n",
            " - 0s - loss: 0.6059 - accuracy: 0.6533\n",
            "Epoch 35/150\n",
            " - 0s - loss: 0.6027 - accuracy: 0.6533\n",
            "Epoch 36/150\n",
            " - 0s - loss: 0.6045 - accuracy: 0.6533\n",
            "Epoch 37/150\n",
            " - 0s - loss: 0.5978 - accuracy: 0.6533\n",
            "Epoch 38/150\n",
            " - 0s - loss: 0.5985 - accuracy: 0.6533\n",
            "Epoch 39/150\n",
            " - 0s - loss: 0.5961 - accuracy: 0.6533\n",
            "Epoch 40/150\n",
            " - 0s - loss: 0.5964 - accuracy: 0.6533\n",
            "Epoch 41/150\n",
            " - 0s - loss: 0.5939 - accuracy: 0.6533\n",
            "Epoch 42/150\n",
            " - 0s - loss: 0.6001 - accuracy: 0.6533\n",
            "Epoch 43/150\n",
            " - 0s - loss: 0.6010 - accuracy: 0.6533\n",
            "Epoch 44/150\n",
            " - 0s - loss: 0.5944 - accuracy: 0.6533\n",
            "Epoch 45/150\n",
            " - 0s - loss: 0.5916 - accuracy: 0.6533\n",
            "Epoch 46/150\n",
            " - 0s - loss: 0.5922 - accuracy: 0.6533\n",
            "Epoch 47/150\n",
            " - 0s - loss: 0.5913 - accuracy: 0.6533\n",
            "Epoch 48/150\n",
            " - 0s - loss: 0.5918 - accuracy: 0.6533\n",
            "Epoch 49/150\n",
            " - 0s - loss: 0.5871 - accuracy: 0.6533\n",
            "Epoch 50/150\n",
            " - 0s - loss: 0.5879 - accuracy: 0.6533\n",
            "Epoch 51/150\n",
            " - 0s - loss: 0.5897 - accuracy: 0.6533\n",
            "Epoch 52/150\n",
            " - 0s - loss: 0.5849 - accuracy: 0.6533\n",
            "Epoch 53/150\n",
            " - 0s - loss: 0.5852 - accuracy: 0.6533\n",
            "Epoch 54/150\n",
            " - 0s - loss: 0.5854 - accuracy: 0.6533\n",
            "Epoch 55/150\n",
            " - 0s - loss: 0.5830 - accuracy: 0.6533\n",
            "Epoch 56/150\n",
            " - 0s - loss: 0.5866 - accuracy: 0.6533\n",
            "Epoch 57/150\n",
            " - 0s - loss: 0.5869 - accuracy: 0.6533\n",
            "Epoch 58/150\n",
            " - 0s - loss: 0.5869 - accuracy: 0.6533\n",
            "Epoch 59/150\n",
            " - 0s - loss: 0.5851 - accuracy: 0.6533\n",
            "Epoch 60/150\n",
            " - 0s - loss: 0.5846 - accuracy: 0.6533\n",
            "Epoch 61/150\n",
            " - 0s - loss: 0.5796 - accuracy: 0.6533\n",
            "Epoch 62/150\n",
            " - 0s - loss: 0.5804 - accuracy: 0.6667\n",
            "Epoch 63/150\n",
            " - 0s - loss: 0.5821 - accuracy: 0.6500\n",
            "Epoch 64/150\n",
            " - 0s - loss: 0.5783 - accuracy: 0.6533\n",
            "Epoch 65/150\n",
            " - 0s - loss: 0.5814 - accuracy: 0.6900\n",
            "Epoch 66/150\n",
            " - 0s - loss: 0.5786 - accuracy: 0.6767\n",
            "Epoch 67/150\n",
            " - 0s - loss: 0.5786 - accuracy: 0.6967\n",
            "Epoch 68/150\n",
            " - 0s - loss: 0.5770 - accuracy: 0.6733\n",
            "Epoch 69/150\n",
            " - 0s - loss: 0.5795 - accuracy: 0.6867\n",
            "Epoch 70/150\n",
            " - 0s - loss: 0.5743 - accuracy: 0.6850\n",
            "Epoch 71/150\n",
            " - 0s - loss: 0.5765 - accuracy: 0.6783\n",
            "Epoch 72/150\n",
            " - 0s - loss: 0.5758 - accuracy: 0.6867\n",
            "Epoch 73/150\n",
            " - 0s - loss: 0.5746 - accuracy: 0.6817\n",
            "Epoch 74/150\n",
            " - 0s - loss: 0.5774 - accuracy: 0.6883\n",
            "Epoch 75/150\n",
            " - 0s - loss: 0.5759 - accuracy: 0.6850\n",
            "Epoch 76/150\n",
            " - 0s - loss: 0.5781 - accuracy: 0.6767\n",
            "Epoch 77/150\n",
            " - 0s - loss: 0.5759 - accuracy: 0.6883\n",
            "Epoch 78/150\n",
            " - 0s - loss: 0.5745 - accuracy: 0.6917\n",
            "Epoch 79/150\n",
            " - 0s - loss: 0.5731 - accuracy: 0.6867\n",
            "Epoch 80/150\n",
            " - 0s - loss: 0.5738 - accuracy: 0.6917\n",
            "Epoch 81/150\n",
            " - 0s - loss: 0.5698 - accuracy: 0.6867\n",
            "Epoch 82/150\n",
            " - 0s - loss: 0.5726 - accuracy: 0.6850\n",
            "Epoch 83/150\n",
            " - 0s - loss: 0.5730 - accuracy: 0.7117\n",
            "Epoch 84/150\n",
            " - 0s - loss: 0.5710 - accuracy: 0.6933\n",
            "Epoch 85/150\n",
            " - 0s - loss: 0.5707 - accuracy: 0.6917\n",
            "Epoch 86/150\n",
            " - 0s - loss: 0.5723 - accuracy: 0.6900\n",
            "Epoch 87/150\n",
            " - 0s - loss: 0.5712 - accuracy: 0.6967\n",
            "Epoch 88/150\n",
            " - 0s - loss: 0.5692 - accuracy: 0.7050\n",
            "Epoch 89/150\n",
            " - 0s - loss: 0.5687 - accuracy: 0.6967\n",
            "Epoch 90/150\n",
            " - 0s - loss: 0.5680 - accuracy: 0.7183\n",
            "Epoch 91/150\n",
            " - 0s - loss: 0.5676 - accuracy: 0.7017\n",
            "Epoch 92/150\n",
            " - 0s - loss: 0.5684 - accuracy: 0.7083\n",
            "Epoch 93/150\n",
            " - 0s - loss: 0.5666 - accuracy: 0.7117\n",
            "Epoch 94/150\n",
            " - 0s - loss: 0.5683 - accuracy: 0.7100\n",
            "Epoch 95/150\n",
            " - 0s - loss: 0.5668 - accuracy: 0.7200\n",
            "Epoch 96/150\n",
            " - 0s - loss: 0.5653 - accuracy: 0.7200\n",
            "Epoch 97/150\n",
            " - 0s - loss: 0.5644 - accuracy: 0.7150\n",
            "Epoch 98/150\n",
            " - 0s - loss: 0.5637 - accuracy: 0.7167\n",
            "Epoch 99/150\n",
            " - 0s - loss: 0.5595 - accuracy: 0.7167\n",
            "Epoch 100/150\n",
            " - 0s - loss: 0.5561 - accuracy: 0.7100\n",
            "Epoch 101/150\n",
            " - 0s - loss: 0.5557 - accuracy: 0.7300\n",
            "Epoch 102/150\n",
            " - 0s - loss: 0.5547 - accuracy: 0.7300\n",
            "Epoch 103/150\n",
            " - 0s - loss: 0.5525 - accuracy: 0.7250\n",
            "Epoch 104/150\n",
            " - 0s - loss: 0.5505 - accuracy: 0.7417\n",
            "Epoch 105/150\n",
            " - 0s - loss: 0.5513 - accuracy: 0.7183\n",
            "Epoch 106/150\n",
            " - 0s - loss: 0.5469 - accuracy: 0.7217\n",
            "Epoch 107/150\n",
            " - 0s - loss: 0.5440 - accuracy: 0.7400\n",
            "Epoch 108/150\n",
            " - 0s - loss: 0.5435 - accuracy: 0.7417\n",
            "Epoch 109/150\n",
            " - 0s - loss: 0.5410 - accuracy: 0.7317\n",
            "Epoch 110/150\n",
            " - 0s - loss: 0.5467 - accuracy: 0.7217\n",
            "Epoch 111/150\n",
            " - 0s - loss: 0.5379 - accuracy: 0.7433\n",
            "Epoch 112/150\n",
            " - 0s - loss: 0.5356 - accuracy: 0.7450\n",
            "Epoch 113/150\n",
            " - 0s - loss: 0.5427 - accuracy: 0.7250\n",
            "Epoch 114/150\n",
            " - 0s - loss: 0.5357 - accuracy: 0.7533\n",
            "Epoch 115/150\n",
            " - 0s - loss: 0.5355 - accuracy: 0.7433\n",
            "Epoch 116/150\n",
            " - 0s - loss: 0.5363 - accuracy: 0.7383\n",
            "Epoch 117/150\n",
            " - 0s - loss: 0.5295 - accuracy: 0.7367\n",
            "Epoch 118/150\n",
            " - 0s - loss: 0.5309 - accuracy: 0.7317\n",
            "Epoch 119/150\n",
            " - 0s - loss: 0.5283 - accuracy: 0.7467\n",
            "Epoch 120/150\n",
            " - 0s - loss: 0.5234 - accuracy: 0.7550\n",
            "Epoch 121/150\n",
            " - 0s - loss: 0.5291 - accuracy: 0.7400\n",
            "Epoch 122/150\n",
            " - 0s - loss: 0.5236 - accuracy: 0.7567\n",
            "Epoch 123/150\n",
            " - 0s - loss: 0.5283 - accuracy: 0.7283\n",
            "Epoch 124/150\n",
            " - 0s - loss: 0.5233 - accuracy: 0.7467\n",
            "Epoch 125/150\n",
            " - 0s - loss: 0.5243 - accuracy: 0.7567\n",
            "Epoch 126/150\n",
            " - 0s - loss: 0.5244 - accuracy: 0.7450\n",
            "Epoch 127/150\n",
            " - 0s - loss: 0.5236 - accuracy: 0.7467\n",
            "Epoch 128/150\n",
            " - 0s - loss: 0.5208 - accuracy: 0.7533\n",
            "Epoch 129/150\n",
            " - 0s - loss: 0.5223 - accuracy: 0.7433\n",
            "Epoch 130/150\n",
            " - 0s - loss: 0.5193 - accuracy: 0.7567\n",
            "Epoch 131/150\n",
            " - 0s - loss: 0.5195 - accuracy: 0.7550\n",
            "Epoch 132/150\n",
            " - 0s - loss: 0.5191 - accuracy: 0.7517\n",
            "Epoch 133/150\n",
            " - 0s - loss: 0.5133 - accuracy: 0.7517\n",
            "Epoch 134/150\n",
            " - 0s - loss: 0.5154 - accuracy: 0.7483\n",
            "Epoch 135/150\n",
            " - 0s - loss: 0.5116 - accuracy: 0.7583\n",
            "Epoch 136/150\n",
            " - 0s - loss: 0.5128 - accuracy: 0.7633\n",
            "Epoch 137/150\n",
            " - 0s - loss: 0.5164 - accuracy: 0.7483\n",
            "Epoch 138/150\n",
            " - 0s - loss: 0.5119 - accuracy: 0.7583\n",
            "Epoch 139/150\n",
            " - 0s - loss: 0.5145 - accuracy: 0.7650\n",
            "Epoch 140/150\n",
            " - 0s - loss: 0.5144 - accuracy: 0.7433\n",
            "Epoch 141/150\n",
            " - 0s - loss: 0.5089 - accuracy: 0.7533\n",
            "Epoch 142/150\n",
            " - 0s - loss: 0.5041 - accuracy: 0.7567\n",
            "Epoch 143/150\n",
            " - 0s - loss: 0.5026 - accuracy: 0.7633\n",
            "Epoch 144/150\n",
            " - 0s - loss: 0.5090 - accuracy: 0.7517\n",
            "Epoch 145/150\n",
            " - 0s - loss: 0.5069 - accuracy: 0.7533\n",
            "Epoch 146/150\n",
            " - 0s - loss: 0.5103 - accuracy: 0.7550\n",
            "Epoch 147/150\n",
            " - 0s - loss: 0.5074 - accuracy: 0.7533\n",
            "Epoch 148/150\n",
            " - 0s - loss: 0.5040 - accuracy: 0.7533\n",
            "Epoch 149/150\n",
            " - 0s - loss: 0.4988 - accuracy: 0.7633\n",
            "Epoch 150/150\n",
            " - 0s - loss: 0.5022 - accuracy: 0.7617\n"
          ],
          "name": "stdout"
        },
        {
          "output_type": "execute_result",
          "data": {
            "text/plain": [
              "<keras.callbacks.callbacks.History at 0x7f3cb5c55390>"
            ]
          },
          "metadata": {
            "tags": []
          },
          "execution_count": 9
        }
      ]
    },
    {
      "cell_type": "markdown",
      "metadata": {
        "id": "URLdlpAj05kA"
      },
      "source": [
        "Modelin başarı yüzdesi.. "
      ]
    },
    {
      "cell_type": "code",
      "metadata": {
        "id": "bAkHtSn40E_8",
        "colab": {
          "base_uri": "https://localhost:8080/",
          "height": 35
        },
        "outputId": "7348ec37-8333-408e-e235-77d571918a20"
      },
      "source": [
        "print(\"%s: %.2f%%\" % (model.metrics_names[1], scores[1]*100))"
      ],
      "execution_count": null,
      "outputs": [
        {
          "output_type": "stream",
          "text": [
            "accuracy: 82.33%\n"
          ],
          "name": "stdout"
        }
      ]
    },
    {
      "cell_type": "markdown",
      "metadata": {
        "id": "w5k5qVuU0g8T"
      },
      "source": [
        "modelimiz verdiğimiz örnekleri kullanarak girdi ve çıktılar arasında ilişkisel olarak bir model buldu ve eğitim sona erdi. Bundan sonra sisteme test verilerimizi vererek ne kadar başarılı bir sonuç bulduğunu hesaplayacağız. Şimdi köşeye ayırdığımız 96 değeri sistemimize vereceğiz ve ysa modelimizin bulduğu sonuçlar ile gerçek sonuçları karşılaştırıp ne kadar başarılı olduğunu görelim. Aşağıdaki kodlarıda yine aynı python dosyasına yazarak devam edelim."
      ]
    },
    {
      "cell_type": "code",
      "metadata": {
        "id": "bJszbOjD1Wwe"
      },
      "source": [
        ""
      ],
      "execution_count": null,
      "outputs": []
    },
    {
      "cell_type": "code",
      "metadata": {
        "id": "1-Ggdh2H0OWE"
      },
      "source": [
        "#96 adet test verimizin sadece 8 girdisini sisteme veriyoruz.\n",
        "test_verisi = dataset[600:696, 0:8]\n",
        " \n",
        "#Sistemin verdiğimiz değerlerden yola çıkarak kişinin diyabet hastası olup olmadığını tahmin ediyor.\n",
        "predictions = model.predict(test_verisi)\n"
      ],
      "execution_count": null,
      "outputs": []
    },
    {
      "cell_type": "code",
      "metadata": {
        "id": "jEJoa-r_0PZ5",
        "colab": {
          "base_uri": "https://localhost:8080/",
          "height": 1000
        },
        "outputId": "e081b10c-03bf-49d9-b3de-b7587b5e73e4"
      },
      "source": [
        "dogru = 0\n",
        "yanlis = 0\n",
        "toplam_veri = len(dataset[600:696,8])\n",
        " \n",
        "for x, y in zip(predictions, dataset[600:696,8]):    \n",
        "    x = int(numpy.round(x[0]))\n",
        "    if int(x) == y:\n",
        "        cprint(\"Tahmin: \"+str(x)+\" - Gerçek Değer: \"+str(int(y)), \"white\", \"on_green\", attrs=['bold'])\n",
        "        dogru += 1\n",
        "    else:\n",
        "        cprint(\"Tahmin: \"+str(x)+\" - Gerçek Değer: \"+str(int(y)), \"white\", \"on_red\", attrs=['bold'])\n",
        "        yanlis += 1\n",
        " \n",
        "print(\"\\n\", \"-\"*150, \"\\nISTATISTIK:\\nToplam \", toplam_veri, \" Veri içersinde;\\nDoğru Bilme Sayısı: \", dogru, \"\\nYanlış Bilme Sayısı: \",yanlis,\n",
        "      \"\\nBaşarı Yüzdesi: \", str(int(100*dogru/toplam_veri))+\"%\", sep=\"\") "
      ],
      "execution_count": null,
      "outputs": [
        {
          "output_type": "stream",
          "text": [
            "\u001b[1m\u001b[42m\u001b[37mTahmin: 0 - Gerçek Değer: 0\u001b[0m\n",
            "\u001b[1m\u001b[42m\u001b[37mTahmin: 0 - Gerçek Değer: 0\u001b[0m\n",
            "\u001b[1m\u001b[42m\u001b[37mTahmin: 0 - Gerçek Değer: 0\u001b[0m\n",
            "\u001b[1m\u001b[41m\u001b[37mTahmin: 0 - Gerçek Değer: 1\u001b[0m\n",
            "\u001b[1m\u001b[42m\u001b[37mTahmin: 1 - Gerçek Değer: 1\u001b[0m\n",
            "\u001b[1m\u001b[42m\u001b[37mTahmin: 0 - Gerçek Değer: 0\u001b[0m\n",
            "\u001b[1m\u001b[42m\u001b[37mTahmin: 1 - Gerçek Değer: 1\u001b[0m\n",
            "\u001b[1m\u001b[42m\u001b[37mTahmin: 0 - Gerçek Değer: 0\u001b[0m\n",
            "\u001b[1m\u001b[42m\u001b[37mTahmin: 0 - Gerçek Değer: 0\u001b[0m\n",
            "\u001b[1m\u001b[42m\u001b[37mTahmin: 0 - Gerçek Değer: 0\u001b[0m\n",
            "\u001b[1m\u001b[42m\u001b[37mTahmin: 0 - Gerçek Değer: 0\u001b[0m\n",
            "\u001b[1m\u001b[42m\u001b[37mTahmin: 1 - Gerçek Değer: 1\u001b[0m\n",
            "\u001b[1m\u001b[42m\u001b[37mTahmin: 1 - Gerçek Değer: 1\u001b[0m\n",
            "\u001b[1m\u001b[42m\u001b[37mTahmin: 0 - Gerçek Değer: 0\u001b[0m\n",
            "\u001b[1m\u001b[42m\u001b[37mTahmin: 1 - Gerçek Değer: 1\u001b[0m\n",
            "\u001b[1m\u001b[42m\u001b[37mTahmin: 0 - Gerçek Değer: 0\u001b[0m\n",
            "\u001b[1m\u001b[42m\u001b[37mTahmin: 0 - Gerçek Değer: 0\u001b[0m\n",
            "\u001b[1m\u001b[42m\u001b[37mTahmin: 0 - Gerçek Değer: 0\u001b[0m\n",
            "\u001b[1m\u001b[41m\u001b[37mTahmin: 0 - Gerçek Değer: 1\u001b[0m\n",
            "\u001b[1m\u001b[42m\u001b[37mTahmin: 1 - Gerçek Değer: 1\u001b[0m\n",
            "\u001b[1m\u001b[42m\u001b[37mTahmin: 0 - Gerçek Değer: 0\u001b[0m\n",
            "\u001b[1m\u001b[42m\u001b[37mTahmin: 0 - Gerçek Değer: 0\u001b[0m\n",
            "\u001b[1m\u001b[41m\u001b[37mTahmin: 1 - Gerçek Değer: 0\u001b[0m\n",
            "\u001b[1m\u001b[42m\u001b[37mTahmin: 0 - Gerçek Değer: 0\u001b[0m\n",
            "\u001b[1m\u001b[42m\u001b[37mTahmin: 0 - Gerçek Değer: 0\u001b[0m\n",
            "\u001b[1m\u001b[42m\u001b[37mTahmin: 0 - Gerçek Değer: 0\u001b[0m\n",
            "\u001b[1m\u001b[42m\u001b[37mTahmin: 0 - Gerçek Değer: 0\u001b[0m\n",
            "\u001b[1m\u001b[42m\u001b[37mTahmin: 0 - Gerçek Değer: 0\u001b[0m\n",
            "\u001b[1m\u001b[41m\u001b[37mTahmin: 1 - Gerçek Değer: 0\u001b[0m\n",
            "\u001b[1m\u001b[42m\u001b[37mTahmin: 0 - Gerçek Değer: 0\u001b[0m\n",
            "\u001b[1m\u001b[41m\u001b[37mTahmin: 0 - Gerçek Değer: 1\u001b[0m\n",
            "\u001b[1m\u001b[42m\u001b[37mTahmin: 0 - Gerçek Değer: 0\u001b[0m\n",
            "\u001b[1m\u001b[42m\u001b[37mTahmin: 0 - Gerçek Değer: 0\u001b[0m\n",
            "\u001b[1m\u001b[42m\u001b[37mTahmin: 0 - Gerçek Değer: 0\u001b[0m\n",
            "\u001b[1m\u001b[42m\u001b[37mTahmin: 0 - Gerçek Değer: 0\u001b[0m\n",
            "\u001b[1m\u001b[42m\u001b[37mTahmin: 1 - Gerçek Değer: 1\u001b[0m\n",
            "\u001b[1m\u001b[42m\u001b[37mTahmin: 0 - Gerçek Değer: 0\u001b[0m\n",
            "\u001b[1m\u001b[42m\u001b[37mTahmin: 0 - Gerçek Değer: 0\u001b[0m\n",
            "\u001b[1m\u001b[41m\u001b[37mTahmin: 0 - Gerçek Değer: 1\u001b[0m\n",
            "\u001b[1m\u001b[42m\u001b[37mTahmin: 0 - Gerçek Değer: 0\u001b[0m\n",
            "\u001b[1m\u001b[42m\u001b[37mTahmin: 0 - Gerçek Değer: 0\u001b[0m\n",
            "\u001b[1m\u001b[42m\u001b[37mTahmin: 0 - Gerçek Değer: 0\u001b[0m\n",
            "\u001b[1m\u001b[42m\u001b[37mTahmin: 1 - Gerçek Değer: 1\u001b[0m\n",
            "\u001b[1m\u001b[42m\u001b[37mTahmin: 0 - Gerçek Değer: 0\u001b[0m\n",
            "\u001b[1m\u001b[42m\u001b[37mTahmin: 0 - Gerçek Değer: 0\u001b[0m\n",
            "\u001b[1m\u001b[42m\u001b[37mTahmin: 0 - Gerçek Değer: 0\u001b[0m\n",
            "\u001b[1m\u001b[42m\u001b[37mTahmin: 1 - Gerçek Değer: 1\u001b[0m\n",
            "\u001b[1m\u001b[42m\u001b[37mTahmin: 1 - Gerçek Değer: 1\u001b[0m\n",
            "\u001b[1m\u001b[42m\u001b[37mTahmin: 1 - Gerçek Değer: 1\u001b[0m\n",
            "\u001b[1m\u001b[42m\u001b[37mTahmin: 0 - Gerçek Değer: 0\u001b[0m\n",
            "\u001b[1m\u001b[42m\u001b[37mTahmin: 0 - Gerçek Değer: 0\u001b[0m\n",
            "\u001b[1m\u001b[42m\u001b[37mTahmin: 0 - Gerçek Değer: 0\u001b[0m\n",
            "\u001b[1m\u001b[42m\u001b[37mTahmin: 0 - Gerçek Değer: 0\u001b[0m\n",
            "\u001b[1m\u001b[42m\u001b[37mTahmin: 0 - Gerçek Değer: 0\u001b[0m\n",
            "\u001b[1m\u001b[42m\u001b[37mTahmin: 0 - Gerçek Değer: 0\u001b[0m\n",
            "\u001b[1m\u001b[42m\u001b[37mTahmin: 1 - Gerçek Değer: 1\u001b[0m\n",
            "\u001b[1m\u001b[42m\u001b[37mTahmin: 0 - Gerçek Değer: 0\u001b[0m\n",
            "\u001b[1m\u001b[41m\u001b[37mTahmin: 1 - Gerçek Değer: 0\u001b[0m\n",
            "\u001b[1m\u001b[42m\u001b[37mTahmin: 0 - Gerçek Değer: 0\u001b[0m\n",
            "\u001b[1m\u001b[41m\u001b[37mTahmin: 0 - Gerçek Değer: 1\u001b[0m\n",
            "\u001b[1m\u001b[41m\u001b[37mTahmin: 1 - Gerçek Değer: 0\u001b[0m\n",
            "\u001b[1m\u001b[42m\u001b[37mTahmin: 1 - Gerçek Değer: 1\u001b[0m\n",
            "\u001b[1m\u001b[42m\u001b[37mTahmin: 1 - Gerçek Değer: 1\u001b[0m\n",
            "\u001b[1m\u001b[42m\u001b[37mTahmin: 1 - Gerçek Değer: 1\u001b[0m\n",
            "\u001b[1m\u001b[41m\u001b[37mTahmin: 0 - Gerçek Değer: 1\u001b[0m\n",
            "\u001b[1m\u001b[42m\u001b[37mTahmin: 0 - Gerçek Değer: 0\u001b[0m\n",
            "\u001b[1m\u001b[41m\u001b[37mTahmin: 0 - Gerçek Değer: 1\u001b[0m\n",
            "\u001b[1m\u001b[41m\u001b[37mTahmin: 0 - Gerçek Değer: 1\u001b[0m\n",
            "\u001b[1m\u001b[41m\u001b[37mTahmin: 1 - Gerçek Değer: 0\u001b[0m\n",
            "\u001b[1m\u001b[42m\u001b[37mTahmin: 0 - Gerçek Değer: 0\u001b[0m\n",
            "\u001b[1m\u001b[41m\u001b[37mTahmin: 1 - Gerçek Değer: 0\u001b[0m\n",
            "\u001b[1m\u001b[42m\u001b[37mTahmin: 0 - Gerçek Değer: 0\u001b[0m\n",
            "\u001b[1m\u001b[42m\u001b[37mTahmin: 0 - Gerçek Değer: 0\u001b[0m\n",
            "\u001b[1m\u001b[41m\u001b[37mTahmin: 1 - Gerçek Değer: 0\u001b[0m\n",
            "\u001b[1m\u001b[42m\u001b[37mTahmin: 0 - Gerçek Değer: 0\u001b[0m\n",
            "\u001b[1m\u001b[42m\u001b[37mTahmin: 1 - Gerçek Değer: 1\u001b[0m\n",
            "\u001b[1m\u001b[42m\u001b[37mTahmin: 1 - Gerçek Değer: 1\u001b[0m\n",
            "\u001b[1m\u001b[42m\u001b[37mTahmin: 0 - Gerçek Değer: 0\u001b[0m\n",
            "\u001b[1m\u001b[42m\u001b[37mTahmin: 1 - Gerçek Değer: 1\u001b[0m\n",
            "\u001b[1m\u001b[42m\u001b[37mTahmin: 0 - Gerçek Değer: 0\u001b[0m\n",
            "\u001b[1m\u001b[42m\u001b[37mTahmin: 0 - Gerçek Değer: 0\u001b[0m\n",
            "\u001b[1m\u001b[42m\u001b[37mTahmin: 1 - Gerçek Değer: 1\u001b[0m\n",
            "\u001b[1m\u001b[42m\u001b[37mTahmin: 0 - Gerçek Değer: 0\u001b[0m\n",
            "\u001b[1m\u001b[41m\u001b[37mTahmin: 0 - Gerçek Değer: 1\u001b[0m\n",
            "\u001b[1m\u001b[42m\u001b[37mTahmin: 0 - Gerçek Değer: 0\u001b[0m\n",
            "\u001b[1m\u001b[42m\u001b[37mTahmin: 0 - Gerçek Değer: 0\u001b[0m\n",
            "\u001b[1m\u001b[42m\u001b[37mTahmin: 0 - Gerçek Değer: 0\u001b[0m\n",
            "\u001b[1m\u001b[42m\u001b[37mTahmin: 0 - Gerçek Değer: 0\u001b[0m\n",
            "\u001b[1m\u001b[42m\u001b[37mTahmin: 0 - Gerçek Değer: 0\u001b[0m\n",
            "\u001b[1m\u001b[41m\u001b[37mTahmin: 0 - Gerçek Değer: 1\u001b[0m\n",
            "\u001b[1m\u001b[42m\u001b[37mTahmin: 0 - Gerçek Değer: 0\u001b[0m\n",
            "\u001b[1m\u001b[42m\u001b[37mTahmin: 1 - Gerçek Değer: 1\u001b[0m\n",
            "\u001b[1m\u001b[42m\u001b[37mTahmin: 0 - Gerçek Değer: 0\u001b[0m\n",
            "\u001b[1m\u001b[41m\u001b[37mTahmin: 0 - Gerçek Değer: 1\u001b[0m\n",
            "\u001b[1m\u001b[42m\u001b[37mTahmin: 0 - Gerçek Değer: 0\u001b[0m\n",
            "\u001b[1m\u001b[41m\u001b[37mTahmin: 0 - Gerçek Değer: 1\u001b[0m\n",
            "\n",
            "------------------------------------------------------------------------------------------------------------------------------------------------------\n",
            "ISTATISTIK:\n",
            "Toplam 96 Veri içersinde;\n",
            "Doğru Bilme Sayısı: 77\n",
            "Yanlış Bilme Sayısı: 19\n",
            "Başarı Yüzdesi: 80%\n"
          ],
          "name": "stdout"
        }
      ]
    }
  ]
}