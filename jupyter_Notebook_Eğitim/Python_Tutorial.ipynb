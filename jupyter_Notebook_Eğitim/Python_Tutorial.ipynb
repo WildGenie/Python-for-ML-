{
  "nbformat": 4,
  "nbformat_minor": 0,
  "metadata": {
    "colab": {
      "name": "Python Tutorial.ipynb",
      "provenance": [],
      "collapsed_sections": []
    },
    "kernelspec": {
      "name": "python3",
      "display_name": "Python 3"
    }
  },
  "cells": [
    {
      "cell_type": "markdown",
      "metadata": {
        "id": "NL8R8oTt0Tuy"
      },
      "source": [
        "# Neden Python?\n",
        "\n",
        "- Temiz bir söz dizimi\n",
        "- Kolay okunur ve anlaşılır\n",
        "- Nesne yönelik ve modüler bir dil olduğundan büyük ölçekli projeler geliştirmek için uygun\n",
        "- Geniş kütüphanesi ve gelişmiş söz dizimi sebebiyle kullanıcıyı detaylarla uğraştırmadığı için hızlı ve ufak projeler geliştirmek için ideal\n",
        "- Açık kaynak kodlu ve ücretsiz\n",
        "- Bir çok sistem ve platform için destek vermekle\n",
        "- Diğer dillerle genişletilebilinir\n",
        "\n",
        "### Olumsuz yanları:\n",
        "\n",
        "- Hız ve performans gerektiren uygulamalar için uygun değil\n",
        "- Kullanıcı ara yüzü için harici kütüphaneler kullanılmakta\n",
        "- Linux, Windows ve Macintosh gibi masa üstü platformlar yerel olarak desteklenirken, web, mobil gibi platformlar harici kütüphanelerle desteklenmekte\n",
        "\n",
        "# Kodlama\n"
      ]
    },
    {
      "cell_type": "markdown",
      "metadata": {
        "id": "v1N0qLLn1RrH"
      },
      "source": [
        ""
      ]
    },
    {
      "cell_type": "markdown",
      "metadata": {
        "id": "15VrupR41VYK"
      },
      "source": [
        "\n",
        "### Hoş Geldin Dünya\n"
      ]
    },
    {
      "cell_type": "code",
      "metadata": {
        "id": "zaYbihrQ0Z-c",
        "colab": {
          "base_uri": "https://localhost:8080/",
          "height": 34
        },
        "outputId": "7d3073f3-ab74-462c-bed7-107d6c7b3aa7"
      },
      "source": [
        "print('Selam Dünya!')"
      ],
      "execution_count": null,
      "outputs": [
        {
          "output_type": "stream",
          "text": [
            "Selam Dünya!\n"
          ],
          "name": "stdout"
        }
      ]
    },
    {
      "cell_type": "markdown",
      "metadata": {
        "id": "_9TBY4vZ1crX"
      },
      "source": [
        "### Yorum Satırı\n"
      ]
    },
    {
      "cell_type": "code",
      "metadata": {
        "id": "DLLYHHuX0498"
      },
      "source": [
        "# Kare işaretinden sonra yazılan satırlar\n",
        "# derleyici tarafından yok sayılır\n",
        "# Gelecek Bilimde - Oyun İçinde Oyun"
      ],
      "execution_count": null,
      "outputs": []
    },
    {
      "cell_type": "markdown",
      "metadata": {
        "id": "avbaWSTl1lS7"
      },
      "source": [
        "\n",
        "### Değişkenler, Atamalar\n"
      ]
    },
    {
      "cell_type": "code",
      "metadata": {
        "id": "x7NyAv_21E-O"
      },
      "source": [
        "x = 'Bu bir dizedir'   # dize (yazı), string\n",
        "y = \"Bir yazı\"         # tek yada çift tırnak arasında tanımlanabilinir\n",
        " \n",
        "isim = \"Özkan\"\n",
        "karsilama = \"Hoş geldin \" + isim\n",
        "# string ifadeleri birbirine bağlamak (\"concatenation\") için + operatörü kullanılır"
      ],
      "execution_count": null,
      "outputs": []
    },
    {
      "cell_type": "markdown",
      "metadata": {
        "id": "GEzoTMKG1q_a"
      },
      "source": [
        "- Tür tanımlı dillerde olduğu gibi değişkenlerin tipleri bildirilmez. Python Dinamik tipli bir dildir.\n",
        "- Değişkenleri tanımlarken değişken etiketi kullanılmaz\n",
        "\n",
        "### Rakamlar\n"
      ]
    },
    {
      "cell_type": "code",
      "metadata": {
        "id": "2nVs0dNy09zV"
      },
      "source": [
        "x = 1       # tam sayı, integer\n",
        "x = 1.0     # ondalık (rasyonel) sayı, decimal (floating point)"
      ],
      "execution_count": null,
      "outputs": []
    },
    {
      "cell_type": "markdown",
      "metadata": {
        "id": "6RFGL0_21zK3"
      },
      "source": [
        "### Mantıksal veriler\n"
      ]
    },
    {
      "cell_type": "code",
      "metadata": {
        "id": "ozUGng521BY4"
      },
      "source": [
        "x = True       # mantıksal (olumlu, olumsuz), booleon"
      ],
      "execution_count": null,
      "outputs": []
    },
    {
      "cell_type": "markdown",
      "metadata": {
        "id": "89XCvYIg1249"
      },
      "source": [
        "### Dizeler (String İfadeler)\n"
      ]
    },
    {
      "cell_type": "code",
      "metadata": {
        "id": "wCsVW8QZ06Mc"
      },
      "source": [
        "x = 1         # 1 değeri x değişkenine atandı\n",
        "y = x + 5     # x değerine 5 eklenip y değişkenine atandı\n",
        "z = y         # z değişkenine y değeri atandı"
      ],
      "execution_count": null,
      "outputs": []
    }
  ]
}