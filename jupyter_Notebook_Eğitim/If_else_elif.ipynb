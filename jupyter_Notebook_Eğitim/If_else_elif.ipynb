{
  "nbformat": 4,
  "nbformat_minor": 0,
  "metadata": {
    "colab": {
      "name": "If- else-elif.ipynb",
      "provenance": []
    },
    "kernelspec": {
      "name": "python3",
      "display_name": "Python 3"
    },
    "language_info": {
      "name": "python"
    }
  },
  "cells": [
    {
      "cell_type": "code",
      "metadata": {
        "colab": {
          "base_uri": "https://localhost:8080/"
        },
        "id": "re25s55VokTe",
        "outputId": "a89d622a-6e95-4320-b819-6ef38d567875"
      },
      "source": [
        "username = \"apsuara\"\n",
        "password = \"1234\"\n",
        "\n",
        "if (username == \"apsuara\"):\n",
        "  if (password == \"1234\"):\n",
        "    print (\"Uygulamaya Hoş geldiniz...\")\n",
        "  else:\n",
        "    print(\"Parola Yanlış\")\n",
        "else: \n",
        "  print (\"Kullanıcı Adı Yanlış\")\n"
      ],
      "execution_count": null,
      "outputs": [
        {
          "output_type": "stream",
          "text": [
            "Parola Yanlış\n"
          ],
          "name": "stdout"
        }
      ]
    },
    {
      "cell_type": "code",
      "metadata": {
        "colab": {
          "base_uri": "https://localhost:8080/"
        },
        "id": "MO7nB9UEorRR",
        "outputId": "c99303f7-442d-47a7-9c74-308e775c122e"
      },
      "source": [
        "sayi = int(input(\"Bir Sayı giriniz: \"))\n",
        "\n",
        "if sayi>0: \n",
        "  print (\"Sayının Pozitif Olduğunu Söyleyebilirim\")\n",
        "elif (sayi == 0): \n",
        "  print (\"Sıfır Girdisini Verdiniz. Lütfen Başka Bir sayı İle Deneyiniz\")\n",
        "else: #sayi<0 demekten kurtuluyorum#\n",
        " print (\"Sayının Negatif Olduğunu Söyleyebilirim\")\n"
      ],
      "execution_count": null,
      "outputs": [
        {
          "output_type": "stream",
          "text": [
            "Bir Sayı giriniz: 0\n",
            "Sıfır Girdisini Verdiniz. Lütfen Başka Bir sayı İle Deneyiniz\n"
          ],
          "name": "stdout"
        }
      ]
    },
    {
      "cell_type": "code",
      "metadata": {
        "colab": {
          "base_uri": "https://localhost:8080/"
        },
        "id": "KNnt_T96pKpS",
        "outputId": "87eded7b-8d22-40ec-b431-1a48a2e7249e"
      },
      "source": [
        "birinci_sayi = int(input('Birinci sayıyı girin: '))\n",
        "ikinci_sayi = int(input('İkinci sayıyı girin: '))\n",
        "\n",
        "print(\n",
        "        f'Sayıların toplamı {birinci_sayi+ikinci_sayi} eder.')"
      ],
      "execution_count": null,
      "outputs": [
        {
          "output_type": "stream",
          "text": [
            "Birinci sayıyı girin: 83\n",
            "İkinci sayıyı girin: 65\n",
            "Sayıların toplamı 148 eder.\n"
          ],
          "name": "stdout"
        }
      ]
    },
    {
      "cell_type": "code",
      "metadata": {
        "colab": {
          "base_uri": "https://localhost:8080/"
        },
        "id": "IEugl1GFou0U",
        "outputId": "9c2fd197-6358-4e49-bf13-75d98ef9b2f9"
      },
      "source": [
        "# durum 3\n",
        "# if(ortalama>=50):\n",
        "#     print(f'öğrencinin not ortalaması: {ortalama} ve öğrenci geçti.')\n",
        "# else:\n",
        "#     if (final>=70):\n",
        "#         print(f'öğrencinin not ortalaması: {ortalama} ve öğrenci başarılı çünkü finalden 70 üstü aldı.')\n",
        "#     else:\n",
        "#         print(f'öğrencinin not ortalaması: {ortalama} ve öğrenci kaldı.')\n",
        "\n",
        "# 6- Kişinin ad, kilo ve boy bilgilerini alıp kilo indekslerini hesaplayınız.\n",
        "#    Formül: (Kilo / boy uzunluğunun karesi)\n",
        "#    Aşağıdaki tabloya göre kişi hangi gruba girmektedir.\n",
        "#    0-18.4    => Zayıf \n",
        "#    18.5-24.9 => Normal  \n",
        "#    25.0-29.9 => Fazla Kilolu\n",
        "#    30.0-34.9 => Şişman (Obez)\n",
        "\n",
        "#ad = input('adınız: ')\n",
        "#kg = float(input('kilonuz: '))\n",
        "#hg = float(input('boyunuz: '))\n",
        "\n",
        "#kiloIndeks = kg / (hg ** 2)\n",
        "\n",
        "#if (kiloIndeks >= 0) and (kiloIndeks <=18.4):\n",
        "    #print(f\"{ad} kilo indeksin: {kiloIndeks} ve kilo değerlendirmen zayıf.\")\n",
        "#elif (kiloIndeks > 18.4) and (kiloIndeks <=24.9):\n",
        "    #print(f\"{ad} kilo indeksin: {kiloIndeks} ve kilo değerlendirmen normal.\")\n",
        "#elif (kiloIndeks > 24.9) and (kiloIndeks <=29.9):\n",
        "    #print(f\"{ad} kilo indeksin: {kiloIndeks} ve kilo değerlendirmen kilolu.\")\n",
        "#elif (kiloIndeks >= 29.9) and (kiloIndeks <=34.9):\n",
        "    #print(f\"{ad} kilo indeksin: {kiloIndeks} ve kilo değerlendirmen obez.\")\n",
        "#else:\n",
        "    #print('bilgileriniz yanlış.')\n"
      ],
      "execution_count": null,
      "outputs": [
        {
          "output_type": "stream",
          "text": [
            "vize 1: 61\n",
            "vize 2: 51\n",
            "final: 49\n",
            "öğrencinin not ortalaması: 51.8 ve öğrenci kaldı. Finalden en az 50 almalıdır.\n"
          ],
          "name": "stdout"
        }
      ]
    }
  ]
}