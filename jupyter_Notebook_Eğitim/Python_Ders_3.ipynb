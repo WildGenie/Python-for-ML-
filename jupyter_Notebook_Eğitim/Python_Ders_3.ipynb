{
  "nbformat": 4,
  "nbformat_minor": 0,
  "metadata": {
    "colab": {
      "name": "Python_Ders_3.ipynb",
      "provenance": []
    },
    "kernelspec": {
      "name": "python3",
      "display_name": "Python 3"
    },
    "language_info": {
      "name": "python"
    }
  },
  "cells": [
    {
      "cell_type": "markdown",
      "metadata": {
        "id": "MnN8ktff-upn"
      },
      "source": [
        "#List-1 "
      ]
    },
    {
      "cell_type": "code",
      "metadata": {
        "colab": {
          "base_uri": "https://localhost:8080/"
        },
        "id": "-eeFmO4h9O6W",
        "outputId": "e71fe57e-0f70-4965-daea-3aa1eddbffb8"
      },
      "source": [
        "#msg = \"Python Kursumuza Hoş Geldiniz. Ben Orkun TEKE\".split()\n",
        "\n",
        "import numpy as np\n",
        "import pandas as pd\n",
        "\n",
        "\n",
        "#sayilar = [1,3,5,7,9]\n",
        "#sonuc = sayilar \n",
        "#sonuc = sayilar [0]\n",
        "#sonuc = sayilar[4]\n",
        "#sonuc = sayilar [5]\n",
        "\n",
        "#sayilar = [1,3,5,7,9]\n",
        "\n",
        "#isimler = ['ahmet','ali',' can','ada','orkun','duygu','aycan', 'mervenur',1.5]\n",
        "#sonuc = isimler \n",
        "#sonuc = isimler[0]\n",
        "\n",
        "#print(type(isimler[8]))\n",
        "# print(type(sayilar[0]))\n",
        "\n",
        "#listeAli = ['ali',20]\n",
        "#listeAhmet = ['ahmet',22]\n",
        "\n",
        "#sonuc = listeAli[4]\n",
        "#sonuc = listeAli[1]\n",
        "\n",
        "#ogrenciler = [[\"ali\",20],[\"ahmet\",22]]\n",
        "ogrenciler = [listeAli,listeAhmet]\n",
        "\n",
        "#sonuc = ogrenciler[0][0]\n",
        "sonuc = ogrenciler[1][0]\n",
        "\n",
        "print(sonuc)"
      ],
      "execution_count": null,
      "outputs": [
        {
          "output_type": "stream",
          "text": [
            "ahmet\n"
          ],
          "name": "stdout"
        }
      ]
    },
    {
      "cell_type": "markdown",
      "metadata": {
        "id": "UKNyfQLD-zL2"
      },
      "source": [
        "#List- 2\n"
      ]
    },
    {
      "cell_type": "code",
      "metadata": {
        "colab": {
          "base_uri": "https://localhost:8080/"
        },
        "id": "qRo-eIfe9sls",
        "outputId": "c620bea4-78cb-4d6e-d2a8-c231f7e0a905"
      },
      "source": [
        "diller = [\"Python\",\"C#\",\"Java\",\"Javascript\",\"React\"]\n",
        "\n",
        "sonuc = diller\n",
        "sonuc = type(diller)\n",
        "#sonuc = diller[0:2]\n",
        "#sonuc = diller[2:]\n",
        "#sonuc = diller[:3]\n",
        "#sonuc = diller[-1]\n",
        "#sonuc = diller[-4:-1]\n",
        "#diller[0] = \"Html\"\n",
        "#diller[-1] = \"Html\"\n",
        "#sonuc = len(diller)\n",
        "#sonuc = diller + [\"Angular\",\"Vuejs\"]\n",
        "\n",
        "#if bloğu=> Koşul ifadeleri\n",
        "#if \"Python\" in diller:\n",
        "    #print(\"değer listenin bir elemanı\")\n",
        "\n",
        "# döngüler \n",
        "#for x in diller:\n",
        "    #print(x)\n",
        "\n",
        "#del diller[0]\n",
        "\n",
        "#sonuc = diller\n",
        "\n",
        "print(sonuc)"
      ],
      "execution_count": null,
      "outputs": [
        {
          "output_type": "stream",
          "text": [
            "Python\n",
            "C#\n",
            "Java\n",
            "Javascript\n",
            "React\n",
            "<class 'list'>\n"
          ],
          "name": "stdout"
        }
      ]
    },
    {
      "cell_type": "markdown",
      "metadata": {
        "id": "S-9G906o-4zy"
      },
      "source": [
        "# List- Methods "
      ]
    },
    {
      "cell_type": "code",
      "metadata": {
        "colab": {
          "base_uri": "https://localhost:8080/"
        },
        "id": "h2PqUiQM-r1s",
        "outputId": "936b0d9b-5cc1-4e1c-be6b-370b3d0c0056"
      },
      "source": [
        "sayilar = [1,5,8,9,3,45,77,5]\n",
        "harfler = ['a','b','e','s','a','y']\n",
        "\n",
        "#sonuc = min(sayilar)\n",
        "#sonuc = max(sayilar)         \n",
        "#sonuc = min(harfler)           \n",
        "#sonuc = max(harfler)\n",
        "\n",
        "# ekleme\n",
        "#sayilar.append(10)  \n",
        "#sayilar.insert(3,5) \n",
        "#sayilar.insert(-1,50)\n",
        "#sayilar.insert(len(sayilar),150)\n",
        "\n",
        "# silme\n",
        "#sayilar.pop()\n",
        "#sayilar.pop(0)\n",
        "#sayilar.remove(45)\n",
        "#harfler.remove('y')\n",
        "\n",
        "# sıralama\n",
        "#sayilar.sort()\n",
        "#harfler.sort()\n",
        "#sayilar.reverse()\n",
        "\n",
        "#print(sayilar.count(5))\n",
        "# print(harfler.count('a'))\n",
        "\n",
        "#print(sayilar.index(3))\n",
        "#sayilar.clear()\n",
        "\n",
        "sonuc = sayilar\n",
        "#sonuc = harfler\n",
        "\n",
        "print(sonuc)"
      ],
      "execution_count": null,
      "outputs": [
        {
          "output_type": "stream",
          "text": [
            "[1, 5, 8, 9, 3, 45, 77, 5]\n"
          ],
          "name": "stdout"
        }
      ]
    }
  ]
}