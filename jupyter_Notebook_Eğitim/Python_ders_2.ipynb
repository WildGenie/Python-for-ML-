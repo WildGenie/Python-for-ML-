{
  "nbformat": 4,
  "nbformat_minor": 0,
  "metadata": {
    "colab": {
      "name": "Python_ders_2.ipynb",
      "provenance": []
    },
    "kernelspec": {
      "name": "python3",
      "display_name": "Python 3"
    },
    "language_info": {
      "name": "python"
    }
  },
  "cells": [
    {
      "cell_type": "code",
      "metadata": {
        "colab": {
          "base_uri": "https://localhost:8080/"
        },
        "id": "c-F73NIkqR0z",
        "outputId": "cd475c6d-6ea6-466a-aed7-083a438a67d2"
      },
      "source": [
        "# a = 5\n",
        "# b = 10\n",
        "# c = 20\n",
        "\n",
        "a, b, c = 21, 10, 20\n",
        "d, e, f = 32, 21, 10\n",
        "\n",
        "# a, b = b, a\n",
        "a += 5       # a = a + 5\n",
        "a -= 5       # a = a - 5\n",
        "a *= 5       # a = a * 5\n",
        "a /= 5       # a = a / 5\n",
        "a %= 5       # a = a % 5\n",
        "a **= 5      # a = a ** 5\n",
        "a //= 5      # a = a // 5\n",
        "\n",
        "values = (1, 2, 3, 4, 5, 6)\n",
        "\n",
        "# a, b, *c = values\n",
        "# a, *b, c = values\n",
        "*a, b, c = values\n",
        "\n",
        "print(a,b,c)"
      ],
      "execution_count": null,
      "outputs": [
        {
          "output_type": "stream",
          "text": [
            "7\n"
          ],
          "name": "stdout"
        }
      ]
    },
    {
      "cell_type": "code",
      "metadata": {
        "colab": {
          "base_uri": "https://localhost:8080/"
        },
        "id": "FIuOjtoJqbq8",
        "outputId": "eba47d6d-c9e2-43bc-a779-b4db9b11189d"
      },
      "source": [
        "    #Daire Alanı   : πr²\n",
        "    #Daire Çevresi : 2πr    \n",
        "    #** Yarı çapı verilen bir dairenin alan ve çevresini hesaplayınız. (π: 3.14)\n",
        "\n",
        "pi = 3.14 \n",
        "\n",
        "r = float(input(\"Yarıçapı Giriniz: \"))\n",
        "alan = pi* (r**2)\n",
        "cevre = 2*pi*r\n",
        "\n",
        "#print (alan)\n",
        "#print (cevre)\n",
        "result = \"Alan: \" + str(alan) +  + \" Çevre: \" + str(cevre)+\n",
        "print(result)\n",
        "\n",
        "\n"
      ],
      "execution_count": null,
      "outputs": [
        {
          "output_type": "stream",
          "text": [
            "Yarıçapı Giriniz: 3\n",
            "Alan: 28.26birim metre Çevre: 18.84birim metre\n"
          ],
          "name": "stdout"
        }
      ]
    },
    {
      "cell_type": "code",
      "metadata": {
        "colab": {
          "base_uri": "https://localhost:8080/"
        },
        "id": "sphwUgnDrNK5",
        "outputId": "46997f2d-46cd-435b-da0e-dc25d7225c30"
      },
      "source": [
        "    #Bir aracın km cinsinden gittiği yol bilgisini mil olarak yazdırınız.\n",
        "    #mil = km / 1.609344\n",
        "\n",
        "    oran = 1.609344                          #Burası, sayının bir değişkene atandığı Basamak \n",
        "    print (\"Kaç KM yol gittiniz?\")           #Programın Görsel Kısmı, Kullanıcıya Soru Sorulduğu Kısım\n",
        "    mesafeKm = input ()                      #Kullanıcıdan girdi değerinin alındığı kısım \n",
        "    mesafeMil = float(mesafeKm) / oran       #Matermatiksel İşlem Kısmı \n",
        "    mesafeMil = round(mesafeMil , 2)         #Burası \"sonucu güzelleştirme\" kısmı.\n",
        "\n",
        "    print (str(mesafeKm) +\" km = \" + str(mesafeMil) + \" mil.\") # Sonuçların ekrana Yadırılması "
      ],
      "execution_count": null,
      "outputs": [
        {
          "output_type": "stream",
          "text": [
            "Kaç KM yol gittiniz?\n",
            "30\n",
            "30 km = 18.64 mil.\n"
          ],
          "name": "stdout"
        }
      ]
    },
    {
      "cell_type": "code",
      "metadata": {
        "colab": {
          "base_uri": "https://localhost:8080/"
        },
        "id": "o85LBugtzJ6d",
        "outputId": "bf8912d2-8bf1-4a09-8da3-1c58cf9f3494"
      },
      "source": [
        "#ad = 'Orkun'\n",
        "#soyad = 'Teke'\n",
        "#yas = '30'\n",
        "\n",
        "#msj = 'Benim adım ' + ad + ' ve soyadım ' + soyad + '.Yaşım ise ' + yas + '.'\n",
        "\n",
        "#print(msj[-1])\n",
        "\n",
        "name = \"Orkun\"\n",
        "surname = \"TEKE\"\n",
        "age = \"30\"\n",
        "\n",
        "bilgiler = \"My name is \" + name + \" and surname is \" + surname + \". I am \" + age + \" years old.\"\n",
        "\n",
        "print (bilgiler [2:11])\n"
      ],
      "execution_count": null,
      "outputs": [
        {
          "output_type": "stream",
          "text": [
            " name is \n"
          ],
          "name": "stdout"
        }
      ]
    },
    {
      "cell_type": "code",
      "metadata": {
        "colab": {
          "base_uri": "https://localhost:8080/"
        },
        "id": "kNqQTAHb2AZV",
        "outputId": "2fc4befd-4892-4a4b-f96d-4f5a5e7162fb"
      },
      "source": [
        "msg = \"Python Kursumuza Hoş Geldiniz. Ben Orkun TEKE\"\n",
        "\n",
        "#sonuc = msg.upper()\n",
        "#sonuc = msg.lower()\n",
        "#sonuc = msg.title()\n",
        "#sonuc = msg.capitalize()\n",
        "\n",
        "#sonuc = \"abc\".islower()\n",
        "\n",
        "#sonuc = \"    abc \".strip()\n",
        "#sonuc = msg.split()\n",
        "#sonuc = msg.split('.')\n",
        "\n",
        "#sonuc = \"-\".join(sonuc)\n",
        "\n",
        "#index = msg.index('Hoş')\n",
        "#sonuc = msg.startswith('P')\n",
        "#sonuc = msg.endswith('E')\n",
        "\n",
        "#sonuc = msg.replace('TEKE','Orkun')\n",
        "sonuc = msg.lower().replace(' ','-').replace('ş','s').replace('.','').replace('ı','i')\n",
        "\n",
        "\n",
        "print(sonuc)\n",
        "#print (index)"
      ],
      "execution_count": null,
      "outputs": [
        {
          "output_type": "stream",
          "text": [
            "python-kursumuza-hos-geldiniz-ben-orkun-teke\n"
          ],
          "name": "stdout"
        }
      ]
    },
    {
      "cell_type": "code",
      "metadata": {
        "colab": {
          "base_uri": "https://localhost:8080/"
        },
        "id": "U1wimbeT5N9c",
        "outputId": "6fb88412-4748-4e77-9e34-cb07bdf2bca6"
      },
      "source": [
        "# 1- ' Hello World ' karakter dizisinin baş ve sondaki boşluk karakterlerini silin.\n",
        "\n",
        "#sonuc =  \" Hello World \".strip()\n",
        "#sonuc =  \" Hello World \".lstrip()\n",
        "#sonuc =  \" Hello World \".rstrip()\n",
        "\n",
        "# 2- 'www.orkunteke.com' içindeki orkunteke bilgisi haricindeki her karakteri silin.\n",
        "\n",
        "#sonuc = 'www.orkunteke.com'.strip('www.com')\n",
        "\n",
        "# 3- 'kursAdi' karakter dizisinin tüm karakterlerini küçük harf yapın.\n",
        "\n",
        "sonuc = \"kursAdi\".lower()\n",
        "\n",
        "# 4- 'website' içinde kaç tane a karakteri vardır ? (count('a'))\n",
        "\n",
        "#Kullanacağımız Komut Count()\n",
        "#sonuc = \"website\".count(\"a\")\n",
        "#sonuc = \"website\".count('www')\n",
        "#sonuc = \"website\".count (\"www\", 9 , 15)\n",
        "\n",
        "# 5- 'website' \"www\" ile başlayıp com ile bitiyor mu?\n",
        "\n",
        "#sonuc = \"website\".startswith(\"www\")\n",
        "#sonuc = \"website\".endswith(\"com\")\n",
        "\n",
        "# 6- 'website' içinde '.com' ifadesi var mı?\n",
        "\n",
        "#sonuc = \"website\".find(\".com\")\n",
        "#sonuc = \"website\".find(\".com\",0,10)\n",
        "\n",
        "# sonuc = kursAdi.index('Python')\n",
        "# sonuc = kursAdi.rindex('Python')\n",
        "# sonuc = kursAdi.index('React')\n",
        "\n",
        "# 7- 'kursAdi' içindeki karakterlerin hepsi alfabetik mi? (isalpha, isdigit)\n",
        "\n",
        "#sonuc = \"KursAdi\".isalpha()\n",
        "#sonuc = \"123\".isdigit()\n",
        "\n",
        "# 9- 'kursAdi' karakter dizisindeki tüm boşluk karakterlerini '-' ile değiştirin.\n",
        "\n",
        "#sonuc = \"kursAdi\".replace('', '-')\n",
        "\n",
        "# 10-'Hello World' karakter dizisinin 'World' ifadesini 'There' olarak değiştirin\n",
        "\n",
        "sonuc = \"Hello World\".replace(\"World\", \"There\")\n",
        "\n",
        "# 11-'kursAdi' karakter dizisini boşluk karakterlerinden ayırın.\n",
        "\n",
        "#kursAdi = \"kursAdi\".lower().replace(\":\",\"\")\n",
        "#sonuc = kursAdi.split()\n",
        "\n",
        "print(sonuc)"
      ],
      "execution_count": null,
      "outputs": [
        {
          "output_type": "stream",
          "text": [
            "['kursadi']\n"
          ],
          "name": "stdout"
        }
      ]
    }
  ]
}