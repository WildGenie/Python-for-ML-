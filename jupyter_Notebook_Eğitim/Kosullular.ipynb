{
  "nbformat": 4,
  "nbformat_minor": 0,
  "metadata": {
    "colab": {
      "name": "Kosullular.ipynb",
      "provenance": [],
      "collapsed_sections": []
    },
    "kernelspec": {
      "name": "python3",
      "display_name": "Python 3"
    }
  },
  "cells": [
    {
      "cell_type": "markdown",
      "metadata": {
        "id": "bVHGYr73gDAq"
      },
      "source": [
        "#KOŞULLU İFADELER (IF, ELIF, ELSE)\n",
        "\n",
        "# Koşullu ifadelerde kullanılan işlemler \n",
        "\n",
        "# Büyük ve Küçük Karşılaştırmaları (>, <, >=, <=) \n",
        "# Eşitlikler (== ve != Eşit değil)\n",
        "\n"
      ]
    },
    {
      "cell_type": "code",
      "metadata": {
        "id": "6sm4rJJTVk_Z"
      },
      "source": [
        "and, or, not #Boolean Operatörler-- ve, veya, değil\n"
      ],
      "execution_count": null,
      "outputs": []
    },
    {
      "cell_type": "code",
      "metadata": {
        "id": "uC1jPPVxhQWp",
        "outputId": "7268d5da-01ab-429a-fe75-f1c0ff6e77be",
        "colab": {
          "base_uri": "https://localhost:8080/",
          "height": 34
        }
      },
      "source": [
        "#İşlemsel Operatörler \n",
        "a = 4 \n",
        "a += 5 #a sayısına 5 eklemeyi ifade eder.bunu toplama çıkarma vs. için de uygulayabilirsiniz. \n",
        "print (a) \n"
      ],
      "execution_count": null,
      "outputs": [
        {
          "output_type": "stream",
          "text": [
            "9\n"
          ],
          "name": "stdout"
        }
      ]
    },
    {
      "cell_type": "code",
      "metadata": {
        "id": "tUq9VS-P_S6t"
      },
      "source": [
        "x == y # x, y'ye eşit ise\n",
        "x != y # x, y'ye eşit değil ise\n",
        "x > y # x, y'den büyük ise\n",
        "x < y # x, y'den küçük ise\n",
        "x >= y # x, y'den büyük ve eşit ise\n",
        "x <= y # x, y'den küçük ve eşit ise"
      ],
      "execution_count": null,
      "outputs": []
    },
    {
      "cell_type": "code",
      "metadata": {
        "id": "t-JdxD2thmOg",
        "outputId": "ba166376-78a6-4388-b81a-0589e16b2aa3",
        "colab": {
          "base_uri": "https://localhost:8080/",
          "height": 34
        }
      },
      "source": [
        "n = 10 #N' ye göre bir koşullu ifade oluşturalım \n",
        "if n > 10:     #SAyımız 10 ' dan büyükse \n",
        "  print (\"n 10' dan büyüktür\")\n",
        "else :         # Else komutu da karşıt durumu ifade eder. \n",
        "  print (\"n 10' dan küçüktür\")\n",
        "\n"
      ],
      "execution_count": null,
      "outputs": [
        {
          "output_type": "stream",
          "text": [
            "n 10' dan küçüktür\n"
          ],
          "name": "stdout"
        }
      ]
    },
    {
      "cell_type": "code",
      "metadata": {
        "id": "xWp5l1S7j9-n",
        "outputId": "0532537c-400a-4819-cc5e-47c5a3441992",
        "colab": {
          "base_uri": "https://localhost:8080/",
          "height": 52
        }
      },
      "source": [
        "sayi = int(input(\"Bir Sayı Giriniz: \")) # Input bildiğiniz gibi, girdiyi sizin girmenizi sağlar)\n",
        "#Girdiğiniz sayıya göre koşullama yapan bir ifade dizisi yazalım...\n",
        "if sayi > 8 : \n",
        "  print (\"Girdiğiniz sayı 8 den büyük\")\n",
        "elif sayi == 8:\n",
        "  print (\"Girdiğiniz sayı 8 \")\n",
        "else: \n",
        "  print (\"Girdiğiniz sayı 8 den küçük\")\n",
        "\n"
      ],
      "execution_count": null,
      "outputs": [
        {
          "output_type": "stream",
          "text": [
            "Bir Sayı Giriniz: 8\n",
            "Girdiğiniz sayı 8 \n"
          ],
          "name": "stdout"
        }
      ]
    },
    {
      "cell_type": "code",
      "metadata": {
        "id": "dfuMY7AEkif2",
        "outputId": "bfeb5f19-1189-4fbf-86e2-f7403645cbfb",
        "colab": {
          "base_uri": "https://localhost:8080/",
          "height": 51
        }
      },
      "source": [
        "sayi = int(input(\"Bir Sayı Giriniz: \"))\n",
        "\n",
        "if sayi > 8 : \n",
        "  print (\"Girdiğiniz sayı 8 den büyük\")\n",
        "elif sayi == 8:\n",
        "  print (\"Girdiğiniz sayı 8 \")\n",
        "else: \n",
        "  print (\"Girdiğiniz sayı 8 den küçük\")"
      ],
      "execution_count": null,
      "outputs": [
        {
          "output_type": "stream",
          "text": [
            "Bir Sayı Giriniz: 5\n",
            "Girdiğiniz sayı 8 den küçük\n"
          ],
          "name": "stdout"
        }
      ]
    },
    {
      "cell_type": "code",
      "metadata": {
        "id": "W3je3g4MxbQU",
        "outputId": "51591754-f582-4038-d544-53f83328eb8f",
        "colab": {
          "base_uri": "https://localhost:8080/",
          "height": 51
        }
      },
      "source": [
        "#Hadi Yine Çok Basi Bir Parola Uygulaması Yapalım \n",
        "\n",
        "password = input (\"Parolanızı Girin: \")\n",
        "\n",
        "\n",
        "if password == \"merhabadünya\" :\n",
        "  print (\"Harikalar Diyarı: Follow The White Raabbit\")\n",
        "else: \n",
        "  print (\"Tavşan Kaçtı\")\n"
      ],
      "execution_count": null,
      "outputs": [
        {
          "output_type": "stream",
          "text": [
            "PArolanızı Girin: merhabadünya\n",
            "Harikalar Diyarı: Follow The White Raabbit\n"
          ],
          "name": "stdout"
        }
      ]
    },
    {
      "cell_type": "code",
      "metadata": {
        "id": "u-z8a3IB8XKY",
        "outputId": "e91294b8-114e-45a1-af13-f4a8e0c75096",
        "colab": {
          "base_uri": "https://localhost:8080/",
          "height": 52
        }
      },
      "source": [
        "#SINAV NOTLARINI SINIFLANDIRALIM \n",
        "\n",
        "notunuz = int(input (\"Notu Giriniz: \"))\n",
        "\n",
        "if notunuz > 100 or notunuz < 0:\n",
        "  print (\"Hatalı Giriş\")\n",
        "elif notunuz >= 80 and notunuz <= 100:\n",
        "  print (\"AA Tebrikler\")\n",
        "elif notunuz >= 50 and notunuz <=79:\n",
        "  print (\"BB- Çalışmaya Devam\")\n",
        "else: \n",
        "  print (\"Başarısız Bir Sınav Sonucu\")\n",
        "\n"
      ],
      "execution_count": null,
      "outputs": [
        {
          "output_type": "stream",
          "text": [
            "Notu Giriniz: 90\n",
            "AA Tebrikler\n"
          ],
          "name": "stdout"
        }
      ]
    },
    {
      "cell_type": "code",
      "metadata": {
        "id": "8zJ0gj6s901l",
        "outputId": "3c350fa0-b89b-400b-cf92-4e001e8c7f73",
        "colab": {
          "base_uri": "https://localhost:8080/",
          "height": 51
        }
      },
      "source": [
        "notunuz = int(input (\"Notu Giriniz: \"))\n",
        "\n",
        "if notunuz > 100 or notunuz < 0:\n",
        "  print (\"Hatalı Giriş\")\n",
        "elif notunuz >= 80 and notunuz <= 100:\n",
        "  print (\"AA Tebrikler\")\n",
        "elif notunuz >= 50 and notunuz <=79:\n",
        "  print (\"BB- Çalışmaya Devam\")\n",
        "else: \n",
        "  print (\"Başarısız Bir Sınav Sonucu\")\n"
      ],
      "execution_count": null,
      "outputs": [
        {
          "output_type": "stream",
          "text": [
            "Notu Giriniz: 49\n",
            "Başarısız Bir Sınav Sonucu\n"
          ],
          "name": "stdout"
        }
      ]
    },
    {
      "cell_type": "code",
      "metadata": {
        "id": "rStybyQa93a8",
        "outputId": "539c88fa-f4bf-4cfe-db5c-68e035760906",
        "colab": {
          "base_uri": "https://localhost:8080/",
          "height": 51
        }
      },
      "source": [
        "notunuz = int(input (\"Notu Giriniz: \"))\n",
        "\n",
        "if notunuz > 100 or notunuz < 0:\n",
        "  print (\"Hatalı Giriş\")\n",
        "elif notunuz >= 80 and notunuz <= 100:\n",
        "  print (\"AA Tebrikler\")\n",
        "elif notunuz >= 50 and notunuz <=79:\n",
        "  print (\"BB- Çalışmaya Devam\")\n",
        "else: \n",
        "  print (\"Başarısız Bir Sınav Sonucu\")\n"
      ],
      "execution_count": null,
      "outputs": [
        {
          "output_type": "stream",
          "text": [
            "Notu Giriniz: 93\n",
            "AA Tebrikler\n"
          ],
          "name": "stdout"
        }
      ]
    },
    {
      "cell_type": "markdown",
      "metadata": {
        "id": "zUxW7_Ku97pu"
      },
      "source": [
        "#ÖDEV \n",
        "\n"
      ]
    },
    {
      "cell_type": "code",
      "metadata": {
        "id": "ANVYOHnm9599"
      },
      "source": [
        "# 18 Yaş Kontrolü Yapan IF bloğunu Yazınız... Kolaylıklar....y"
      ],
      "execution_count": null,
      "outputs": []
    }
  ]
}