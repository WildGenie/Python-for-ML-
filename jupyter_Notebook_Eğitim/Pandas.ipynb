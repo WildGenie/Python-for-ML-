{
  "nbformat": 4,
  "nbformat_minor": 0,
  "metadata": {
    "colab": {
      "name": "Pandas.ipynb",
      "provenance": [],
      "collapsed_sections": []
    },
    "kernelspec": {
      "name": "python3",
      "display_name": "Python 3"
    }
  },
  "cells": [
    {
      "cell_type": "markdown",
      "metadata": {
        "id": "qTaDivVHJnb1"
      },
      "source": [
        "#Pandas' da yine Anaconda Promptan pip install pandas komutu ile indirilebilir. İndirmez iseniz \n",
        "#programı çalıştırdığınızda hata alırsınız. \n",
        "\n",
        "#Pandas kütüphanesinin import edilmesi"
      ]
    },
    {
      "cell_type": "code",
      "metadata": {
        "id": "9W7-Cx8BIQZj"
      },
      "source": [
        "import numpy as np\n",
        "import pandas as pd #Genel import şekli \"pd\" kısaltması ile kulanmaktır. \n"
      ],
      "execution_count": null,
      "outputs": []
    },
    {
      "cell_type": "markdown",
      "metadata": {
        "id": "0ynhAAyjKpOs"
      },
      "source": [
        "#Pandas' ta veri yapıları vardır.. \n",
        "\n",
        "#Series-----tek boyutlu Numpy dizilerine çok benzerler. Genel kullanımı \n",
        "\"my_series = pd.Series(data,index)\"\n",
        "\n",
        "#DataFrames-- DataFrame’leri farklı tipteki sütunlara ve satırlara sahip bir SQL tablosu olarak düşünebiliriz.Genel kullanımı; \n",
        "my_dataframe = pd.DataFrame(data,index)\n",
        "\n"
      ]
    },
    {
      "cell_type": "code",
      "metadata": {
        "id": "2VPoUpQ9Leod",
        "colab": {
          "base_uri": "https://localhost:8080/",
          "height": 255
        },
        "outputId": "4c84e109-3269-4eeb-eeec-372897d3fc83"
      },
      "source": [
        "# Bir Numpy dizisi ve bir Pandas serisi oluşturup farklarına ve benzerliklerine bakalım. Böylece ayrımı daha net yapabiliriz. \n",
        "\n",
        "numbers = [0, 1, 2, 3, 4, 5, 6, 7, 8, 9]\n",
        "numpy_array = np.array(numbers)\n",
        "print(numpy_array)\n",
        "\n",
        "print (\"---------\")\n",
        "\n",
        "pandas_series = pd.Series(data=numbers)\n",
        "print(pandas_series)\n",
        "print (\"Pandas serilerinde index sütunu da bulunur\")\n",
        "#Index sütunu belirlemese bile default olarak pandas içinde oluşturulur. "
      ],
      "execution_count": null,
      "outputs": [
        {
          "output_type": "stream",
          "text": [
            "[0 1 2 3 4 5 6 7 8 9]\n",
            "---------\n",
            "0    0\n",
            "1    1\n",
            "2    2\n",
            "3    3\n",
            "4    4\n",
            "5    5\n",
            "6    6\n",
            "7    7\n",
            "8    8\n",
            "9    9\n",
            "dtype: int64\n",
            "Pandas serilerinde index sütunu da bulunur\n"
          ],
          "name": "stdout"
        }
      ]
    },
    {
      "cell_type": "code",
      "metadata": {
        "id": "y-_li_1wMCob",
        "colab": {
          "base_uri": "https://localhost:8080/",
          "height": 204
        },
        "outputId": "27720d19-5608-41f9-a807-4b09faf4e641"
      },
      "source": [
        "#Index verildiğinde ise; (Seri tipini Float olarak belirledik)\n",
        "my_index = ['a', 'b', 'c', 'd', 'e', 'f', 'g','h', 'i','j']\n",
        "pandas_series = pd.Series(data=numbers, index=my_index, dtype=float)\n",
        "print(pandas_series)"
      ],
      "execution_count": null,
      "outputs": [
        {
          "output_type": "stream",
          "text": [
            "a    0.0\n",
            "b    1.0\n",
            "c    2.0\n",
            "d    3.0\n",
            "e    4.0\n",
            "f    5.0\n",
            "g    6.0\n",
            "h    7.0\n",
            "i    8.0\n",
            "j    9.0\n",
            "dtype: float64\n"
          ],
          "name": "stdout"
        }
      ]
    },
    {
      "cell_type": "code",
      "metadata": {
        "id": "4rFygeqbMbmD",
        "colab": {
          "base_uri": "https://localhost:8080/",
          "height": 204
        },
        "outputId": "e08a80fa-de90-4634-b912-0cff31fc9bb2"
      },
      "source": [
        "numbers_dictionary = {'a': 0, 'b':1, 'c':2, 'd':3, 'e':4, 'f':5, 'g':6,'h':7, 'i':8,'j':9}\n",
        "pandas_series = pd.Series(data=numbers_dictionary)\n",
        "print(pandas_series)"
      ],
      "execution_count": null,
      "outputs": [
        {
          "output_type": "stream",
          "text": [
            "a    0\n",
            "b    1\n",
            "c    2\n",
            "d    3\n",
            "e    4\n",
            "f    5\n",
            "g    6\n",
            "h    7\n",
            "i    8\n",
            "j    9\n",
            "dtype: int64\n"
          ],
          "name": "stdout"
        }
      ]
    },
    {
      "cell_type": "markdown",
      "metadata": {
        "id": "q7BmUs3aM0_b"
      },
      "source": [
        "#ndim, dtype, shape.. gibi özellikleri seriyi incelemek için Pandas’ta da kullanabiliyoruz\n",
        "#max(), min(), sum(), median(), mean()… gibi özellikleri Numpy’da olduğu gibi Pandas’ta da kullanabiliyoruz.\n",
        "\n",
        "#Bu yüzden bunların kodlarını çalışmayı size bırakıyorum :) "
      ]
    },
    {
      "cell_type": "markdown",
      "metadata": {
        "id": "ufdP2qWBNGSK"
      },
      "source": [
        "#**DATAFRAMES**"
      ]
    },
    {
      "cell_type": "code",
      "metadata": {
        "id": "L6m3WgEsM83r",
        "colab": {
          "base_uri": "https://localhost:8080/",
          "height": 357
        },
        "outputId": "a133b37f-a3e4-4549-c38e-582512375b4b"
      },
      "source": [
        "#Data dictionary'lerden oluştuğunda\n",
        "dict1 = dict(a=1, b=2, c=3, d=4)\n",
        "dict2 = dict(a=5, b=6, c=7, d=8, e=9)\n",
        "data1 = dict(first=dict1, second=dict2)\n",
        "df1 = pd.DataFrame(data1)\n",
        "print(df1)\n",
        "\n",
        "print (\"----------\")\n",
        "\n",
        "#Data serilerden oluştuğunda\n",
        "s1 = pd.Series([1.1, 2.2, 3.3, 4.4])\n",
        "s2 = pd.Series(['a', 'b', 'c', 'd', 'e'])\n",
        "data2 = dict(first=s1, second=s2)\n",
        "df2 = pd.DataFrame(data2)\n",
        "print(df2)\n",
        "\n",
        "print (\"----------\")\n",
        "\n",
        "#Data başka bir DataFrame'den oluştuğunda\n",
        "df3 = pd.DataFrame(df2)\n",
        "print(df3)"
      ],
      "execution_count": null,
      "outputs": [
        {
          "output_type": "stream",
          "text": [
            "   first  second\n",
            "a    1.0       5\n",
            "b    2.0       6\n",
            "c    3.0       7\n",
            "d    4.0       8\n",
            "e    NaN       9\n",
            "----------\n",
            "   first second\n",
            "0    1.1      a\n",
            "1    2.2      b\n",
            "2    3.3      c\n",
            "3    4.4      d\n",
            "4    NaN      e\n",
            "----------\n",
            "   first second\n",
            "0    1.1      a\n",
            "1    2.2      b\n",
            "2    3.3      c\n",
            "3    4.4      d\n",
            "4    NaN      e\n"
          ],
          "name": "stdout"
        }
      ]
    },
    {
      "cell_type": "markdown",
      "metadata": {
        "id": "Qpygo24sOENJ"
      },
      "source": [
        "#DataFrame nesneleri satır ve sütun adlarına sahip olduğu için Numpy’ dan farklı olarak bu satır ve sütun adlarıyla istediğimiz veriyi seçebiliriz. Seçme işlemleri için “.loc[]” kullanılabilir. Genel kullanımı:\n",
        "\n",
        "df.loc[row, column]\n",
        "\n",
        "![alt text](https://miro.medium.com/max/1360/1*2knzkEwBgxdaoo9TUZ74CA.png)\n",
        "\n",
        "#Görsel Data Quest sitesinden alıntılanmıştır daha fazla detay için siteden yararlanabilirsiniz.\n",
        "#Bilişim Hareketi' nin Medium sayfasından çok dha detaylı okumalar yapabilirsiniz. \n",
        "\n",
        "# \"https://medium.com/bili%C5%9Fim-hareketi\""
      ]
    }
  ]
}